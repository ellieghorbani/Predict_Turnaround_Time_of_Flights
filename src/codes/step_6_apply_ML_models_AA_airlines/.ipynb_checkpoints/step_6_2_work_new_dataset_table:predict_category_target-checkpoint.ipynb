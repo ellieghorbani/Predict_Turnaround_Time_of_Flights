{
 "cells": [
  {
   "cell_type": "code",
   "execution_count": 40,
   "metadata": {},
   "outputs": [],
   "source": [
    "import numpy as np\n",
    "import pandas as pd\n",
    "import matplotlib.pyplot as plt\n",
    "from datetime import datetime, date, time \n",
    "from scipy import stats\n",
    "from sklearn.model_selection import train_test_split"
   ]
  },
  {
   "cell_type": "markdown",
   "metadata": {},
   "source": [
    "# Read Data!"
   ]
  },
  {
   "cell_type": "code",
   "execution_count": 41,
   "metadata": {},
   "outputs": [
    {
     "name": "stdout",
     "output_type": "stream",
     "text": [
      "shape of data: (673631, 23)\n"
     ]
    },
    {
     "data": {
      "text/html": [
       "<div>\n",
       "<style scoped>\n",
       "    .dataframe tbody tr th:only-of-type {\n",
       "        vertical-align: middle;\n",
       "    }\n",
       "\n",
       "    .dataframe tbody tr th {\n",
       "        vertical-align: top;\n",
       "    }\n",
       "\n",
       "    .dataframe thead th {\n",
       "        text-align: right;\n",
       "    }\n",
       "</style>\n",
       "<table border=\"1\" class=\"dataframe\">\n",
       "  <thead>\n",
       "    <tr style=\"text-align: right;\">\n",
       "      <th></th>\n",
       "      <th>Unnamed: 0</th>\n",
       "      <th>AIRLINE</th>\n",
       "      <th>airport_A</th>\n",
       "      <th>airport_B</th>\n",
       "      <th>airport_C</th>\n",
       "      <th>turnaround_time_ B</th>\n",
       "      <th>DEPARTURE_DELAY_AB</th>\n",
       "      <th>ARRIVAL_DELAY_AB</th>\n",
       "      <th>ELAPSED_TIME_AB</th>\n",
       "      <th>DISTANCE_AB</th>\n",
       "      <th>...</th>\n",
       "      <th>DEPARTURE_day_AB</th>\n",
       "      <th>DEPARTURE_month_AB</th>\n",
       "      <th>ARRIVAL_HOUR_AB</th>\n",
       "      <th>ARRIVAL_weekday_AB</th>\n",
       "      <th>ARRIVAL_day_AB</th>\n",
       "      <th>ARRIVAL_month_AB</th>\n",
       "      <th>SCHEDULED_DEPARTURE_HOUR_BC</th>\n",
       "      <th>SCHEDULED_DEPARTURE_weekday_BC</th>\n",
       "      <th>SCHEDULED_DEPARTURE_day_BC</th>\n",
       "      <th>SCHEDULED_DEPARTURE_month_BC</th>\n",
       "    </tr>\n",
       "  </thead>\n",
       "  <tbody>\n",
       "    <tr>\n",
       "      <th>0</th>\n",
       "      <td>772</td>\n",
       "      <td>AA</td>\n",
       "      <td>DFW</td>\n",
       "      <td>MEM</td>\n",
       "      <td>DFW</td>\n",
       "      <td>0.700000</td>\n",
       "      <td>-3.0</td>\n",
       "      <td>-6.0</td>\n",
       "      <td>82.0</td>\n",
       "      <td>432</td>\n",
       "      <td>...</td>\n",
       "      <td>1</td>\n",
       "      <td>1</td>\n",
       "      <td>15</td>\n",
       "      <td>3</td>\n",
       "      <td>1</td>\n",
       "      <td>1</td>\n",
       "      <td>15</td>\n",
       "      <td>3</td>\n",
       "      <td>1</td>\n",
       "      <td>1</td>\n",
       "    </tr>\n",
       "    <tr>\n",
       "      <th>1</th>\n",
       "      <td>773</td>\n",
       "      <td>AA</td>\n",
       "      <td>MEM</td>\n",
       "      <td>DFW</td>\n",
       "      <td>ATL</td>\n",
       "      <td>13.516667</td>\n",
       "      <td>-4.0</td>\n",
       "      <td>-9.0</td>\n",
       "      <td>95.0</td>\n",
       "      <td>432</td>\n",
       "      <td>...</td>\n",
       "      <td>1</td>\n",
       "      <td>1</td>\n",
       "      <td>17</td>\n",
       "      <td>3</td>\n",
       "      <td>1</td>\n",
       "      <td>1</td>\n",
       "      <td>7</td>\n",
       "      <td>4</td>\n",
       "      <td>2</td>\n",
       "      <td>1</td>\n",
       "    </tr>\n",
       "    <tr>\n",
       "      <th>2</th>\n",
       "      <td>774</td>\n",
       "      <td>AA</td>\n",
       "      <td>DFW</td>\n",
       "      <td>ATL</td>\n",
       "      <td>DFW</td>\n",
       "      <td>0.683333</td>\n",
       "      <td>-8.0</td>\n",
       "      <td>-9.0</td>\n",
       "      <td>124.0</td>\n",
       "      <td>731</td>\n",
       "      <td>...</td>\n",
       "      <td>2</td>\n",
       "      <td>1</td>\n",
       "      <td>9</td>\n",
       "      <td>4</td>\n",
       "      <td>2</td>\n",
       "      <td>1</td>\n",
       "      <td>10</td>\n",
       "      <td>4</td>\n",
       "      <td>2</td>\n",
       "      <td>1</td>\n",
       "    </tr>\n",
       "    <tr>\n",
       "      <th>3</th>\n",
       "      <td>775</td>\n",
       "      <td>AA</td>\n",
       "      <td>ATL</td>\n",
       "      <td>DFW</td>\n",
       "      <td>GUC</td>\n",
       "      <td>0.850000</td>\n",
       "      <td>-8.0</td>\n",
       "      <td>2.0</td>\n",
       "      <td>160.0</td>\n",
       "      <td>731</td>\n",
       "      <td>...</td>\n",
       "      <td>2</td>\n",
       "      <td>1</td>\n",
       "      <td>12</td>\n",
       "      <td>4</td>\n",
       "      <td>2</td>\n",
       "      <td>1</td>\n",
       "      <td>13</td>\n",
       "      <td>4</td>\n",
       "      <td>2</td>\n",
       "      <td>1</td>\n",
       "    </tr>\n",
       "  </tbody>\n",
       "</table>\n",
       "<p>4 rows × 23 columns</p>\n",
       "</div>"
      ],
      "text/plain": [
       "   Unnamed: 0 AIRLINE airport_A airport_B airport_C  turnaround_time_ B  \\\n",
       "0         772      AA       DFW       MEM       DFW            0.700000   \n",
       "1         773      AA       MEM       DFW       ATL           13.516667   \n",
       "2         774      AA       DFW       ATL       DFW            0.683333   \n",
       "3         775      AA       ATL       DFW       GUC            0.850000   \n",
       "\n",
       "   DEPARTURE_DELAY_AB  ARRIVAL_DELAY_AB  ELAPSED_TIME_AB  DISTANCE_AB  ...  \\\n",
       "0                -3.0              -6.0             82.0          432  ...   \n",
       "1                -4.0              -9.0             95.0          432  ...   \n",
       "2                -8.0              -9.0            124.0          731  ...   \n",
       "3                -8.0               2.0            160.0          731  ...   \n",
       "\n",
       "   DEPARTURE_day_AB  DEPARTURE_month_AB  ARRIVAL_HOUR_AB  ARRIVAL_weekday_AB  \\\n",
       "0                 1                   1               15                   3   \n",
       "1                 1                   1               17                   3   \n",
       "2                 2                   1                9                   4   \n",
       "3                 2                   1               12                   4   \n",
       "\n",
       "   ARRIVAL_day_AB  ARRIVAL_month_AB  SCHEDULED_DEPARTURE_HOUR_BC  \\\n",
       "0               1                 1                           15   \n",
       "1               1                 1                            7   \n",
       "2               2                 1                           10   \n",
       "3               2                 1                           13   \n",
       "\n",
       "   SCHEDULED_DEPARTURE_weekday_BC  SCHEDULED_DEPARTURE_day_BC  \\\n",
       "0                               3                           1   \n",
       "1                               4                           2   \n",
       "2                               4                           2   \n",
       "3                               4                           2   \n",
       "\n",
       "   SCHEDULED_DEPARTURE_month_BC  \n",
       "0                             1  \n",
       "1                             1  \n",
       "2                             1  \n",
       "3                             1  \n",
       "\n",
       "[4 rows x 23 columns]"
      ]
     },
     "execution_count": 41,
     "metadata": {},
     "output_type": "execute_result"
    }
   ],
   "source": [
    "data = pd.read_csv(\"data_seen_AA_airlines.csv\")\n",
    "print('shape of data:', data.shape)\n",
    "data.head(4)"
   ]
  },
  {
   "cell_type": "code",
   "execution_count": 42,
   "metadata": {},
   "outputs": [
    {
     "data": {
      "text/plain": [
       "Index(['Unnamed: 0', 'AIRLINE', 'airport_A', 'airport_B', 'airport_C',\n",
       "       'turnaround_time_ B', 'DEPARTURE_DELAY_AB', 'ARRIVAL_DELAY_AB',\n",
       "       'ELAPSED_TIME_AB', 'DISTANCE_AB', 'DISTANCEBC', 'DEPARTURE_HOUR_AB',\n",
       "       'DEPARTURE_weekday_AB', 'DEPARTURE_day_AB', 'DEPARTURE_month_AB',\n",
       "       'ARRIVAL_HOUR_AB', 'ARRIVAL_weekday_AB', 'ARRIVAL_day_AB',\n",
       "       'ARRIVAL_month_AB', 'SCHEDULED_DEPARTURE_HOUR_BC',\n",
       "       'SCHEDULED_DEPARTURE_weekday_BC', 'SCHEDULED_DEPARTURE_day_BC',\n",
       "       'SCHEDULED_DEPARTURE_month_BC'],\n",
       "      dtype='object')"
      ]
     },
     "execution_count": 42,
     "metadata": {},
     "output_type": "execute_result"
    }
   ],
   "source": [
    "data.columns"
   ]
  },
  {
   "cell_type": "code",
   "execution_count": 43,
   "metadata": {},
   "outputs": [
    {
     "data": {
      "text/plain": [
       "(623631, 578)"
      ]
     },
     "execution_count": 43,
     "metadata": {},
     "output_type": "execute_result"
    }
   ],
   "source": [
    "target = data['turnaround_time_ B']\n",
    "features = pd.get_dummies(data[['airport_A', 'airport_B', 'airport_C',\n",
    "       'DEPARTURE_DELAY_AB', 'ARRIVAL_DELAY_AB',\n",
    "       'ELAPSED_TIME_AB', 'DISTANCE_AB', 'DISTANCEBC', 'DEPARTURE_HOUR_AB',\n",
    "       'DEPARTURE_weekday_AB', 'DEPARTURE_day_AB', 'DEPARTURE_month_AB',\n",
    "       'ARRIVAL_HOUR_AB', 'ARRIVAL_weekday_AB', 'ARRIVAL_day_AB',\n",
    "       'ARRIVAL_month_AB', 'SCHEDULED_DEPARTURE_HOUR_BC',\n",
    "       'SCHEDULED_DEPARTURE_weekday_BC', 'SCHEDULED_DEPARTURE_day_BC',\n",
    "       'SCHEDULED_DEPARTURE_month_BC']])\n",
    "\n",
    "features.shape"
   ]
  },
  {
   "cell_type": "code",
   "execution_count": 44,
   "metadata": {},
   "outputs": [
    {
     "data": {
      "text/plain": [
       "0     0.700000\n",
       "1    13.516667\n",
       "3     0.850000\n",
       "5    12.816667\n",
       "7     0.650000\n",
       "Name: turnaround_time_ B, dtype: float64"
      ]
     },
     "execution_count": 44,
     "metadata": {},
     "output_type": "execute_result"
    }
   ],
   "source": [
    "target_seen.head()"
   ]
  },
  {
   "cell_type": "code",
   "execution_count": 45,
   "metadata": {},
   "outputs": [
    {
     "data": {
      "text/plain": [
       "1.0    451667\n",
       "2.0    171964\n",
       "Name: turnaround_time_ B, dtype: int64"
      ]
     },
     "execution_count": 45,
     "metadata": {},
     "output_type": "execute_result"
    }
   ],
   "source": [
    "target = target_seen.copy()\n",
    "target[target <= 4]= 1\n",
    "target[target  > 4]= 2\n",
    "target.value_counts()"
   ]
  },
  {
   "cell_type": "markdown",
   "metadata": {},
   "source": [
    "### Models:\n",
    "- Logistic Regression\n",
    "- k-Nearest Neighbors\n",
    "- Decision Trees\n",
    "- Support Vector Machine\n",
    "- Naive Bayes"
   ]
  },
  {
   "cell_type": "markdown",
   "metadata": {},
   "source": [
    "### Logistic Regression"
   ]
  },
  {
   "cell_type": "code",
   "execution_count": null,
   "metadata": {},
   "outputs": [],
   "source": [
    "from sklearn.linear_model import LogisticRegression\n",
    "from sklearn.metrics import classification_report, confusion_matrix\n",
    "\n",
    "def logistic_model(features_data, target_data, num_sample, rand_state):\n",
    "    features_data_sub = features_data.sample(num_sample)\n",
    "    features_unseen =  features_data.drop(features_data_sub.index)\n",
    "    target_data_sub = target_data[features_data_sub.index]\n",
    "    target_unseen = target_data.drop(features_data_sub.index)\n",
    "    X_train, X_test, y_train, y_test = train_test_split(features_data_sub, target_data_sub, \n",
    "                                                        random_state=rand_state, test_size=0.2)\n",
    "\n",
    "    model = LogisticRegression(solver='liblinear', random_state=0)\n",
    "    model.fit(X_train, y_train)\n",
    "    y_test_predict = model.predict(X_test)\n",
    "    y_predict = model.predict(features_unseen)\n",
    "    #-------------------------------------------------------\n",
    "    cm1 = confusion_matrix(y_test, y_test_predict)\n",
    "    cm2 = confusion_matrix(target_unseen, y_predict)\n",
    "    fig, ax = plt.subplots(1,2, figsize=(8, 8))\n",
    "    for k in range(2):\n",
    "        ax[k].imshow(cm1)\n",
    "        ax[k].grid(False)\n",
    "        ax[k].xaxis.set(ticks=(0, 1), ticklabels=('Predicted 0s', 'Predicted 1s'))\n",
    "        ax[k].set_ylim(1.5, -0.5)\n",
    "    ax[0].yaxis.set(ticks=(0, 1), ticklabels=('Actual 0s', 'Actual 1s'))\n",
    "    plt.sca(ax[0])\n",
    "    plt.title('Predict Test Data')\n",
    "    plt.sca(ax[1])\n",
    "    plt.title('Predict Unseen Data')\n",
    "    \n",
    "    print(cm1.sum(axis=0)[0])\n",
    "    for i in range(2):\n",
    "        for j in range(2):\n",
    "            ax[0].text(j, i, ('% {}').format(int(cm1[i, j]/cm1.sum(axis= 1)[i]*100)), ha='center', va='center', color='red')\n",
    "    for i in range(2):\n",
    "        for j in range(2):\n",
    "            ax[1].text(j, i, ('% {}').format(int(cm2[i, j]/cm2.sum(axis= 1)[i]*100)), ha='center', va='center', color='red')\n",
    "    plt.show()"
   ]
  },
  {
   "cell_type": "code",
   "execution_count": null,
   "metadata": {},
   "outputs": [],
   "source": [
    "logistic_model(features, target, 200000, 1222)"
   ]
  },
  {
   "cell_type": "markdown",
   "metadata": {},
   "source": [
    "### k-Nearest Neighbors"
   ]
  },
  {
   "cell_type": "code",
   "execution_count": null,
   "metadata": {},
   "outputs": [],
   "source": [
    "from sklearn.neighbors import KNeighborsClassifier\n",
    "from sklearn.metrics import classification_report\n",
    "from sklearn.metrics import confusion_matrix\n",
    "\n",
    "\n",
    "def knn_model(features_data, target_data, num_sample, rand_state, number_neighbors):\n",
    "    features_data_sub = features_data.sample(num_sample)\n",
    "    features_unseen =  features_data.drop(features_data_sub.index)\n",
    "    target_data_sub = target_data[features_data_sub.index]\n",
    "    target_unseen = target_data.drop(features_data_sub.index)\n",
    "    X_train, X_test, y_train, y_test = train_test_split(features_data_sub, target_data_sub, \n",
    "                                                        random_state=rand_state, test_size=0.2)\n",
    "    error_rates = []\n",
    "    for i in range(1,number_neighbors):\n",
    "        model = KNeighborsClassifier(n_neighbors = i)\n",
    "        model.fit(X_train, y_train)\n",
    "        y_test_predict = model.predict(X_test)\n",
    "        error_rates.append(np.mean(y_test_predict != y_test))\n",
    "    #-------------------------------------------------------\n",
    "    min_error = min(error_rates)\n",
    "    max_knn = min(np.where(error_rates == min_error))\n",
    "    plt.plot(error_rates)\n",
    "    plt.xlabel('Number_neighbors')\n",
    "    plt.ylabel('error_rates')\n",
    "    plt.legend()\n",
    "    plt.show()\n",
    "    print('max_knn = ',max_knn[0])\n",
    "    #-----------------------------------------------------------\n",
    "    model = KNeighborsClassifier(n_neighbors = 7)\n",
    "    model.fit(X_train, y_train)\n",
    "    y_test_predict = model.predict(X_test)\n",
    "    model.fit(X_train, y_train)\n",
    "    y_test_predict = model.predict(X_test)\n",
    "    y_predict = model.predict(features_unseen)\n",
    "    #-------------------------------------------------------\n",
    "    cm1 = confusion_matrix(y_test, y_test_predict)\n",
    "    cm2 = confusion_matrix(target_unseen, y_predict)\n",
    "    fig, ax = plt.subplots(1,2, figsize=(8, 8))\n",
    "    for k in range(2):\n",
    "        ax[k].imshow(cm1)\n",
    "        ax[k].grid(False)\n",
    "        ax[k].xaxis.set(ticks=(0, 1), ticklabels=('Predicted 0s', 'Predicted 1s'))\n",
    "        ax[k].set_ylim(1.5, -0.5)\n",
    "    ax[0].yaxis.set(ticks=(0, 1), ticklabels=('Actual 0s', 'Actual 1s'))\n",
    "    plt.sca(ax[0])\n",
    "    plt.title('Predict Test Data')\n",
    "    plt.sca(ax[1])\n",
    "    plt.title('Predict Unseen Data')\n",
    "    \n",
    "    print(cm1.sum(axis=0)[0])\n",
    "    for i in range(2):\n",
    "        for j in range(2):\n",
    "            ax[0].text(j, i, ('% {}').format(int(cm1[i, j]/cm1.sum(axis= 1)[i]*100)), ha='center', va='center', color='red')\n",
    "    for i in range(2):\n",
    "        for j in range(2):\n",
    "            ax[1].text(j, i, ('% {}').format(int(cm2[i, j]/cm2.sum(axis= 1)[i]*100)), ha='center', va='center', color='red')\n",
    "    plt.show()  \n"
   ]
  },
  {
   "cell_type": "code",
   "execution_count": null,
   "metadata": {},
   "outputs": [],
   "source": [
    "knn_model(features, target, 200000, 1014, 100)"
   ]
  },
  {
   "cell_type": "markdown",
   "metadata": {},
   "source": [
    "### Random Forest Classifier"
   ]
  },
  {
   "cell_type": "code",
   "execution_count": 46,
   "metadata": {},
   "outputs": [],
   "source": [
    "from sklearn.ensemble import RandomForestClassifier\n",
    "from sklearn.metrics import confusion_matrix\n",
    "\n",
    "def RandomForestClassifier_model(features_data, target_data, num_sample, rand_state):\n",
    "    features_data_sub = features_data.sample(num_sample)\n",
    "    features_unseen =  features_data.drop(features_data_sub.index)\n",
    "    target_data_sub = target_data[features_data_sub.index]\n",
    "    target_unseen = target_data.drop(features_data_sub.index)\n",
    "    X_train, X_test, y_train, y_test = train_test_split(features_data_sub, target_data_sub, \n",
    "                                                        random_state=rand_state, test_size=0.2)\n",
    "\n",
    "    model = RandomForestClassifier(n_estimators= 200, max_depth = 30, random_state=100)\n",
    "    model.fit(X_train, y_train)\n",
    "    y_test_predict = model.predict(X_test)\n",
    "    y_predict = model.predict(features_unseen)\n",
    "    #-------------------------------------------------------\n",
    "    cm1 = confusion_matrix(y_test, y_test_predict)\n",
    "    cm2 = confusion_matrix(target_unseen, y_predict)\n",
    "    fig, ax = plt.subplots(1,2, figsize=(8, 8))\n",
    "    for k in range(2):\n",
    "        ax[k].imshow(cm1)\n",
    "        ax[k].grid(False)\n",
    "        ax[k].xaxis.set(ticks=(0, 1), ticklabels=('Predicted 0s', 'Predicted 1s'))\n",
    "        ax[k].set_ylim(1.5, -0.5)\n",
    "    ax[0].yaxis.set(ticks=(0, 1), ticklabels=('Actual 0s', 'Actual 1s'))\n",
    "    plt.sca(ax[0])\n",
    "    plt.title('Predict Test Data')\n",
    "    plt.sca(ax[1])\n",
    "    plt.title('Predict Unseen Data')\n",
    "    \n",
    "    print(cm1.sum(axis=0)[0])\n",
    "    for i in range(2):\n",
    "        for j in range(2):\n",
    "            ax[0].text(j, i, ('% {}').format(int(cm1[i, j]/cm1.sum(axis= 1)[i]*100)), ha='center', va='center', color='red')\n",
    "    for i in range(2):\n",
    "        for j in range(2):\n",
    "            ax[1].text(j, i, ('% {}').format(int(cm2[i, j]/cm2.sum(axis= 1)[i]*100)), ha='center', va='center', color='red')\n",
    "    plt.show()\n",
    "    return model"
   ]
  },
  {
   "cell_type": "code",
   "execution_count": 47,
   "metadata": {},
   "outputs": [
    {
     "name": "stdout",
     "output_type": "stream",
     "text": [
      "30484\n"
     ]
    },
    {
     "data": {
      "image/png": "[encoded data removed]",
      "text/plain": [
       "<Figure size 576x576 with 2 Axes>"
      ]
     },
     "metadata": {
      "needs_background": "light"
     },
     "output_type": "display_data"
    }
   ],
   "source": [
    "model_RandomForestClassifier = RandomForestClassifier_model(features, target, 200000, 1040)"
   ]
  },
  {
   "cell_type": "markdown",
   "metadata": {},
   "source": [
    "### Support Vector Machine"
   ]
  },
  {
   "cell_type": "code",
   "execution_count": null,
   "metadata": {},
   "outputs": [],
   "source": [
    "from sklearn.svm import SVC\n",
    "\n",
    "def SupportVectorMachine_model(features_data, target_data, num_sample, rand_state):\n",
    "    features_data_sub = features_data.sample(num_sample)\n",
    "    features_unseen =  features_data.drop(features_data_sub.index)\n",
    "    target_data_sub = target_data[features_data_sub.index]\n",
    "    target_unseen = target_data.drop(features_data_sub.index)\n",
    "    X_train, X_test, y_train, y_test = train_test_split(features_data_sub, target_data_sub, \n",
    "                                                        random_state=rand_state, test_size=0.2)\n",
    "\n",
    "    model = SVC(kernel='linear')\n",
    "    model.fit(X_train, y_train)\n",
    "    y_test_predict = model.predict(X_test)\n",
    "    y_predict = model.predict(features_unseen)\n",
    "    #-------------------------------------------------------\n",
    "    cm1 = confusion_matrix(y_test, y_test_predict)\n",
    "    cm2 = confusion_matrix(target_unseen, y_predict)\n",
    "    fig, ax = plt.subplots(1,2, figsize=(8, 8))\n",
    "    for k in range(2):\n",
    "        ax[k].imshow(cm1)\n",
    "        ax[k].grid(False)\n",
    "        ax[k].xaxis.set(ticks=(0, 1), ticklabels=('Predicted 0s', 'Predicted 1s'))\n",
    "        ax[k].set_ylim(1.5, -0.5)\n",
    "    ax[0].yaxis.set(ticks=(0, 1), ticklabels=('Actual 0s', 'Actual 1s'))\n",
    "    plt.sca(ax[0])\n",
    "    plt.title('Predict Test Data')\n",
    "    plt.sca(ax[1])\n",
    "    plt.title('Predict Unseen Data')\n",
    "    \n",
    "    print(cm1.sum(axis=0)[0])\n",
    "    for i in range(2):\n",
    "        for j in range(2):\n",
    "            ax[0].text(j, i, ('% {}').format(int(cm1[i, j]/cm1.sum(axis= 1)[i]*100)), ha='center', va='center', color='red')\n",
    "    for i in range(2):\n",
    "        for j in range(2):\n",
    "            ax[1].text(j, i, ('% {}').format(int(cm2[i, j]/cm2.sum(axis= 1)[i]*100)), ha='center', va='center', color='red')\n",
    "    plt.show()"
   ]
  },
  {
   "cell_type": "code",
   "execution_count": null,
   "metadata": {},
   "outputs": [],
   "source": [
    "SupportVectorMachine_model(features, target, 400000, 1059)"
   ]
  },
  {
   "cell_type": "markdown",
   "metadata": {},
   "source": [
    "###  Gaussian Naive Bayes"
   ]
  },
  {
   "cell_type": "code",
   "execution_count": null,
   "metadata": {},
   "outputs": [],
   "source": [
    "from sklearn.naive_bayes import GaussianNB\n",
    "from sklearn.metrics import confusion_matrix\n",
    "\n",
    "def GaussianNaiveBayes_model(features_data, target_data, num_sample, rand_state):\n",
    "    features_data_sub = features_data.sample(num_sample)\n",
    "    features_unseen =  features_data.drop(features_data_sub.index)\n",
    "    target_data_sub = target_data[features_data_sub.index]\n",
    "    target_unseen = target_data.drop(features_data_sub.index)\n",
    "    X_train, X_test, y_train, y_test = train_test_split(features_data_sub, target_data_sub, \n",
    "                                                        random_state=rand_state, test_size=0.2)\n",
    "\n",
    "    model = GaussianNB()\n",
    "    model.fit(X_train, y_train)\n",
    "    y_test_predict = model.predict(X_test)\n",
    "    y_predict = model.predict(features_unseen)\n",
    "    #-------------------------------------------------------\n",
    "    cm1 = confusion_matrix(y_test, y_test_predict)\n",
    "    cm2 = confusion_matrix(target_unseen, y_predict)\n",
    "    fig, ax = plt.subplots(1,2, figsize=(8, 8))\n",
    "    for k in range(2):\n",
    "        ax[k].imshow(cm1)\n",
    "        ax[k].grid(False)\n",
    "        ax[k].xaxis.set(ticks=(0, 1), ticklabels=('Predicted 0s', 'Predicted 1s'))\n",
    "        ax[k].set_ylim(1.5, -0.5)\n",
    "    ax[0].yaxis.set(ticks=(0, 1), ticklabels=('Actual 0s', 'Actual 1s'))\n",
    "    plt.sca(ax[0])\n",
    "    plt.title('Predict Test Data')\n",
    "    plt.sca(ax[1])\n",
    "    plt.title('Predict Unseen Data')\n",
    "    \n",
    "    print(cm1.sum(axis=0)[0])\n",
    "    for i in range(2):\n",
    "        for j in range(2):\n",
    "            ax[0].text(j, i, ('% {}').format(int(cm1[i, j]/cm1.sum(axis= 1)[i]*100)), ha='center', va='center', color='red')\n",
    "    for i in range(2):\n",
    "        for j in range(2):\n",
    "            ax[1].text(j, i, ('% {}').format(int(cm2[i, j]/cm2.sum(axis= 1)[i]*100)), ha='center', va='center', color='red')\n",
    "    plt.show()"
   ]
  },
  {
   "cell_type": "code",
   "execution_count": null,
   "metadata": {},
   "outputs": [],
   "source": [
    "GaussianNaiveBayes_model(features, target, 200000, 1235)"
   ]
  },
  {
   "cell_type": "markdown",
   "metadata": {},
   "source": [
    "### CHeck our the best model"
   ]
  },
  {
   "cell_type": "code",
   "execution_count": 48,
   "metadata": {},
   "outputs": [
    {
     "name": "stdout",
     "output_type": "stream",
     "text": [
      "38099\n"
     ]
    },
    {
     "data": {
      "image/png": "[encoded data removed]",
      "text/plain": [
       "<Figure size 216x216 with 1 Axes>"
      ]
     },
     "metadata": {
      "needs_background": "light"
     },
     "output_type": "display_data"
    }
   ],
   "source": [
    "target_unseen_predict_forest = model_RandomForestClassifier.predict(features_unseen)\n",
    "target_unseen_p = target_unseen.copy()\n",
    "target_unseen_p[target_unseen <= 4] = 1\n",
    "target_unseen_p[target_unseen > 4] = 2\n",
    "### plot category of distrbutions based on Random Forest \n",
    "cm = confusion_matrix(target_unseen_p, target_unseen_predict_forest)\n",
    "fig, ax = plt.subplots(figsize=(3, 3))\n",
    "ax.imshow(cm)\n",
    "ax.grid(False)\n",
    "ax.xaxis.set(ticks=(0, 1), ticklabels=('Predicted 0s', 'Predicted 1s'))\n",
    "ax.set_ylim(1.5, -0.5)\n",
    "ax.yaxis.set(ticks=(0, 1), ticklabels=('Actual 0s', 'Actual 1s'))\n",
    "plt.sca(ax)\n",
    "plt.title('Predict Unseen Data')\n",
    "    \n",
    "print(cm.sum(axis=0)[0])\n",
    "for i in range(2):\n",
    "        for j in range(2):\n",
    "            ax.text(j, i, ('% {}').format(int(cm[i, j]/cm.sum(axis= 1)[i]*100)), ha='center', va='center', color='red')\n",
    "plt.show()"
   ]
  },
  {
   "cell_type": "code",
   "execution_count": 60,
   "metadata": {},
   "outputs": [
    {
     "name": "stdout",
     "output_type": "stream",
     "text": [
      "True\n",
      "mean(target_unseen_1) 1.2094606396572805 mean(target_unseen_2) 10.512053950464546\n",
      "mean(target_unseen_predict_forest_1) 1.8272623078471002 mean(target_unseen_predict_forest_2) 9.972531720023527\n"
     ]
    }
   ],
   "source": [
    "# seprate unseen data two distributions without random forest model\n",
    "index1 = target_unseen_p[target_unseen_p == 1].index\n",
    "index2 = target_unseen_p[target_unseen_p == 2].index\n",
    "print( set(index1).issubset(features_unseen.index))\n",
    "features_unseen_1 = features_unseen.loc[index1]\n",
    "features_unseen_2 = features_unseen.loc[index2]\n",
    "target_unseen_1 = target_unseen[index1]\n",
    "target_unseen_2 = target_unseen[index2]\n",
    "print('mean(target_unseen_1)', np.mean(target_unseen_1), 'mean(target_unseen_2)', np.mean(target_unseen_2))\n",
    "#----------------------------------------------------------------\n",
    "#predict distribution of data by useing random forest model\n",
    "index1 = target_unseen_p[target_unseen_predict_forest == 1].index\n",
    "index2 = target_unseen_p[target_unseen_predict_forest == 2].index\n",
    "features_unseen_predict_forest_1 = features_unseen.loc[index1]\n",
    "features_unseen_predict_forest_2 = features_unseen.loc[index2]\n",
    "target_unseen_predict_forest_1 = target_unseen[index1]\n",
    "target_unseen_predict_forest_2 = target_unseen[index2]\n",
    "print('mean(target_unseen_predict_forest_1)', np.mean(target_unseen_predict_forest_1), 'mean(target_unseen_predict_forest_2)', np.mean(target_unseen_predict_forest_2))"
   ]
  },
  {
   "cell_type": "code",
   "execution_count": 50,
   "metadata": {},
   "outputs": [
    {
     "data": {
      "text/plain": [
       "272902    12.550000\n",
       "459603     6.883333\n",
       "272293    11.566667\n",
       "87780     10.133333\n",
       "600169    11.333333\n",
       "            ...    \n",
       "581468    12.350000\n",
       "265829     9.683333\n",
       "135958    18.533333\n",
       "188533     9.166667\n",
       "197591     8.383333\n",
       "Name: turnaround_time_ B, Length: 11901, dtype: float64"
      ]
     },
     "execution_count": 50,
     "metadata": {},
     "output_type": "execute_result"
    }
   ],
   "source": [
    "target_unseen_predict_forest_2"
   ]
  },
  {
   "cell_type": "markdown",
   "metadata": {},
   "source": [
    "# make model to predict TAT"
   ]
  },
  {
   "cell_type": "code",
   "execution_count": 51,
   "metadata": {},
   "outputs": [
    {
     "name": "stdout",
     "output_type": "stream",
     "text": [
      "(451667, 578)\n",
      "(171964, 578)\n"
     ]
    }
   ],
   "source": [
    "target_1, target_2 = target_seen[target_seen<= 4], target_seen[target_seen> 4]\n",
    "index_1 = target_1.index\n",
    "index_2 = target_2.index\n",
    "features_1, features_2 = features.loc[index_1], features.loc[index_2]\n",
    "print(features_1.shape)\n",
    "print(features_2.shape)\n"
   ]
  },
  {
   "cell_type": "code",
   "execution_count": 52,
   "metadata": {},
   "outputs": [],
   "source": [
    "from sklearn.ensemble import GradientBoostingRegressor\n",
    "from sklearn.model_selection import train_test_split\n",
    "from sklearn.metrics import confusion_matrix\n",
    "from sklearn.metrics import mean_squared_error, r2_score\n",
    "\n",
    "def gbr_model(features_data, target_data, num_sample, rand_state, name_target):\n",
    "    features_data_sub = features_data.sample(num_sample)\n",
    "    target_data_sub = target_data[features_data_sub.index]\n",
    "    X_train, X_test, y_train, y_test = train_test_split(features_data_sub, target_data_sub,\n",
    "                                                    random_state=rand_state, test_size=0.2)\n",
    "    gbr = GradientBoostingRegressor(n_estimators = 500, max_depth = 10, min_samples_split = 5,\n",
    "          learning_rate = 0.1, loss= 'ls')\n",
    "    gbr.fit(X_train, y_train)\n",
    "    y_test_predict = gbr.predict(X_test)\n",
    "    y_predict = gbr.predict(features_data)\n",
    "    data_frame = pd.DataFrame([[name_target, 'Gradient Boosting Regressor', np.sqrt(sum((y_test - y_test_predict)**2)/len(y_test)),\n",
    "                              np.sqrt(sum((y_test - np.mean(y_test))**2)/len(y_test)),\n",
    "                              np.mean(target_data),np.mean(target_data_sub), np.mean(y_train), \n",
    "                              np.mean(y_test), np.mean(y_test_predict), np.mean(y_predict)]], \n",
    "                              columns = ['name_target','model','RMS_test_predict','RMS_test_mean',\n",
    "                                        'mean_target','mean_sample', 'mean_train', \n",
    "                                        'mean_test', 'mean_test_predict', 'meant_target_predict'])\n",
    "    # Plot the feature importance\n",
    "    \n",
    "    all_features = gbr.feature_importances_\n",
    "    feat_scores_gbr = pd.DataFrame({'Fraction of Samples Affected {} {}'.format('Gradient Boosting', name_target) : all_features}, index=X_train.columns)\n",
    "    feat_scores_gbr = feat_scores_gbr.sort_values(by='Fraction of Samples Affected {} {}'.format('Gradient Boosting', name_target) )\n",
    "    feat_scores_gbr = feat_scores_gbr[-15:]\n",
    "    plt.figure(figsize=(10, 50))\n",
    "    feat_scores_gbr.plot(kind='barh')\n",
    "    plt.legend(loc='lower right')\n",
    "    \n",
    "    return y_test, y_test_predict,y_predict, data_frame, feat_scores_gbr, gbr"
   ]
  },
  {
   "cell_type": "code",
   "execution_count": 53,
   "metadata": {},
   "outputs": [
    {
     "name": "stdout",
     "output_type": "stream",
     "text": [
      "*\n"
     ]
    },
    {
     "data": {
      "text/html": [
       "<div>\n",
       "<style scoped>\n",
       "    .dataframe tbody tr th:only-of-type {\n",
       "        vertical-align: middle;\n",
       "    }\n",
       "\n",
       "    .dataframe tbody tr th {\n",
       "        vertical-align: top;\n",
       "    }\n",
       "\n",
       "    .dataframe thead th {\n",
       "        text-align: right;\n",
       "    }\n",
       "</style>\n",
       "<table border=\"1\" class=\"dataframe\">\n",
       "  <thead>\n",
       "    <tr style=\"text-align: right;\">\n",
       "      <th></th>\n",
       "      <th>name_target</th>\n",
       "      <th>model</th>\n",
       "      <th>RMS_test_predict</th>\n",
       "      <th>RMS_test_mean</th>\n",
       "      <th>mean_target</th>\n",
       "      <th>mean_sample</th>\n",
       "      <th>mean_train</th>\n",
       "      <th>mean_test</th>\n",
       "      <th>mean_test_predict</th>\n",
       "      <th>meant_target_predict</th>\n",
       "    </tr>\n",
       "  </thead>\n",
       "  <tbody>\n",
       "    <tr>\n",
       "      <th>0</th>\n",
       "      <td>target_1</td>\n",
       "      <td>Gradient Boosting Regressor</td>\n",
       "      <td>0.322629</td>\n",
       "      <td>0.529951</td>\n",
       "      <td>1.203469</td>\n",
       "      <td>1.204355</td>\n",
       "      <td>1.203004</td>\n",
       "      <td>1.209758</td>\n",
       "      <td>1.211880</td>\n",
       "      <td>1.204483</td>\n",
       "    </tr>\n",
       "    <tr>\n",
       "      <th>0</th>\n",
       "      <td>target_2</td>\n",
       "      <td>Gradient Boosting Regressor</td>\n",
       "      <td>0.933219</td>\n",
       "      <td>3.971131</td>\n",
       "      <td>10.467884</td>\n",
       "      <td>10.465469</td>\n",
       "      <td>10.467501</td>\n",
       "      <td>10.457340</td>\n",
       "      <td>10.472536</td>\n",
       "      <td>10.474294</td>\n",
       "    </tr>\n",
       "  </tbody>\n",
       "</table>\n",
       "</div>"
      ],
      "text/plain": [
       "  name_target                        model  RMS_test_predict  RMS_test_mean  \\\n",
       "0    target_1  Gradient Boosting Regressor          0.322629       0.529951   \n",
       "0    target_2  Gradient Boosting Regressor          0.933219       3.971131   \n",
       "\n",
       "   mean_target  mean_sample  mean_train  mean_test  mean_test_predict  \\\n",
       "0     1.203469     1.204355    1.203004   1.209758           1.211880   \n",
       "0    10.467884    10.465469   10.467501  10.457340          10.472536   \n",
       "\n",
       "   meant_target_predict  \n",
       "0              1.204483  \n",
       "0             10.474294  "
      ]
     },
     "execution_count": 53,
     "metadata": {},
     "output_type": "execute_result"
    },
    {
     "data": {
      "text/plain": [
       "<Figure size 720x3600 with 0 Axes>"
      ]
     },
     "metadata": {},
     "output_type": "display_data"
    },
    {
     "data": {
      "image/png": "[encoded data removed]",
      "text/plain": [
       "<Figure size 432x288 with 1 Axes>"
      ]
     },
     "metadata": {
      "needs_background": "light"
     },
     "output_type": "display_data"
    },
    {
     "data": {
      "text/plain": [
       "<Figure size 720x3600 with 0 Axes>"
      ]
     },
     "metadata": {},
     "output_type": "display_data"
    },
    {
     "data": {
      "image/png": "[encoded data removed]",
      "text/plain": [
       "<Figure size 432x288 with 1 Axes>"
      ]
     },
     "metadata": {
      "needs_background": "light"
     },
     "output_type": "display_data"
    }
   ],
   "source": [
    "target_1_test, target_1_test_predict, target_1_predict, table_gbr_1, feat_scores_gbr_1, model_1 = gbr_model(features_1,target_1, 100000, 1112, 'target_1')\n",
    "#reg_plot(target_1,target_1_test, target_1_test_predict, target_1_predict,'target_1')\n",
    "\n",
    "print('*')\n",
    "target_2_test, target_2_test_predict, target_2_predict, table_gbr_2, feat_scores_gbr_2, model_2 = gbr_model(features_2,target_2, 100000, 1112, 'target_2')\n",
    "#reg_plot(target_2,target_2_test, target_2_test_predict, target_2_predict,'target_2')\n",
    "\n",
    "pd.concat([table_gbr_1, table_gbr_2], axis=0)"
   ]
  },
  {
   "cell_type": "code",
   "execution_count": 54,
   "metadata": {},
   "outputs": [],
   "source": [
    "def check_models_with_unseen_data(model, name_target, y, x):\n",
    "    \n",
    "    y_predict = model.predict(x)\n",
    "    data_frame = pd.DataFrame([[name_target, 'Gradient Boosting Regressor', np.sqrt(sum((y - y_predict)**2)/len(y)),\n",
    "                              np.sqrt(sum((y - np.mean(y))**2)/len(y)),\n",
    "                              np.mean(y), np.mean(y_predict)]], \n",
    "                              columns = ['name_target','model','RMS_predict','RMS_target_mean',\n",
    "                                        'mean_target','mean_target_predict'])\n",
    "    return data_frame"
   ]
  },
  {
   "cell_type": "code",
   "execution_count": 55,
   "metadata": {},
   "outputs": [
    {
     "data": {
      "text/html": [
       "<div>\n",
       "<style scoped>\n",
       "    .dataframe tbody tr th:only-of-type {\n",
       "        vertical-align: middle;\n",
       "    }\n",
       "\n",
       "    .dataframe tbody tr th {\n",
       "        vertical-align: top;\n",
       "    }\n",
       "\n",
       "    .dataframe thead th {\n",
       "        text-align: right;\n",
       "    }\n",
       "</style>\n",
       "<table border=\"1\" class=\"dataframe\">\n",
       "  <thead>\n",
       "    <tr style=\"text-align: right;\">\n",
       "      <th></th>\n",
       "      <th>name_target</th>\n",
       "      <th>model</th>\n",
       "      <th>RMS_predict</th>\n",
       "      <th>RMS_target_mean</th>\n",
       "      <th>mean_target</th>\n",
       "      <th>mean_target_predict</th>\n",
       "    </tr>\n",
       "  </thead>\n",
       "  <tbody>\n",
       "    <tr>\n",
       "      <th>0</th>\n",
       "      <td>unseen_1</td>\n",
       "      <td>Gradient Boosting Regressor</td>\n",
       "      <td>0.325791</td>\n",
       "      <td>0.532881</td>\n",
       "      <td>1.209461</td>\n",
       "      <td>1.209477</td>\n",
       "    </tr>\n",
       "    <tr>\n",
       "      <th>0</th>\n",
       "      <td>unseen_forest_predicted_1</td>\n",
       "      <td>Gradient Boosting Regressor</td>\n",
       "      <td>2.917989</td>\n",
       "      <td>3.055396</td>\n",
       "      <td>1.827262</td>\n",
       "      <td>1.295165</td>\n",
       "    </tr>\n",
       "    <tr>\n",
       "      <th>0</th>\n",
       "      <td>unseen_2</td>\n",
       "      <td>Gradient Boosting Regressor</td>\n",
       "      <td>0.947605</td>\n",
       "      <td>4.014091</td>\n",
       "      <td>10.512054</td>\n",
       "      <td>10.523327</td>\n",
       "    </tr>\n",
       "    <tr>\n",
       "      <th>0</th>\n",
       "      <td>unseen_forest_predicted_2</td>\n",
       "      <td>Gradient Boosting Regressor</td>\n",
       "      <td>1.020007</td>\n",
       "      <td>3.389394</td>\n",
       "      <td>9.972532</td>\n",
       "      <td>10.041268</td>\n",
       "    </tr>\n",
       "  </tbody>\n",
       "</table>\n",
       "</div>"
      ],
      "text/plain": [
       "                 name_target                        model  RMS_predict  \\\n",
       "0                   unseen_1  Gradient Boosting Regressor     0.325791   \n",
       "0  unseen_forest_predicted_1  Gradient Boosting Regressor     2.917989   \n",
       "0                   unseen_2  Gradient Boosting Regressor     0.947605   \n",
       "0  unseen_forest_predicted_2  Gradient Boosting Regressor     1.020007   \n",
       "\n",
       "   RMS_target_mean  mean_target  mean_target_predict  \n",
       "0         0.532881     1.209461             1.209477  \n",
       "0         3.055396     1.827262             1.295165  \n",
       "0         4.014091    10.512054            10.523327  \n",
       "0         3.389394     9.972532            10.041268  "
      ]
     },
     "execution_count": 55,
     "metadata": {},
     "output_type": "execute_result"
    }
   ],
   "source": [
    "table_1 = check_models_with_unseen_data(model_1, \"unseen_1\", target_unseen_1, features_unseen_1)\n",
    "table_1_p = check_models_with_unseen_data(model_1, \"unseen_forest_predicted_1\", target_unseen_predict_forest_1, features_unseen_predict_forest_1)\n",
    "table_2 = check_models_with_unseen_data(model_2, \"unseen_2\", target_unseen_2, features_unseen_2)\n",
    "table_2_p = check_models_with_unseen_data(model_2, \"unseen_forest_predicted_2\", target_unseen_predict_forest_2, features_unseen_predict_forest_2)\n",
    "\n",
    "pd.concat([table_1, table_1_p, table_2, table_2_p], axis=0)"
   ]
  },
  {
   "cell_type": "code",
   "execution_count": null,
   "metadata": {},
   "outputs": [],
   "source": []
  }
 ],
 "metadata": {
  "kernelspec": {
   "display_name": "Python 3",
   "language": "python",
   "name": "python3"
  },
  "language_info": {
   "codemirror_mode": {
    "name": "ipython",
    "version": 3
   },
   "file_extension": ".py",
   "mimetype": "text/x-python",
   "name": "python",
   "nbconvert_exporter": "python",
   "pygments_lexer": "ipython3",
   "version": "3.6.9"
  }
 },
 "nbformat": 4,
 "nbformat_minor": 2
}

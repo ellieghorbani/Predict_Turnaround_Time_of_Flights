{
 "cells": [
  {
   "cell_type": "code",
   "execution_count": null,
   "metadata": {},
   "outputs": [],
   "source": [
    "%matplotlib notebook\n",
    "import datetime, warnings, scipy \n",
    "import numpy as np\n",
    "import pandas as pd\n",
    "from sklearn.model_selection import train_test_split\n",
    "import seaborn as sns\n",
    "from collections import Counter\n",
    "from datetime import datetime, date, time\n",
    "\n",
    "import seaborn as sns\n",
    "from pandas.plotting import scatter_matrix\n",
    "from matplotlib import cm\n",
    "\n",
    "import matplotlib\n",
    "import matplotlib.pyplot as plt\n",
    "%matplotlib inline\n",
    "\n",
    "\n",
    "font = {'size'   : 16}\n",
    "matplotlib.rc('font', **font)"
   ]
  },
  {
   "cell_type": "markdown",
   "metadata": {},
   "source": [
    "# Read Data of flights_step_2.csv!"
   ]
  },
  {
   "cell_type": "code",
   "execution_count": null,
   "metadata": {},
   "outputs": [],
   "source": [
    "flights_step_3 = pd.read_csv('flights_step_2.csv')\n",
    "flights_step_3.shape"
   ]
  },
  {
   "cell_type": "markdown",
   "metadata": {},
   "source": [
    "# Check the Data!"
   ]
  },
  {
   "cell_type": "code",
   "execution_count": null,
   "metadata": {},
   "outputs": [],
   "source": [
    "flights_step_3.columns"
   ]
  },
  {
   "cell_type": "markdown",
   "metadata": {},
   "source": [
    "# Check the dataFrame flights_step_3"
   ]
  },
  {
   "cell_type": "code",
   "execution_count": null,
   "metadata": {},
   "outputs": [],
   "source": [
    "flights_step_3 = flights_step_3[['FLIGHT_NUMBER', 'TAIL_NUMBER','AIRLINE',  'ORIGIN_AIRPORT',\n",
    "       'DESTINATION_AIRPORT', 'SCHEDULED_DEPARTURE', 'DEPARTURE_TIME',\n",
    "       'DEPARTURE_DELAY','SCHEDULED_ARRIVAL', 'ARRIVAL_TIME', 'ARRIVAL_DELAY', \n",
    "       'SCHEDULED_TIME', 'ELAPSED_TIME', 'DISTANCE']]\n",
    "print(flights_step_3.shape)\n",
    "#flights_step_3[:4]"
   ]
  },
  {
   "cell_type": "markdown",
   "metadata": {},
   "source": [
    "# Explanation features more and their relationships together!"
   ]
  },
  {
   "cell_type": "code",
   "execution_count": null,
   "metadata": {},
   "outputs": [],
   "source": [
    "#DEPARTURE_TIME - SCHEDULED_DEPARTURE.dt.time = DEPARTURE_DELAY\n",
    "#ARRIVAL_TIME - SCHEDULED_ARRIVAL.dt.time = ARRIVAL_DELAY\n",
    "#for a TAIL_NUMBER and a AIRLINE \n",
    "#airports: A -->-- B -->-- C\n",
    "#ORIGIN_AIRPORT|DESTINATION_AIRPORT|SCHEDULED_DEPARTURE|DEPARTURE_TIME|DEPARTURE_DELAY|SCHEDULED_ARRIVAL|ARRIVAL_TIME|ARRIVAL_DELAY|SCHEDULED_TIME|ELAPSED_TIME|DISTANCE\n",
    "#--------------|-------------------|-------------------|--------------|---------------|-----------------|------------|-------------|--------------|------------|--------\n",
    "#      A       |           B       |       t(AB)_sd    |     t(AB)d   |   ^t(AB)_dd   |      t(AB)_sa   |    t(AB)a  |  ^t(AB)_ad  |     -        |      -     |   -\n",
    "#--------------|-------------------|-------------------|--------------|---------------|-----------------|------------|-------------|--------------|------------|--------\n",
    "#      B       |           c       |       t(BC)_sd    |     t(BC)d   |   ^t(BC)_dd   |      t(BC)_sa   |    t(BC)a  |  ^t(BC)_ad  |     -        |      -     |   -\n",
    "#--------------|-------------------|-------------------|--------------|---------------|-----------------|------------|-------------|--------------|------------|--------"
   ]
  },
  {
   "cell_type": "code",
   "execution_count": null,
   "metadata": {},
   "outputs": [],
   "source": [
    "#sort fights based on Tail number and scheduled departure!\n",
    "flights_step_3 = flights_step_3.sort_values(by=['TAIL_NUMBER', 'SCHEDULED_DEPARTURE'])\n",
    "n = len(flights_step_3['TAIL_NUMBER'])\n",
    "flights_step_3 = flights_step_3.set_index([pd.Index(range(0,n))])\n",
    "print(flights_step_3.shape)\n",
    "#flights_step_3.head(20)"
   ]
  },
  {
   "cell_type": "markdown",
   "metadata": {},
   "source": [
    "# Make a new dataFrame "
   ]
  },
  {
   "cell_type": "code",
   "execution_count": null,
   "metadata": {},
   "outputs": [],
   "source": [
    "# make a dataFrame for flights_step_3 from B airport to C airport!\n",
    "flights_step_3_BC = flights_step_3\n",
    "flights_step_3_BC = flights_step_3_BC.set_axis(['FLIGHT_NUMBER2', 'TAIL_NUMBER2', 'AIRLINE2', 'ORIGIN_AIRPORT2',\n",
    "       'DESTINATION_AIRPORT2', 'SCHEDULED_DEPARTURE2', 'DEPARTURE_TIME2',\n",
    "       'DEPARTURE_DELAY2', 'SCHEDULED_ARRIVAL2', 'ARRIVAL_TIME2', 'ARRIVAL_DELAY2',\n",
    "       'SCHEDULED_TIME2', 'ELAPSED_TIME2', 'DISTANCE2'], axis=1, inplace=False)\n",
    "flights_step_3_BC.drop([0], inplace = True) #drop row zero from flights_step_3_BC\n",
    "new_row = flights_step_3_BC.iloc[0:1]\n",
    "flights_step_3_BC = flights_step_3_BC.append(new_row, ignore_index = True) #add new row to flights_step_3_BC"
   ]
  },
  {
   "cell_type": "code",
   "execution_count": null,
   "metadata": {},
   "outputs": [],
   "source": [
    "#attached flights_step_3_BC to flights_step_3_AB\n",
    "flights_step_3_ABC = pd.concat([flights_step_3, flights_step_3_BC], axis=1, sort=False)\n",
    "print(flights_step_3_ABC.shape)"
   ]
  },
  {
   "cell_type": "code",
   "execution_count": null,
   "metadata": {},
   "outputs": [],
   "source": [
    "# match rows with differnt B airports or/and different tail number! \n",
    "compare_airport, compare_tail = np.array(len(flights_step_3_ABC.DESTINATION_AIRPORT)), np.array(len(flights_step_3_ABC.DESTINATION_AIRPORT))\n",
    "compare_airport = np.where(flights_step_3_ABC.DESTINATION_AIRPORT == flights_step_3_ABC.ORIGIN_AIRPORT2, 'True', 'False')\n",
    "compare_tail = np.where(flights_step_3_ABC.TAIL_NUMBER == flights_step_3_ABC.TAIL_NUMBER2, 'True', 'False')\n",
    "print('type of compare_airport = %s & size of compare_airport= %d' %(type(compare_airport), compare_airport.size))\n",
    "print('compare_airport:',compare_airport[:10])\n",
    "print('number of Ture & False in index_airport:', list(Counter(compare_airport).values()))\n",
    "print('----------------------------------------------------')\n",
    "print('type of compare_tail = %s & size of compare_tail= %d' %(type(compare_tail), compare_tail.size))\n",
    "print('compare_tail:',compare_tail[:10])\n",
    "print('number of Ture & False in index_tail:', list(Counter(compare_tail).values()))"
   ]
  },
  {
   "cell_type": "code",
   "execution_count": null,
   "metadata": {},
   "outputs": [],
   "source": [
    "#find indexes of rows with differnt B airports or different tail number and remove them!\n",
    "index_airport = [i for i in range(compare_airport.size) if compare_airport[i] == \"False\"] \n",
    "index_tail = [i for i in range(compare_tail.size) if compare_tail[i] == \"False\"] \n",
    "remove_index =[x for x in index_airport if x not in index_tail]\n",
    "remove_index = (remove_index + index_tail)\n",
    "remove_index.sort() \n",
    "\n",
    "print(\"type & size of index_airport:\", type(index_airport), len(index_airport))\n",
    "print(\"type & size of index_airport:\", type(index_tail), len(index_tail))\n",
    "print(\"type & size of index_airport:\", type(remove_index), len(remove_index))\n",
    "print('index_airport:', index_airport[:10])\n",
    "print('   index_tail:', index_tail[:10])\n",
    "print(' remove_index:', remove_index[:10])\n",
    "print(flights_step_3_ABC.shape)"
   ]
  },
  {
   "cell_type": "markdown",
   "metadata": {},
   "source": [
    "# Define The Target!"
   ]
  },
  {
   "cell_type": "code",
   "execution_count": null,
   "metadata": {},
   "outputs": [],
   "source": [
    "# make a dataFrame based on airport B: airport_based_dataframe\n",
    "#  airport A          --->>---          airport B              --->>---    airport C\n",
    "\n",
    "#   SD_AB/DT_AB       --->>---    SA_AB/DT_AB | SD_BC/DT_BC     --->>--- \n",
    "#  \n",
    "#                           ***turnaround_time_ B= DT_BC - AT_AB***"
   ]
  },
  {
   "cell_type": "code",
   "execution_count": null,
   "metadata": {},
   "outputs": [],
   "source": [
    "\n",
    "airport_based_dataframe = flights_step_3_ABC.drop(flights_step_3_ABC.index[remove_index])\n",
    "airport_based_dataframe.drop(['FLIGHT_NUMBER', 'FLIGHT_NUMBER2', 'TAIL_NUMBER2', 'ORIGIN_AIRPORT2','AIRLINE2'], \n",
    "              axis = 1, inplace = True)\n",
    "\n",
    "airport_based_dataframe.rename(columns={\"ORIGIN_AIRPORT\": \"airport_A\", \"DESTINATION_AIRPORT\": \"airport_B\", \n",
    "                        \"DESTINATION_AIRPORT2\": \"airport_C\", \"SCHEDULED_DEPARTURE\": \"SCHEDULED_DEPARTURE_AB\", \n",
    "                        \"DEPARTURE_DELAY\": \"DEPARTURE_DELAY_AB\", \"SCHEDULED_ARRIVAL\": \"SCHEDULED_ARRIVAL_AB\",\n",
    "                        \"SCHEDULED_DEPARTURE2\": \"SCHEDULED_DEPARTURE_BC\", \"DEPARTURE_DELAY2\": \"DEPARTURE_DELAY_BC\", \n",
    "                        \"ARRIVAL_DELAY\": \"ARRIVAL_DELAY_AB\", \"SCHEDULED_TIME\": \"SCHEDULED_TIME_AB\", \n",
    "                        \"SCHEDULED_TIME2\": \"SCHEDULED_TIME_BC\", \"ELAPSED_TIME\": \"ELAPSED_TIME_AB\", \n",
    "                        \"ELAPSED_TIME2\": \"ELAPSED_TIME_BC\", \"DISTANCE\": \"DISTANCE_AB\", \n",
    "                        \"DISTANCE2\": \"DISTANCEBC\", 'DEPARTURE_TIME': 'DEPARTURE_TIME_AB', \n",
    "                        'DEPARTURE_TIME2': 'DEPARTURE_TIME_BC', 'ARRIVAL_TIME':'ARRIVAL_TIME_AB',\n",
    "                        'ARRIVAL_TIME2' : 'ARRIVAL_TIME_BC'}, inplace = True)\n",
    "airport_based_dataframe['DEPARTURE_TIME_BC'] = pd.to_datetime(airport_based_dataframe['DEPARTURE_TIME_BC'])\n",
    "airport_based_dataframe['ARRIVAL_TIME_AB'] = pd.to_datetime(airport_based_dataframe['ARRIVAL_TIME_AB'])\n",
    "print('dtype:', airport_based_dataframe['DEPARTURE_TIME_BC'].dtype)\n",
    "airport_based_dataframe['turnaround_time_ B'] = (airport_based_dataframe['DEPARTURE_TIME_BC'] - airport_based_dataframe['ARRIVAL_TIME_AB'])/np.timedelta64(1,'h')\n",
    "print('***',airport_based_dataframe.shape)\n",
    "airport_based_dataframe = airport_based_dataframe[['TAIL_NUMBER', 'AIRLINE', \n",
    "                   'airport_A', 'airport_B', 'airport_C','turnaround_time_ B', \n",
    "                   \"SCHEDULED_DEPARTURE_AB\", 'DEPARTURE_TIME_AB', \"DEPARTURE_DELAY_AB\", \n",
    "                   \"SCHEDULED_ARRIVAL_AB\", 'ARRIVAL_TIME_AB', 'ARRIVAL_DELAY_AB',\n",
    "                   \"SCHEDULED_DEPARTURE_BC\", 'DEPARTURE_TIME_BC', \"DEPARTURE_DELAY_BC\", \n",
    "                   \"ELAPSED_TIME_AB\", \"ELAPSED_TIME_BC\", \n",
    "                   \"DISTANCE_AB\", \"DISTANCEBC\"]]\n",
    "\n",
    "print(airport_based_dataframe.shape)\n",
    "airport_based_dataframe.head(10)"
   ]
  },
  {
   "cell_type": "code",
   "execution_count": null,
   "metadata": {},
   "outputs": [],
   "source": [
    "airport_based_dataframe['turnaround_time_ B'].describe()"
   ]
  },
  {
   "cell_type": "code",
   "execution_count": null,
   "metadata": {},
   "outputs": [],
   "source": [
    "test = airport_based_dataframe[(airport_based_dataframe['turnaround_time_ B'] > -5) & \n",
    "                               (airport_based_dataframe['turnaround_time_ B'] < 24) ]['turnaround_time_ B']\n",
    "plt.hist(test, bins =100)"
   ]
  },
  {
   "cell_type": "code",
   "execution_count": null,
   "metadata": {},
   "outputs": [],
   "source": [
    "print('Before drop data:', airport_based_dataframe.shape)\n",
    "airport_based_dataframe = airport_based_dataframe[(airport_based_dataframe['turnaround_time_ B'] > -5) & \n",
    "                               (airport_based_dataframe['turnaround_time_ B'] < 24) ]\n",
    "print('After drop data:', airport_based_dataframe.shape)"
   ]
  },
  {
   "cell_type": "markdown",
   "metadata": {},
   "source": [
    "# Save the Data!"
   ]
  },
  {
   "cell_type": "code",
   "execution_count": null,
   "metadata": {},
   "outputs": [],
   "source": [
    "airport_based_dataframe.to_csv('flights_step_3.csv')"
   ]
  },
  {
   "cell_type": "code",
   "execution_count": null,
   "metadata": {},
   "outputs": [],
   "source": []
  }
 ],
 "metadata": {
  "kernelspec": {
   "display_name": "Python 3",
   "language": "python",
   "name": "python3"
  },
  "language_info": {
   "codemirror_mode": {
    "name": "ipython",
    "version": 3
   },
   "file_extension": ".py",
   "mimetype": "text/x-python",
   "name": "python",
   "nbconvert_exporter": "python",
   "pygments_lexer": "ipython3",
   "version": "3.6.9"
  }
 },
 "nbformat": 4,
 "nbformat_minor": 2
}

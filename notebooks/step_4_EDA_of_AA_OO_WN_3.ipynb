{
 "cells": [
  {
   "cell_type": "code",
   "execution_count": null,
   "metadata": {},
   "outputs": [],
   "source": [
    "import numpy as np\n",
    "import pandas as pd\n",
    "import matplotlib.pyplot as plt\n",
    "import matplotlib.ticker as mtick\n",
    "from datetime import datetime, date, time \n",
    "from scipy import stats"
   ]
  },
  {
   "cell_type": "markdown",
   "metadata": {},
   "source": [
    "# Read Data!"
   ]
  },
  {
   "cell_type": "code",
   "execution_count": null,
   "metadata": {},
   "outputs": [],
   "source": [
    "data = pd.read_csv(\"flights_step_3.csv\")\n",
    "print('shape of data:', data.shape)\n",
    "data.head(4)"
   ]
  },
  {
   "cell_type": "markdown",
   "metadata": {},
   "source": [
    "# EDA"
   ]
  },
  {
   "cell_type": "code",
   "execution_count": null,
   "metadata": {},
   "outputs": [],
   "source": [
    "#functions#####\n",
    "#Seperate data based on the airlines in new dataFrame\n",
    "def seperate_data_based_on_airline(airline, data):\n",
    "    a = data[data['AIRLINE'] == airline]\n",
    "    print('shape of data_airline {} = {}, %{}'.format(airline, a.shape, len(a)/len(data)*100))\n",
    "    return a\n",
    "    #data_airline.to_csv('data_{}.csv'.format(airline))\n",
    "#*******tables******\n",
    "def compare_number_flights_based_on_air_portB(airlines, name_of_airline): \n",
    "    a = np.transpose([len(airlines[name]['airport_B']) for name in name_of_airline])\n",
    "    b = np.transpose([airlines[name]['airport_B'].value_counts().describe().mean() for name in name_of_airline])\n",
    "    c = np.transpose([airlines[name]['airport_B'].value_counts().describe().std() for name in name_of_airline])\n",
    "    d = np.transpose([airlines[name]['airport_B'].value_counts().describe().min() for name in name_of_airline])\n",
    "    e = np.transpose([airlines[name]['airport_B'].value_counts().describe().max() for name in name_of_airline])\n",
    "    df = pd.DataFrame((a, b, c, d, e),\n",
    "             index = ['count_flight','mean', 'std', 'min', 'max'], columns = name_of_airline).round(0)\n",
    "    return df.sort_values(by = ['count_flight'], axis = 1)\n",
    "\n",
    "#Remove some airports_B with minority number flights\n",
    "def remove_airport_B_with_less_than_25_precent_flights_from_average_number_flights(airlines, name_of_airline):\n",
    "    for name in name_of_airline:\n",
    "        a = airlines[name]\n",
    "        b = a['airport_B'].value_counts().mean()\n",
    "        a_count = a['airport_B'].value_counts()\n",
    "        index = a_count.index\n",
    "        for j in range(len(a_count)):\n",
    "            if (a_count[j]<0.1*b):\n",
    "                    a.drop(a[a['airport_B'] == index[j]].index, inplace=True)  \n",
    "\n",
    "# plot TAT based on departure delay AB:\n",
    "def departure_delay_AB(data_airline,name):\n",
    "    length = int(len(name)/2)+int(len(name)%2)\n",
    "    l, k, m = 0, 0, 0\n",
    "    fig, axs = plt.subplots(length, 2, figsize = (12, 35))\n",
    "    #ax2 = axs.twinx()\n",
    "    for j in name:\n",
    "        k = (m)//(length)\n",
    "        l = m%(length)\n",
    "        ax2 = axs[l].twinx()\n",
    "        a = data_airline[j]\n",
    "        min_dep, max_dep = min(a['DEPARTURE_DELAY_AB']), max(a['DEPARTURE_DELAY_AB'])\n",
    "        for i in np.arange(min_dep, max_dep, 10):\n",
    "            interval = a[i < a['DEPARTURE_DELAY_AB']]\n",
    "            interval = interval[interval['DEPARTURE_DELAY_AB']> i+10]\n",
    "            axs[l].scatter(np.mean(interval['DEPARTURE_DELAY_AB']),\n",
    "                              np.mean(interval['turnaround_time_ B']),\n",
    "                              marker = 'o', color = 'blue')\n",
    "            ax2.scatter(np.mean(interval['DEPARTURE_DELAY_AB']),\n",
    "                              np.log(len(interval['DEPARTURE_DELAY_AB'])),\n",
    "                              marker = 'o', color = 'red')\n",
    "        axs[l].scatter(0,0,color ='white',label = j)\n",
    "        axs[l].set_xlabel('DEPARTURE_DELAY_AB')\n",
    "        axs[l].set_ylabel('turnaround_time_ B', color = 'blue')\n",
    "        ax2.set_ylabel('log(Number of Departure Delay AB)', color = 'red')\n",
    "        axs[l].legend()\n",
    "        m += 1\n",
    "\n"
   ]
  },
  {
   "cell_type": "code",
   "execution_count": null,
   "metadata": {},
   "outputs": [],
   "source": [
    "# data and average data of TAT via arrival time, day of week, day of month and month\n",
    "def plot_TAT_via_date(data_airline, name_airline, feature, type_date):\n",
    "    c = ['blue','lightblue', 'red', 'pink']\n",
    "    cc = 0\n",
    "    fontdict={'fontsize': 20,\n",
    "              'verticalalignment': 'baseline',\n",
    "              'horizontalalignment': 'center'}\n",
    "    plt.rcParams.update({'font.size': 20})\n",
    "    fig, axs = plt.subplots(1, 3, figsize = (15, 5), sharex=True)\n",
    "    l = -1     \n",
    "    #plt.rc('xtick', labelsize=20) \n",
    "    #plt.rc('ytick', labelsize=20) \n",
    "    max_1, max_2, min_1, min_2 = 0, 500,0, 500\n",
    "    #-------------------------------------------------------\n",
    "    for ax in axs.flat:\n",
    "            l += 1\n",
    "            j = name_airline[l]\n",
    "            ax2 = ax.twinx()\n",
    "            if ax != axs[2]:\n",
    "                ax2.yaxis.set_tick_params(labelright=False)\n",
    "            ax2.set_ylim([-.5, 10]) \n",
    "            ax.tick_params(axis=\"y\", labelcolor=\"b\", labelsize=20)\n",
    "            ax.spines['right'].set_color('red')\n",
    "            ax.spines['left'].set_color('blue')\n",
    "            ax2.tick_params(axis=\"y\", labelcolor=\"r\", labelsize=20)\n",
    "            ax.tick_params(axis=\"x\", labelcolor=\"black\", labelsize=20)\n",
    "            ax2.spines['right'].set_color('red')\n",
    "            ax2.spines['left'].set_color('blue')\n",
    "            #---------------------------------------------------------------------\n",
    "            a = data_airline[data_airline['AIRLINE'] == j]\n",
    "            if type_date == 'Day time (h)':\n",
    "                list_date = 24\n",
    "                b = pd.to_datetime(a[feature]).dt.hour\n",
    "            else:\n",
    "                if type_date == 'Week day':\n",
    "                    list_date = 7\n",
    "                    b = pd.to_datetime(a[feature]).dt.weekday\n",
    "                else:\n",
    "                    if type_date == 'Month day':\n",
    "                        list_date = 31\n",
    "                        b = pd.to_datetime(a[feature]).dt.day\n",
    "                    else:\n",
    "                        list_date = 13\n",
    "                        b = pd.to_datetime(a[feature]).dt.month\n",
    "            #-------------------------------------------------------------------------          \n",
    "            for i in range(list_date):\n",
    "                interval = a[b == i]\n",
    "                x = [i,i]\n",
    "                if len(interval['turnaround_time_ B']) != 0:\n",
    "                    y = [min(interval['turnaround_time_ B']), max(interval['turnaround_time_ B'])]\n",
    "                    ax.plot(x, y, color = c[cc+1])\n",
    "                    ax.plot(i,np.mean(interval['turnaround_time_ B']),\n",
    "                              marker = 'o', markersize = 5, color = c[cc])\n",
    "                    ax2.plot(i,len(interval['turnaround_time_ B'])/10**4,\n",
    "                              marker = 'o', markersize = 5, color = c[cc+2])\n",
    "                if len(interval['turnaround_time_ B']) != 0:\n",
    "                    max_1, min_1 = max(max_1, max(interval['turnaround_time_ B'])), min(min_1, min(interval['turnaround_time_ B']))\n",
    "                    #max_2, min_2 = max(max_2, len(interval['turnaround_time_ B'])), min(min_2, len(interval['turnaround_time_ B']))\n",
    "                ax.set_title('{} Airlines'.format(j), fontdict=fontdict, color=\"black\")   \n",
    "                ax.set(xlabel= type_date)\n",
    "                x_ticks = np.arange(0,list_date,4 )\n",
    "                ax.set_xticks(x_ticks)\n",
    "                \n",
    "           \n",
    "    ax2.set_ylabel('Number of flights $x 10^{4}$', color = 'red', fontsize=20)\n",
    "    axs[0].set_ylabel('Turnaround time (h)', color = 'blue')\n",
    "    axs[1].axes.yaxis.set_ticklabels([])\n",
    "    axs[2].axes.yaxis.set_ticklabels([])\n",
    "    #y_ticks = np.arange(min_2,max_2,(min_2+max_2)/10 )\n",
    "    for ax in axs.flat:\n",
    "        ax.set_ylim([min_1-1, max_1+1]) \n",
    "        y_ticks = np.arange(int(min_1-1), int(max_1+3),(int(min_1-1)+int(max_1+2))//3)\n",
    "        ax.set_yticks(y_ticks)\n",
    "        #ax2 = ax.twinx()\n",
    "        #ax2.set_yticks(y_ticks)\n",
    "    #ax.set_yticklabels(y_lable)\n",
    "    #ax.legend()\n",
    "    \n",
    "    cc += 1\n",
    "\n",
    "        \n",
    "    plt.savefig('EDA_figs/EDA_{}_{}.png'.format(feature, type_date), dpi=500)   "
   ]
  },
  {
   "cell_type": "code",
   "execution_count": null,
   "metadata": {},
   "outputs": [],
   "source": [
    "compare = pd.DataFrame([format(np.unique(data['AIRLINE']).shape),\n",
    "                        format(np.unique(data[\"airport_A\"]).shape),\n",
    "                        format(np.unique(data[\"airport_B\"]).shape),\n",
    "                        format(np.unique(data[\"airport_C\"]).shape)],\n",
    "                       columns = ['size'], index = ['AIRLINE',\"airport_A\", \"airport_B\", \"airport_C\"])\n",
    "compare"
   ]
  },
  {
   "cell_type": "code",
   "execution_count": null,
   "metadata": {},
   "outputs": [],
   "source": [
    "#name of airlines\n",
    "name_of_airline = ['OO', 'AA', 'WN']\n",
    "# Seperate data based on the airlines in new dataFrame\n",
    "airlines = {}\n",
    "for i in name_of_airline:\n",
    "     airlines[i] = pd.DataFrame(seperate_data_based_on_airline(i, data))"
   ]
  },
  {
   "cell_type": "code",
   "execution_count": null,
   "metadata": {},
   "outputs": [],
   "source": [
    "df = compare_number_flights_based_on_air_portB(airlines, name_of_airline)\n",
    "remove_airport_B_with_less_than_25_precent_flights_from_average_number_flights(airlines, name_of_airline)\n",
    "df_new = compare_number_flights_based_on_air_portB(airlines, name_of_airline)    \n",
    "df"
   ]
  },
  {
   "cell_type": "code",
   "execution_count": null,
   "metadata": {},
   "outputs": [],
   "source": [
    "df_new"
   ]
  },
  {
   "cell_type": "markdown",
   "metadata": {},
   "source": [
    "List of EDA:<br/>\n",
    "1- airport (A, B, C)<br/>\n",
    "2- SCHEDULED_DEPARTURE (time, day of week, week, day of month, month)(AB,BC)<br/>\n",
    "3- SCHEDULED_ARRIVAL (time, day of week, week, day of month, month)(AB)<br/>\n",
    "4- DEPARTURE_DELAY (AB, BC)<br/>\n",
    "5- ARRIVAL_DELAY (AB)<br/>\n",
    "6- ELAPSED_TIME (AB, BD)<br/>\n",
    "7- DISTANCE (AB, BC)<br/>\n",
    "<br/>\n",
    "<br/>\n",
    "Based on important features:<br/>\n",
    "distribution1:<br/>\n",
    "ARRIVAL_HOUR_AB, SCHEDULED_DEPARTURE_HOUR_BC,<br/>\n",
    "APPRIVAL_DELAY_AB <br/> \n",
    "\n",
    "distribution2 <br/>\n",
    "SCHEDULED_DEPARTURE_HOUR_BC, DEPARTURE_HOUR_AB, <br/>\n",
    "APPRIVAL_DELAY_AB "
   ]
  },
  {
   "cell_type": "markdown",
   "metadata": {},
   "source": [
    "## Arrival and Departure date"
   ]
  },
  {
   "cell_type": "code",
   "execution_count": null,
   "metadata": {},
   "outputs": [],
   "source": [
    "print('ARRIVAL_TIME_AB', 'day_time (h)')\n",
    "plot_TAT_via_date(data, name_of_airline, 'ARRIVAL_TIME_AB', 'Day time (h)')\n",
    "print('SCHEDULED_DEPARTURE_BC', 'week_day')\n",
    "plot_TAT_via_date(data, name_of_airline, 'SCHEDULED_DEPARTURE_BC', 'Day time (h)')\n",
    "print('DEPARTURE_TIME_AB', 'month_day')\n",
    "plot_TAT_via_date(data, name_of_airline, 'DEPARTURE_TIME_AB', 'Day time (h)')"
   ]
  },
  {
   "cell_type": "code",
   "execution_count": null,
   "metadata": {},
   "outputs": [],
   "source": [
    "print('DEPARTURE_TIME_BC', 'day_time (h)')\n",
    "plot_TAT_via_date(data, name_of_airline, 'DEPARTURE_TIME_BC', 'day_time (h)')\n",
    "print('DEPARTURE_TIME_BC', 'week_day')\n",
    "plot_TAT_via_date(data, name_of_airline, 'DEPARTURE_TIME_BC', 'week_day')\n",
    "print('DEPARTURE_TIME_BC', 'month_day')\n",
    "plot_TAT_via_date(data, name_of_airline, 'DEPARTURE_TIME_BC', 'month_day')\n",
    "print('DEPARTURE_TIME_BC', 'month')\n",
    "plot_TAT_via_date(data, name_of_airline, 'DEPARTURE_TIME_BC', 'month')"
   ]
  },
  {
   "cell_type": "code",
   "execution_count": null,
   "metadata": {},
   "outputs": [],
   "source": []
  }
 ],
 "metadata": {
  "kernelspec": {
   "display_name": "Python 3",
   "language": "python",
   "name": "python3"
  },
  "language_info": {
   "codemirror_mode": {
    "name": "ipython",
    "version": 3
   },
   "file_extension": ".py",
   "mimetype": "text/x-python",
   "name": "python",
   "nbconvert_exporter": "python",
   "pygments_lexer": "ipython3",
   "version": "3.6.9"
  }
 },
 "nbformat": 4,
 "nbformat_minor": 2
}

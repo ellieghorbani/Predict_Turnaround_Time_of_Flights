{
 "cells": [
  {
   "cell_type": "code",
   "execution_count": null,
   "metadata": {},
   "outputs": [],
   "source": [
    "import numpy as np\n",
    "import pandas as pd\n",
    "import matplotlib.pyplot as plt\n",
    "from datetime import datetime, date, time \n",
    "from scipy import stats"
   ]
  },
  {
   "cell_type": "markdown",
   "metadata": {},
   "source": [
    "# Read Data!"
   ]
  },
  {
   "cell_type": "code",
   "execution_count": null,
   "metadata": {},
   "outputs": [],
   "source": [
    "data = pd.read_csv(\"flights_step_3.csv\")\n",
    "print('shape of data:', data.shape)\n",
    "data.head(4)"
   ]
  },
  {
   "cell_type": "markdown",
   "metadata": {},
   "source": [
    "# EDA"
   ]
  },
  {
   "cell_type": "markdown",
   "metadata": {},
   "source": [
    "# Ariport_B"
   ]
  },
  {
   "cell_type": "code",
   "execution_count": null,
   "metadata": {},
   "outputs": [],
   "source": [
    "#functions#####\n",
    "#Seperate data based on the airlines in new dataFrame\n",
    "def seperate_data_based_on_airline(airline, data):\n",
    "    a = data[data['AIRLINE'] == airline]\n",
    "    print('shape of data_airline {} = {}, %{}'.format(airline, a.shape, len(a)/len(data)*100))\n",
    "    return a\n",
    "    #data_airline.to_csv('data_{}.csv'.format(airline))\n",
    "#*******tables******\n",
    "def compare_number_flights_based_on_air_portB(airlines, name_of_airline): \n",
    "    a = np.transpose([len(airlines[name]['airport_B']) for name in name_of_airline])\n",
    "    b = np.transpose([airlines[name]['airport_B'].value_counts().describe().mean() for name in name_of_airline])\n",
    "    c = np.transpose([airlines[name]['airport_B'].value_counts().describe().std() for name in name_of_airline])\n",
    "    d = np.transpose([airlines[name]['airport_B'].value_counts().describe().min() for name in name_of_airline])\n",
    "    e = np.transpose([airlines[name]['airport_B'].value_counts().describe().max() for name in name_of_airline])\n",
    "    df = pd.DataFrame((a, b, c, d, e),\n",
    "             index = ['count_flight','mean', 'std', 'min', 'max'], columns = name_of_airline).round(0)\n",
    "    return df.sort_values(by = ['count_flight'], axis = 1)\n",
    "\n",
    "#Remove some airports_B with minority number flights\n",
    "def remove_airport_B_with_less_than_25_precent_flights_from_average_number_flights(airlines, name_of_airline):\n",
    "    for name in name_of_airline:\n",
    "        a = airlines[name]\n",
    "        b = a['airport_B'].value_counts().mean()\n",
    "        a_count = a['airport_B'].value_counts()\n",
    "        index = a_count.index\n",
    "        for j in range(len(a_count)):\n",
    "            if (a_count[j]<0.1*b):\n",
    "                    a.drop(a[a['airport_B'] == index[j]].index, inplace=True)  \n",
    "\n",
    "# plot TAT based on departure delay AB:\n",
    "def departure_delay_AB(data_airline,name):\n",
    "    length = int(len(name)/2)+int(len(name)%2)\n",
    "    l, k, m = 0, 0, 0\n",
    "    fig, axs = plt.subplots(length, 2, figsize = (12, 35))\n",
    "    #ax2 = axs.twinx()\n",
    "    for j in name:\n",
    "        k = (m)//(length)\n",
    "        l = m%(length)\n",
    "        ax2 = axs[l][k].twinx()\n",
    "        a = data_airline[j]\n",
    "        min_dep, max_dep = min(a['DEPARTURE_DELAY_AB']), max(a['DEPARTURE_DELAY_AB'])\n",
    "        for i in np.arange(min_dep, max_dep, 10):\n",
    "            interval = a[i < a['DEPARTURE_DELAY_AB']]\n",
    "            interval = interval[interval['DEPARTURE_DELAY_AB']> i+10]\n",
    "            axs[l][k].scatter(np.mean(interval['DEPARTURE_DELAY_AB']),\n",
    "                              np.mean(interval['turnaround_time_ B']),\n",
    "                              marker = 'o', color = 'blue')\n",
    "            ax2.scatter(np.mean(interval['DEPARTURE_DELAY_AB']),\n",
    "                              np.log(len(interval['DEPARTURE_DELAY_AB'])),\n",
    "                              marker = 'o', color = 'red')\n",
    "        axs[l][k].scatter(0,0,color ='white',label = j)\n",
    "        axs[l][k].set_xlabel('DEPARTURE_DELAY_AB')\n",
    "        axs[l][k].set_ylabel('turnaround_time_ B', color = 'blue')\n",
    "        ax2.set_ylabel('log(Number of Departure Delay AB)', color = 'red')\n",
    "        axs[l][k].legend()\n",
    "        m += 1\n",
    "# remove TAT based on departure delay AB:\n",
    "def remove_departure_delay_AB_with_abondens_less_than_1percent(data_airline,name):\n",
    "    for j in name:       \n",
    "        a = data_airline[j]\n",
    "        length = len(a['DEPARTURE_DELAY_AB'])\n",
    "        min_dep, max_dep = min(a['DEPARTURE_DELAY_AB']), max(a['DEPARTURE_DELAY_AB'])\n",
    "        for i in np.arange(min_dep, max_dep, 10):\n",
    "            interval = a[i < a['DEPARTURE_DELAY_AB']]\n",
    "            interval = interval[interval['DEPARTURE_DELAY_AB']> i+10]\n",
    "            if len(interval['DEPARTURE_DELAY_AB'])/length < 0.01:\n",
    "                   a.drop(interval.index, inplace = True)\n",
    "#compare airline data before and after remove some DEPARTURE_DELAY_AB data\n",
    "def compare_airline_data_before_and_after_remove_DEPARTURE_DELAY_AB_data_based_on_abondens_less_than_1percent(data_airline,name):\n",
    "    bef, aft = [], []\n",
    "    [bef.append(data_airline[j].shape) for j in name]\n",
    "    remove_departure_delay_AB_with_abondens_less_than_1percent(data_airline,name)\n",
    "    [aft.append(data_airline[j].shape) for j in name]\n",
    "    bef = np.reshape(bef,(len(bef),2))\n",
    "    aft = np.reshape(aft,(len(aft),2))\n",
    "    b = pd.DataFrame([[bef[i][0], aft[i][0],(bef[i][0]-aft[i][0])*100/ bef[i][0]] for i in range(len(name))], \n",
    "                       columns = ['before', 'after', 'missing data %'], \n",
    "                       index = name)\n",
    "    return b"
   ]
  },
  {
   "cell_type": "code",
   "execution_count": null,
   "metadata": {},
   "outputs": [],
   "source": [
    "compare = pd.DataFrame([format(np.unique(data['AIRLINE']).shape),\n",
    "                        format(np.unique(data[\"airport_A\"]).shape),\n",
    "                        format(np.unique(data[\"airport_B\"]).shape),\n",
    "                        format(np.unique(data[\"airport_C\"]).shape)],\n",
    "                       columns = ['size'], index = ['AIRLINE',\"airport_A\", \"airport_B\", \"airport_C\"])\n",
    "compare"
   ]
  },
  {
   "cell_type": "code",
   "execution_count": null,
   "metadata": {},
   "outputs": [],
   "source": [
    "#name of airlines\n",
    "name_of_airline = np.unique(data.AIRLINE)\n",
    "# Seperate data based on the airlines in new dataFrame\n",
    "airlines = {}\n",
    "for i in name_of_airline:\n",
    "     airlines[i] = pd.DataFrame(seperate_data_based_on_airline(i, data))"
   ]
  },
  {
   "cell_type": "code",
   "execution_count": null,
   "metadata": {},
   "outputs": [],
   "source": [
    "df = compare_number_flights_based_on_air_portB(airlines, name_of_airline)\n",
    "remove_airport_B_with_less_than_25_precent_flights_from_average_number_flights(airlines, name_of_airline)\n",
    "df_new = compare_number_flights_based_on_air_portB(airlines, name_of_airline)    \n",
    "df"
   ]
  },
  {
   "cell_type": "code",
   "execution_count": null,
   "metadata": {},
   "outputs": [],
   "source": [
    "df_new"
   ]
  },
  {
   "cell_type": "code",
   "execution_count": null,
   "metadata": {},
   "outputs": [],
   "source": [
    "print('number flights before remove some airport_B:',df.sum(axis = 1)[0])\n",
    "print('number flights after remove some airport_B:',df_new.sum(axis = 1)[0])"
   ]
  },
  {
   "cell_type": "markdown",
   "metadata": {},
   "source": [
    "# DEPARTURE_DELAY_AB"
   ]
  },
  {
   "cell_type": "code",
   "execution_count": null,
   "metadata": {},
   "outputs": [],
   "source": [
    "departure_delay_AB(airlines, name_of_airline)"
   ]
  },
  {
   "cell_type": "code",
   "execution_count": null,
   "metadata": {},
   "outputs": [],
   "source": [
    "compare_airline_data_before_and_after_remove_DEPARTURE_DELAY_AB_data_based_on_abondens_less_than_1percent(airlines,name_of_airline)"
   ]
  },
  {
   "cell_type": "markdown",
   "metadata": {},
   "source": [
    "# ARRIVAL_DELAY_AB"
   ]
  },
  {
   "cell_type": "code",
   "execution_count": null,
   "metadata": {},
   "outputs": [],
   "source": [
    "#functions##### \n",
    "\n",
    "# plot TAT based on departure delay AB:\n",
    "def arrival_delay_AB(data_airline,name):\n",
    "    length = int(len(name)/2)+int(len(name)%2)\n",
    "    l, k, m = 0, 0, 0\n",
    "    fig, axs = plt.subplots(length, 2, figsize = (12, 35))\n",
    "    #ax2 = axs.twinx()\n",
    "    for j in name:\n",
    "        k = (m)//(length)\n",
    "        l = m%(length)\n",
    "        ax2 = axs[l][k].twinx()\n",
    "        a = data_airline[j]\n",
    "        min_dep, max_dep = min(a['ARRIVAL_DELAY_AB']), max(a['ARRIVAL_DELAY_AB'])\n",
    "        for i in np.arange(min_dep, max_dep, 10):\n",
    "            interval = a[i < a['ARRIVAL_DELAY_AB']]\n",
    "            interval = interval[interval['ARRIVAL_DELAY_AB']> i+10]\n",
    "            axs[l][k].scatter(np.mean(interval['ARRIVAL_DELAY_AB']),\n",
    "                              np.mean(interval['turnaround_time_ B']),\n",
    "                              marker = 'o', color = 'blue')\n",
    "            ax2.scatter(np.mean(interval['ARRIVAL_DELAY_AB']),\n",
    "                              np.log(len(interval['ARRIVAL_DELAY_AB'])),\n",
    "                              marker = 'o', color = 'red')\n",
    "        axs[l][k].scatter(0,0,color ='white',label = j)\n",
    "        axs[l][k].set_xlabel('ARRIVAL_DELAY_AB')\n",
    "        axs[l][k].set_ylabel('turnaround_time_ B', color = 'blue')\n",
    "        ax2.set_ylabel('log(Number of arrival Delay AB)', color = 'red')\n",
    "        axs[l][k].legend()\n",
    "        m += 1\n",
    "# remove TAT based on departure delay AB:\n",
    "def remove_arrival_delay_AB_with_abondens_less_than_1percent(data_airline,name):\n",
    "    for j in name:       \n",
    "        a = data_airline[j]\n",
    "        length = len(a['ARRIVAL_DELAY_AB'])\n",
    "        min_dep, max_dep = min(a['ARRIVAL_DELAY_AB']), max(a['ARRIVAL_DELAY_AB'])\n",
    "        for i in np.arange(min_dep, max_dep, 10):\n",
    "            interval = a[i < a['ARRIVAL_DELAY_AB']]\n",
    "            interval = interval[interval['ARRIVAL_DELAY_AB']> i+10]\n",
    "            if len(interval['ARRIVAL_DELAY_AB'])/length < 0.01:\n",
    "                   a.drop(interval.index, inplace = True)\n",
    "#compare airline data before and after remove some DEPARTURE_DELAY_AB data\n",
    "def compare_airline_data_before_and_after_remove_ARRIVAL_DELAY_AB_data_based_on_abondens_less_than_1percent(data_airline,name):\n",
    "    bef, aft = [], []\n",
    "    [bef.append(data_airline[j].shape) for j in name]\n",
    "    remove_arrival_delay_AB_with_abondens_less_than_1percent(data_airline,name)\n",
    "    [aft.append(data_airline[j].shape) for j in name]\n",
    "    bef = np.reshape(bef,(len(bef),2))\n",
    "    aft = np.reshape(aft,(len(aft),2))\n",
    "    b = pd.DataFrame([[bef[i][0], aft[i][0],(bef[i][0]-aft[i][0])*100/ bef[i][0]] for i in range(len(name))], \n",
    "                       columns = ['before', 'after', 'missing data %'], \n",
    "                       index = name)\n",
    "    return b"
   ]
  },
  {
   "cell_type": "code",
   "execution_count": null,
   "metadata": {},
   "outputs": [],
   "source": [
    "arrival_delay_AB(airlines, name_of_airline)"
   ]
  },
  {
   "cell_type": "code",
   "execution_count": null,
   "metadata": {},
   "outputs": [],
   "source": [
    "compare_airline_data_before_and_after_remove_ARRIVAL_DELAY_AB_data_based_on_abondens_less_than_1percent(airlines,name_of_airline)"
   ]
  },
  {
   "cell_type": "markdown",
   "metadata": {},
   "source": [
    "# DEPARTURE_DELAY_BC"
   ]
  },
  {
   "cell_type": "code",
   "execution_count": null,
   "metadata": {},
   "outputs": [],
   "source": [
    "#functions##### \n",
    "\n",
    "# plot TAT based on departure delay BC:\n",
    "def departure_delay_BC(data_airline,name):\n",
    "    length = int(len(name)/2)+int(len(name)%2)\n",
    "    l, k, m = 0, 0, 0\n",
    "    fig, axs = plt.subplots(length, 2, figsize = (12, 35))\n",
    "    #ax2 = axs.twinx()\n",
    "    for j in name:\n",
    "        k = (m)//(length)\n",
    "        l = m%(length)\n",
    "        ax2 = axs[l][k].twinx()\n",
    "        a = data_airline[j]\n",
    "        min_dep, max_dep = min(a['DEPARTURE_DELAY_BC']), max(a['DEPARTURE_DELAY_BC'])\n",
    "        for i in np.arange(min_dep, max_dep, 10):\n",
    "            interval = a[i < a['DEPARTURE_DELAY_BC']]\n",
    "            interval = interval[interval['DEPARTURE_DELAY_BC']> i+10]\n",
    "            axs[l][k].scatter(np.mean(interval['DEPARTURE_DELAY_BC']),\n",
    "                              np.mean(interval['turnaround_time_ B']),\n",
    "                              marker = 'o', color = 'blue')\n",
    "            ax2.scatter(np.mean(interval['DEPARTURE_DELAY_BC']),\n",
    "                              np.log(len(interval['DEPARTURE_DELAY_BC'])),\n",
    "                              marker = 'o', color = 'red')\n",
    "        axs[l][k].scatter(0,0,color ='white',label = j)\n",
    "        axs[l][k].set_xlabel('DEPARTURE_DELAY_BC')\n",
    "        axs[l][k].set_ylabel('turnaround_time_ B', color = 'blue')\n",
    "        ax2.set_ylabel('log(Number of departure Delay BC)', color = 'red')\n",
    "        axs[l][k].legend()\n",
    "        m += 1\n",
    "# remove TAT based on departure delay BC:\n",
    "def remove_departure_delay_BC_with_abondens_less_than_1percent(data_airline,name):\n",
    "    for j in name:       \n",
    "        a = data_airline[j]\n",
    "        length = len(a['DEPARTURE_DELAY_BC'])\n",
    "        min_dep, max_dep = min(a['DEPARTURE_DELAY_BC']), max(a['DEPARTURE_DELAY_BC'])\n",
    "        for i in np.arange(min_dep, max_dep, 10):\n",
    "            interval = a[i < a['DEPARTURE_DELAY_BC']]\n",
    "            interval = interval[interval['DEPARTURE_DELAY_BC']> i+10]\n",
    "            if len(interval['DEPARTURE_DELAY_BC'])/length < 0.01:\n",
    "                   a.drop(interval.index, inplace = True)\n",
    "#compare airline data before and after remove some DEPARTURE_DELAY_BC data\n",
    "def compare_airline_data_before_and_after_remove_DEPARTURE_DELAY_BC_data_based_on_abondens_less_than_1percent(data_airline,name):\n",
    "    bef, aft = [], []\n",
    "    [bef.append(data_airline[j].shape) for j in name]\n",
    "    remove_departure_delay_BC_with_abondens_less_than_1percent(data_airline,name)\n",
    "    [aft.append(data_airline[j].shape) for j in name]\n",
    "    bef = np.reshape(bef,(len(bef),2))\n",
    "    aft = np.reshape(aft,(len(aft),2))\n",
    "    b = pd.DataFrame([[bef[i][0], aft[i][0],(bef[i][0]-aft[i][0])*100/ bef[i][0]] for i in range(len(name))], \n",
    "                       columns = ['before', 'after', 'missing data %'], \n",
    "                       index = name)\n",
    "    return b"
   ]
  },
  {
   "cell_type": "code",
   "execution_count": null,
   "metadata": {},
   "outputs": [],
   "source": [
    "departure_delay_BC(airlines, name_of_airline)"
   ]
  },
  {
   "cell_type": "code",
   "execution_count": null,
   "metadata": {},
   "outputs": [],
   "source": [
    "compare_airline_data_before_and_after_remove_DEPARTURE_DELAY_BC_data_based_on_abondens_less_than_1percent(airlines,name_of_airline)"
   ]
  },
  {
   "cell_type": "code",
   "execution_count": null,
   "metadata": {},
   "outputs": [],
   "source": [
    "import datetime\n",
    "data.columns\n",
    "pd.to_datetime(data['SCHEDULED_DEPARTURE_AB']).dt.time\n"
   ]
  },
  {
   "cell_type": "markdown",
   "metadata": {},
   "source": [
    "# ELAPSED_TIME_AB"
   ]
  },
  {
   "cell_type": "code",
   "execution_count": null,
   "metadata": {},
   "outputs": [],
   "source": [
    "#functions##### \n",
    "\n",
    "# plot TAT based on departure delay BC:\n",
    "def elapsed_time_AB(data_airline,name):\n",
    "    length = int(len(name)/2)+int(len(name)%2)\n",
    "    l, k, m = 0, 0, 0\n",
    "    fig, axs = plt.subplots(length, 2, figsize = (12, 35))\n",
    "    #ax2 = axs.twinx()\n",
    "    for j in name:\n",
    "        k = (m)//(length)\n",
    "        l = m%(length)\n",
    "        ax2 = axs[l][k].twinx()\n",
    "        a = data_airline[j]\n",
    "        min_dep, max_dep = min(a['ELAPSED_TIME_AB']), max(a['ELAPSED_TIME_AB'])\n",
    "        for i in np.arange(min_dep, max_dep, 10):\n",
    "            interval = a[i < a['ELAPSED_TIME_AB']]\n",
    "            interval = interval[interval['ELAPSED_TIME_AB']> i+10]\n",
    "            axs[l][k].scatter(np.mean(interval['ELAPSED_TIME_AB']),\n",
    "                              np.mean(interval['turnaround_time_ B']),\n",
    "                              marker = 'o', color = 'blue')\n",
    "            ax2.scatter(np.mean(interval['ELAPSED_TIME_AB']),\n",
    "                              np.log(len(interval['ELAPSED_TIME_AB'])),\n",
    "                              marker = 'o', color = 'red')\n",
    "        axs[l][k].scatter(0,0,color ='white',label = j)\n",
    "        axs[l][k].set_xlabel('ELAPSED_TIME_AB')\n",
    "        axs[l][k].set_ylabel('turnaround_time_ B', color = 'blue')\n",
    "        ax2.set_ylabel('log(Number of ELAPSED_TIME_AB)', color = 'red')\n",
    "        axs[l][k].legend()\n",
    "        m += 1\n",
    "# remove TAT based on departure delay BC:\n",
    "def remove_elapsed_time_AB_with_abondens_less_than_1percent(data_airline,name):\n",
    "    for j in name:       \n",
    "        a = data_airline[j]\n",
    "        length = len(a['ELAPSED_TIME_AB'])\n",
    "        min_dep, max_dep = min(a['ELAPSED_TIME_AB']), max(a['ELAPSED_TIME_AB'])\n",
    "        for i in np.arange(min_dep, max_dep, 10):\n",
    "            interval = a[i < a['ELAPSED_TIME_AB']]\n",
    "            interval = interval[interval['ELAPSED_TIME_AB']> i+10]\n",
    "            if len(interval['ELAPSED_TIME_AB'])/length < 0.01:\n",
    "                   a.drop(interval.index, inplace = True)\n",
    "#compare airline data before and after remove some DEPARTURE_DELAY_BC data\n",
    "def compare_airline_data_before_and_after_remove_ELAPSED_TIME_AB_data_based_on_abondens_less_than_1percent(data_airline,name):\n",
    "    bef, aft = [], []\n",
    "    [bef.append(data_airline[j].shape) for j in name]\n",
    "    remove_elapsed_time_AB_with_abondens_less_than_1percent(data_airline,name)\n",
    "    [aft.append(data_airline[j].shape) for j in name]\n",
    "    bef = np.reshape(bef,(len(bef),2))\n",
    "    aft = np.reshape(aft,(len(aft),2))\n",
    "    b = pd.DataFrame([[bef[i][0], aft[i][0],(bef[i][0]-aft[i][0])*100/ bef[i][0]] for i in range(len(name))], \n",
    "                       columns = ['before', 'after', 'missing data %'], \n",
    "                       index = name)\n",
    "    return b"
   ]
  },
  {
   "cell_type": "code",
   "execution_count": null,
   "metadata": {},
   "outputs": [],
   "source": [
    "elapsed_time_AB(airlines, name_of_airline)"
   ]
  },
  {
   "cell_type": "code",
   "execution_count": null,
   "metadata": {},
   "outputs": [],
   "source": [
    "compare_airline_data_before_and_after_remove_ELAPSED_TIME_AB_data_based_on_abondens_less_than_1percent(airlines,name_of_airline)\n"
   ]
  },
  {
   "cell_type": "markdown",
   "metadata": {},
   "source": [
    "# ELAPSED_TIME_BC"
   ]
  },
  {
   "cell_type": "code",
   "execution_count": null,
   "metadata": {},
   "outputs": [],
   "source": [
    "#functions##### \n",
    "\n",
    "# plot TAT based on departure delay BC:\n",
    "def elapsed_time_BC(data_airline,name):\n",
    "    length = int(len(name)/2)+int(len(name)%2)\n",
    "    l, k, m = 0, 0, 0\n",
    "    fig, axs = plt.subplots(length, 2, figsize = (12, 35))\n",
    "    #ax2 = axs.twinx()\n",
    "    for j in name:\n",
    "        k = (m)//(length)\n",
    "        l = m%(length)\n",
    "        ax2 = axs[l][k].twinx()\n",
    "        a = data_airline[j]\n",
    "        min_dep, max_dep = min(a['ELAPSED_TIME_BC']), max(a['ELAPSED_TIME_BC'])\n",
    "        for i in np.arange(min_dep, max_dep, 10):\n",
    "            interval = a[i < a['ELAPSED_TIME_BC']]\n",
    "            interval = interval[interval['ELAPSED_TIME_BC']> i+10]\n",
    "            axs[l][k].scatter(np.mean(interval['ELAPSED_TIME_BC']),\n",
    "                              np.mean(interval['turnaround_time_ B']),\n",
    "                              marker = 'o', color = 'blue')\n",
    "            ax2.scatter(np.mean(interval['ELAPSED_TIME_BC']),\n",
    "                              np.log(len(interval['ELAPSED_TIME_BC'])),\n",
    "                              marker = 'o', color = 'red')\n",
    "        axs[l][k].scatter(0,0,color ='white',label = j)\n",
    "        axs[l][k].set_xlabel('ELAPSED_TIME_BC')\n",
    "        axs[l][k].set_ylabel('turnaround_time_ B', color = 'blue')\n",
    "        ax2.set_ylabel('log(Number of ELAPSED_TIME_BC)', color = 'red')\n",
    "        axs[l][k].legend()\n",
    "        m += 1\n",
    "# remove TAT based on departure delay BC:\n",
    "def remove_elapsed_time_BC_with_abondens_less_than_1percent(data_airline,name):\n",
    "    for j in name:       \n",
    "        a = data_airline[j]\n",
    "        length = len(a['ELAPSED_TIME_BC'])\n",
    "        min_dep, max_dep = min(a['ELAPSED_TIME_BC']), max(a['ELAPSED_TIME_BC'])\n",
    "        for i in np.arange(min_dep, max_dep, 10):\n",
    "            interval = a[i < a['ELAPSED_TIME_BC']]\n",
    "            interval = interval[interval['ELAPSED_TIME_BC']> i+10]\n",
    "            if len(interval['ELAPSED_TIME_BC'])/length < 0.01:\n",
    "                   a.drop(interval.index, inplace = True)\n",
    "#compare airline data before and after remove some DEPARTURE_DELAY_BC data\n",
    "def compare_airline_data_before_and_after_remove_ELAPSED_TIME_BC_data_based_on_abondens_less_than_1percent(data_airline,name):\n",
    "    bef, aft = [], []\n",
    "    [bef.append(data_airline[j].shape) for j in name]\n",
    "    remove_elapsed_time_BC_with_abondens_less_than_1percent(data_airline,name)\n",
    "    [aft.append(data_airline[j].shape) for j in name]\n",
    "    bef = np.reshape(bef,(len(bef),2))\n",
    "    aft = np.reshape(aft,(len(aft),2))\n",
    "    b = pd.DataFrame([[bef[i][0], aft[i][0],(bef[i][0]-aft[i][0])*100/ bef[i][0]] for i in range(len(name))], \n",
    "                       columns = ['before', 'after', 'missing data %'], \n",
    "                       index = name)\n",
    "    return b"
   ]
  },
  {
   "cell_type": "code",
   "execution_count": null,
   "metadata": {},
   "outputs": [],
   "source": [
    "elapsed_time_BC(airlines, name_of_airline)"
   ]
  },
  {
   "cell_type": "code",
   "execution_count": null,
   "metadata": {
    "scrolled": true
   },
   "outputs": [],
   "source": [
    "compare_airline_data_before_and_after_remove_ELAPSED_TIME_BC_data_based_on_abondens_less_than_1percent(airlines,name_of_airline)\n"
   ]
  },
  {
   "cell_type": "markdown",
   "metadata": {},
   "source": [
    "# DISTANCE_AB"
   ]
  },
  {
   "cell_type": "code",
   "execution_count": null,
   "metadata": {},
   "outputs": [],
   "source": [
    "#functions##### \n",
    "\n",
    "# plot TAT based on departure delay BC:\n",
    "def DISTANCE_AB(data_airline,name):\n",
    "    length = int(len(name)/2)+int(len(name)%2)\n",
    "    l, k, m = 0, 0, 0\n",
    "    fig, axs = plt.subplots(length, 2, figsize = (12, 35))\n",
    "    #ax2 = axs.twinx()\n",
    "    for j in name:\n",
    "        k = (m)//(length)\n",
    "        l = m%(length)\n",
    "        ax2 = axs[l][k].twinx()\n",
    "        a = data_airline[j]\n",
    "        min_dep, max_dep = min(a['DISTANCE_AB']), max(a['DISTANCE_AB'])\n",
    "        for i in np.arange(min_dep, max_dep, 10):\n",
    "            interval = a[i < a['DISTANCE_AB']]\n",
    "            interval = interval[interval['DISTANCE_AB']> i+10]\n",
    "            axs[l][k].scatter(np.mean(interval['DISTANCE_AB']),\n",
    "                              np.mean(interval['turnaround_time_ B']),\n",
    "                              marker = 'o', color = 'blue')\n",
    "            ax2.scatter(np.mean(interval['DISTANCE_AB']),\n",
    "                              np.log(len(interval['DISTANCE_AB'])),\n",
    "                              marker = 'o', color = 'red')\n",
    "        axs[l][k].scatter(0,0,color ='white',label = j)\n",
    "        axs[l][k].set_xlabel('DISTANCE_AB')\n",
    "        axs[l][k].set_ylabel('turnaround_time_ B', color = 'blue')\n",
    "        ax2.set_ylabel('log(Number of DISTANCE_AB)', color = 'red')\n",
    "        axs[l][k].legend()\n",
    "        m += 1\n",
    "# remove TAT based on departure delay BC:\n",
    "def remove_distance_AB_with_abondens_less_than_1percent(data_airline,name):\n",
    "    for j in name:       \n",
    "        a = data_airline[j]\n",
    "        length = len(a['DISTANCE_AB'])\n",
    "        min_dep, max_dep = min(a['DISTANCE_AB']), max(a['DISTANCE_AB'])\n",
    "        for i in np.arange(min_dep, max_dep, 10):\n",
    "            interval = a[i < a['DISTANCE_AB']]\n",
    "            interval = interval[interval['DISTANCE_AB']> i+10]\n",
    "            if len(interval['DISTANCE_AB'])/length < 0.01:\n",
    "                   a.drop(interval.index, inplace = True)\n",
    "#compare airline data before and after remove some DEPARTURE_DELAY_BC data\n",
    "def compare_airline_data_before_and_after_remove_DISTANCE_AB_data_based_on_abondens_less_than_1percent(data_airline,name):\n",
    "    bef, aft = [], []\n",
    "    [bef.append(data_airline[j].shape) for j in name]\n",
    "    remove_elapsed_time_BC_with_abondens_less_than_1percent(data_airline,name)\n",
    "    [aft.append(data_airline[j].shape) for j in name]\n",
    "    bef = np.reshape(bef,(len(bef),2))\n",
    "    aft = np.reshape(aft,(len(aft),2))\n",
    "    b = pd.DataFrame([[bef[i][0], aft[i][0],(bef[i][0]-aft[i][0])*100/ bef[i][0]] for i in range(len(name))], \n",
    "                       columns = ['before', 'after', 'missing data %'], \n",
    "                       index = name)\n",
    "    return b"
   ]
  },
  {
   "cell_type": "code",
   "execution_count": null,
   "metadata": {},
   "outputs": [],
   "source": [
    "DISTANCE_AB(airlines, name_of_airline)"
   ]
  },
  {
   "cell_type": "code",
   "execution_count": null,
   "metadata": {},
   "outputs": [],
   "source": [
    "compare_airline_data_before_and_after_remove_DISTANCE_AB_data_based_on_abondens_less_than_1percent(airlines,name_of_airline)\n"
   ]
  },
  {
   "cell_type": "code",
   "execution_count": null,
   "metadata": {},
   "outputs": [],
   "source": [
    "data.columns"
   ]
  },
  {
   "cell_type": "code",
   "execution_count": null,
   "metadata": {},
   "outputs": [],
   "source": [
    "data_new = data[['AIRLINE', \n",
    "'airport_A', 'airport_B', 'airport_C', \n",
    "'turnaround_time_ B', \n",
    "'DEPARTURE_TIME_AB', 'DEPARTURE_DELAY_AB', \n",
    "'ARRIVAL_TIME_AB', 'ARRIVAL_DELAY_AB', \n",
    "'SCHEDULED_DEPARTURE_BC',\n",
    "'ELAPSED_TIME_AB', 'DISTANCE_AB', 'DISTANCEBC']]\n",
    "data_new"
   ]
  },
  {
   "cell_type": "markdown",
   "metadata": {},
   "source": [
    "# Choose The Most Important Features!"
   ]
  },
  {
   "cell_type": "code",
   "execution_count": null,
   "metadata": {
    "scrolled": true
   },
   "outputs": [],
   "source": [
    "data_new['DEPARTURE_HOUR_AB'] = pd.to_datetime(data_new[\"DEPARTURE_TIME_AB\"]).dt.hour\n",
    "data_new['DEPARTURE_weekday_AB'] = pd.to_datetime(data_new[\"DEPARTURE_TIME_AB\"]).dt.weekday\n",
    "data_new['DEPARTURE_day_AB'] = pd.to_datetime(data_new[\"DEPARTURE_TIME_AB\"]).dt.day\n",
    "data_new['DEPARTURE_month_AB'] = pd.to_datetime(data_new[\"DEPARTURE_TIME_AB\"]).dt.month\n",
    "data_new.drop(['DEPARTURE_TIME_AB'], axis=1, inplace= True)\n",
    "\n",
    "data_new['ARRIVAL_HOUR_AB'] = pd.to_datetime(data_new[\"ARRIVAL_TIME_AB\"]).dt.hour\n",
    "data_new['ARRIVAL_weekday_AB'] = pd.to_datetime(data_new[\"ARRIVAL_TIME_AB\"]).dt.weekday\n",
    "data_new['ARRIVAL_day_AB'] = pd.to_datetime(data_new[\"ARRIVAL_TIME_AB\"]).dt.day\n",
    "data_new['ARRIVAL_month_AB'] = pd.to_datetime(data_new[\"ARRIVAL_TIME_AB\"]).dt.month\n",
    "data_new.drop(['ARRIVAL_TIME_AB'], axis=1, inplace= True)\n",
    "\n",
    "data_new['SCHEDULED_DEPARTURE_HOUR_BC'] = pd.to_datetime(data_new[\"SCHEDULED_DEPARTURE_BC\"]).dt.hour\n",
    "data_new['SCHEDULED_DEPARTURE_weekday_BC'] = pd.to_datetime(data_new[\"SCHEDULED_DEPARTURE_BC\"]).dt.weekday\n",
    "data_new['SCHEDULED_DEPARTURE_day_BC'] = pd.to_datetime(data_new[\"SCHEDULED_DEPARTURE_BC\"]).dt.day\n",
    "data_new['SCHEDULED_DEPARTURE_month_BC'] = pd.to_datetime(data_new[\"SCHEDULED_DEPARTURE_BC\"]).dt.month\n",
    "data_new.drop(['SCHEDULED_DEPARTURE_BC'], axis=1, inplace= True)"
   ]
  },
  {
   "cell_type": "code",
   "execution_count": null,
   "metadata": {},
   "outputs": [],
   "source": [
    "data_new"
   ]
  },
  {
   "cell_type": "code",
   "execution_count": null,
   "metadata": {},
   "outputs": [],
   "source": [
    "data['AIRLINE'].unique()"
   ]
  },
  {
   "cell_type": "code",
   "execution_count": null,
   "metadata": {},
   "outputs": [],
   "source": [
    "data_new.to_csv('flights_step_5.csv')"
   ]
  },
  {
   "cell_type": "code",
   "execution_count": null,
   "metadata": {},
   "outputs": [],
   "source": [
    "#Seperate data based on the airlines in new dataFrame\n",
    "def seperate_data_based_on_airline(airline, data1):\n",
    "    a = data1[data1['AIRLINE'] == airline]\n",
    "    b = int(len(a)/len(data1)*100)\n",
    "    a.to_csv('airlines_data/data_flights_of_{}_airlines_%{}.csv'.format(airline, b))\n",
    "    print('shape of data_airline {} = {}'.format(airline, a.shape))\n",
    "    return a\n",
    "#*****************************************************\n",
    "#name of airlines\n",
    "name_of_airline = np.unique(data_new.AIRLINE)\n",
    "\n",
    "# Seperate data based on the airlines in new dataFrame\n",
    "airlines = {}\n",
    "for i in name_of_airline:\n",
    "     airlines[i] = pd.DataFrame(seperate_data_based_on_airline(i, data_new))\n"
   ]
  },
  {
   "cell_type": "code",
   "execution_count": null,
   "metadata": {},
   "outputs": [],
   "source": [
    "def histogram(data_airline,name):\n",
    "    length = int(len(name)/2)+int(len(name)%2)\n",
    "    l, k, m = 0, 0, 0\n",
    "    fig, axs = plt.subplots(length, 2, figsize = (12, 35))\n",
    "    #ax2 = axs.twinx()\n",
    "    for j in name:\n",
    "        k = (m)//(length)\n",
    "        l = m%(length)\n",
    "        target = data_airline[j]\n",
    "        axs[l][k].hist(target['turnaround_time_ B'],bins = 100, alpha = 0.5, label = '{}'.format(j))\n",
    "        axs[l][k].legend()\n",
    "        m += 1"
   ]
  },
  {
   "cell_type": "code",
   "execution_count": null,
   "metadata": {},
   "outputs": [],
   "source": [
    "histogram(airlines, name_of_airline)"
   ]
  },
  {
   "cell_type": "code",
   "execution_count": null,
   "metadata": {},
   "outputs": [],
   "source": [
    "def histogram_3_most_airlines(data_airline,name):\n",
    "    length = 3\n",
    "    l, k, m = 0, 0, 0\n",
    "    fig, axs = plt.subplots(1,length, figsize = (20, 5))\n",
    "    plt.ylabel('jjjj')\n",
    "    plt.legend()\n",
    "    for j in name:\n",
    "        target = data_airline[j]\n",
    "        axs[m].hist(target['turnaround_time_ B'],bins = 100, alpha = 0.5, label = '{}'.format(j))\n",
    "    \n",
    "        axs[m].legend()\n",
    "        m += 1\n",
    "    \n",
    "    "
   ]
  },
  {
   "cell_type": "code",
   "execution_count": null,
   "metadata": {},
   "outputs": [],
   "source": [
    "max_min_hist = np.zeros(2*3)\n",
    "bin = 50\n",
    "plt.rcParams.update({'font.size': 20})\n",
    "fig, axs = plt.subplots(1, 3, figsize = (15,5))\n",
    "\n",
    "target = airlines['WN']\n",
    "s = axs[0].hist(target['turnaround_time_ B'],bins = bin, alpha = 0.5,  label = 'WN Airlines')\n",
    "max_min_hist[0] = max(s[0])\n",
    "max_min_hist[1] = min(s[0])\n",
    "\n",
    "target = airlines['AA']\n",
    "s = axs[1].hist(target['turnaround_time_ B'],bins = bin, alpha = 0.5, label = 'AA Airlines')\n",
    "max_min_hist[2] = max(s[0])\n",
    "max_min_hist[3] = min(s[0])\n",
    "\n",
    "target = airlines['OO']\n",
    "s = axs[2].hist(target['turnaround_time_ B'],bins = bin, alpha = 0.5, label = 'OO Airlines')\n",
    "max_min_hist[4] = max(s[0])\n",
    "max_min_hist[5] = min(s[0])\n",
    "\n",
    "a1, a2 = min(max_min_hist), (max(max_min_hist)+10000) \n",
    "y_ticks = np.arange(a1,a2,(a1+a2)/10 )\n",
    "l = len(str((a2)/10))-3\n",
    "y_lable = np.arange(int(a1/10**l), int(a2/10**l), int((a1+a2)/10**(l+1)) )\n",
    "\n",
    "for ax in axs.flat:\n",
    "    ax.set(xlabel='Turnaround time (h)')\n",
    "    ax.set_xlim([min(target['turnaround_time_ B']),max(target['turnaround_time_ B'])])\n",
    "    ax.set_ylim([min(max_min_hist), max(max_min_hist)+10000])   \n",
    "    ax.set_yticks(y_ticks)\n",
    "    ax.set_yticklabels(y_lable)\n",
    "    ax.legend()\n",
    "axs[0].set(ylabel = 'Histogram $x 10^{}$'.format(l))\n",
    "# Hide x labels and tick labels for top plots and y ticks for right plots.\n",
    "for ax in axs.flat:\n",
    "    ax.label_outer()\n",
    "plt.savefig('first_3_histogram.png')"
   ]
  },
  {
   "cell_type": "code",
   "execution_count": null,
   "metadata": {},
   "outputs": [],
   "source": []
  },
  {
   "cell_type": "code",
   "execution_count": null,
   "metadata": {},
   "outputs": [],
   "source": []
  }
 ],
 "metadata": {
  "kernelspec": {
   "display_name": "Python 3",
   "language": "python",
   "name": "python3"
  },
  "language_info": {
   "codemirror_mode": {
    "name": "ipython",
    "version": 3
   },
   "file_extension": ".py",
   "mimetype": "text/x-python",
   "name": "python",
   "nbconvert_exporter": "python",
   "pygments_lexer": "ipython3",
   "version": "3.6.9"
  }
 },
 "nbformat": 4,
 "nbformat_minor": 2
}

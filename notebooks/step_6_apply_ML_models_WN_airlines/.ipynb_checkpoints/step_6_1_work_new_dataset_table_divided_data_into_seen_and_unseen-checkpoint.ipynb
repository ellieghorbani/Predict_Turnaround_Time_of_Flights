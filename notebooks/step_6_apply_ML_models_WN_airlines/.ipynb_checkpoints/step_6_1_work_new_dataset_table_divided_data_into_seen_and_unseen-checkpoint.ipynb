{
 "cells": [
  {
   "cell_type": "code",
   "execution_count": 1,
   "metadata": {},
   "outputs": [
    {
     "name": "stderr",
     "output_type": "stream",
     "text": [
      "In /home/elaheh/.local/lib/python3.6/site-packages/matplotlib/mpl-data/stylelib/_classic_test.mplstyle: \n",
      "The text.latex.preview rcparam was deprecated in Matplotlib 3.3 and will be removed two minor releases later.\n",
      "In /home/elaheh/.local/lib/python3.6/site-packages/matplotlib/mpl-data/stylelib/_classic_test.mplstyle: \n",
      "The mathtext.fallback_to_cm rcparam was deprecated in Matplotlib 3.3 and will be removed two minor releases later.\n",
      "In /home/elaheh/.local/lib/python3.6/site-packages/matplotlib/mpl-data/stylelib/_classic_test.mplstyle: Support for setting the 'mathtext.fallback_to_cm' rcParam is deprecated since 3.3 and will be removed two minor releases later; use 'mathtext.fallback : 'cm' instead.\n",
      "In /home/elaheh/.local/lib/python3.6/site-packages/matplotlib/mpl-data/stylelib/_classic_test.mplstyle: \n",
      "The validate_bool_maybe_none function was deprecated in Matplotlib 3.3 and will be removed two minor releases later.\n",
      "In /home/elaheh/.local/lib/python3.6/site-packages/matplotlib/mpl-data/stylelib/_classic_test.mplstyle: \n",
      "The savefig.jpeg_quality rcparam was deprecated in Matplotlib 3.3 and will be removed two minor releases later.\n",
      "In /home/elaheh/.local/lib/python3.6/site-packages/matplotlib/mpl-data/stylelib/_classic_test.mplstyle: \n",
      "The keymap.all_axes rcparam was deprecated in Matplotlib 3.3 and will be removed two minor releases later.\n",
      "In /home/elaheh/.local/lib/python3.6/site-packages/matplotlib/mpl-data/stylelib/_classic_test.mplstyle: \n",
      "The animation.avconv_path rcparam was deprecated in Matplotlib 3.3 and will be removed two minor releases later.\n",
      "In /home/elaheh/.local/lib/python3.6/site-packages/matplotlib/mpl-data/stylelib/_classic_test.mplstyle: \n",
      "The animation.avconv_args rcparam was deprecated in Matplotlib 3.3 and will be removed two minor releases later.\n"
     ]
    }
   ],
   "source": [
    "import numpy as np\n",
    "import pandas as pd\n",
    "import matplotlib.pyplot as plt\n",
    "from datetime import datetime, date, time \n",
    "from scipy import stats\n",
    "from sklearn.model_selection import train_test_split"
   ]
  },
  {
   "cell_type": "markdown",
   "metadata": {},
   "source": [
    "# Read Data!"
   ]
  },
  {
   "cell_type": "code",
   "execution_count": 3,
   "metadata": {},
   "outputs": [
    {
     "name": "stdout",
     "output_type": "stream",
     "text": [
      "shape of data: (1217135, 23)\n"
     ]
    },
    {
     "data": {
      "text/html": [
       "<div>\n",
       "<style scoped>\n",
       "    .dataframe tbody tr th:only-of-type {\n",
       "        vertical-align: middle;\n",
       "    }\n",
       "\n",
       "    .dataframe tbody tr th {\n",
       "        vertical-align: top;\n",
       "    }\n",
       "\n",
       "    .dataframe thead th {\n",
       "        text-align: right;\n",
       "    }\n",
       "</style>\n",
       "<table border=\"1\" class=\"dataframe\">\n",
       "  <thead>\n",
       "    <tr style=\"text-align: right;\">\n",
       "      <th></th>\n",
       "      <th>Unnamed: 0</th>\n",
       "      <th>AIRLINE</th>\n",
       "      <th>airport_A</th>\n",
       "      <th>airport_B</th>\n",
       "      <th>airport_C</th>\n",
       "      <th>turnaround_time_ B</th>\n",
       "      <th>DEPARTURE_DELAY_AB</th>\n",
       "      <th>ARRIVAL_DELAY_AB</th>\n",
       "      <th>ELAPSED_TIME_AB</th>\n",
       "      <th>DISTANCE_AB</th>\n",
       "      <th>...</th>\n",
       "      <th>DEPARTURE_day_AB</th>\n",
       "      <th>DEPARTURE_month_AB</th>\n",
       "      <th>ARRIVAL_HOUR_AB</th>\n",
       "      <th>ARRIVAL_weekday_AB</th>\n",
       "      <th>ARRIVAL_day_AB</th>\n",
       "      <th>ARRIVAL_month_AB</th>\n",
       "      <th>SCHEDULED_DEPARTURE_HOUR_BC</th>\n",
       "      <th>SCHEDULED_DEPARTURE_weekday_BC</th>\n",
       "      <th>SCHEDULED_DEPARTURE_day_BC</th>\n",
       "      <th>SCHEDULED_DEPARTURE_month_BC</th>\n",
       "    </tr>\n",
       "  </thead>\n",
       "  <tbody>\n",
       "    <tr>\n",
       "      <th>0</th>\n",
       "      <td>0</td>\n",
       "      <td>WN</td>\n",
       "      <td>PHX</td>\n",
       "      <td>BNA</td>\n",
       "      <td>LGA</td>\n",
       "      <td>5.133333</td>\n",
       "      <td>12.0</td>\n",
       "      <td>3.0</td>\n",
       "      <td>186.0</td>\n",
       "      <td>1449</td>\n",
       "      <td>...</td>\n",
       "      <td>10</td>\n",
       "      <td>7</td>\n",
       "      <td>0</td>\n",
       "      <td>5</td>\n",
       "      <td>11</td>\n",
       "      <td>7</td>\n",
       "      <td>6</td>\n",
       "      <td>5</td>\n",
       "      <td>11</td>\n",
       "      <td>7</td>\n",
       "    </tr>\n",
       "    <tr>\n",
       "      <th>1</th>\n",
       "      <td>1</td>\n",
       "      <td>WN</td>\n",
       "      <td>BNA</td>\n",
       "      <td>LGA</td>\n",
       "      <td>STL</td>\n",
       "      <td>0.683333</td>\n",
       "      <td>-4.0</td>\n",
       "      <td>-7.0</td>\n",
       "      <td>127.0</td>\n",
       "      <td>764</td>\n",
       "      <td>...</td>\n",
       "      <td>11</td>\n",
       "      <td>7</td>\n",
       "      <td>9</td>\n",
       "      <td>5</td>\n",
       "      <td>11</td>\n",
       "      <td>7</td>\n",
       "      <td>9</td>\n",
       "      <td>5</td>\n",
       "      <td>11</td>\n",
       "      <td>7</td>\n",
       "    </tr>\n",
       "    <tr>\n",
       "      <th>2</th>\n",
       "      <td>2</td>\n",
       "      <td>WN</td>\n",
       "      <td>LGA</td>\n",
       "      <td>STL</td>\n",
       "      <td>ATL</td>\n",
       "      <td>0.933333</td>\n",
       "      <td>4.0</td>\n",
       "      <td>-25.0</td>\n",
       "      <td>136.0</td>\n",
       "      <td>888</td>\n",
       "      <td>...</td>\n",
       "      <td>11</td>\n",
       "      <td>7</td>\n",
       "      <td>11</td>\n",
       "      <td>5</td>\n",
       "      <td>11</td>\n",
       "      <td>7</td>\n",
       "      <td>12</td>\n",
       "      <td>5</td>\n",
       "      <td>11</td>\n",
       "      <td>7</td>\n",
       "    </tr>\n",
       "    <tr>\n",
       "      <th>3</th>\n",
       "      <td>3</td>\n",
       "      <td>WN</td>\n",
       "      <td>TPA</td>\n",
       "      <td>MSY</td>\n",
       "      <td>DEN</td>\n",
       "      <td>0.516667</td>\n",
       "      <td>144.0</td>\n",
       "      <td>124.0</td>\n",
       "      <td>75.0</td>\n",
       "      <td>488</td>\n",
       "      <td>...</td>\n",
       "      <td>11</td>\n",
       "      <td>7</td>\n",
       "      <td>19</td>\n",
       "      <td>5</td>\n",
       "      <td>11</td>\n",
       "      <td>7</td>\n",
       "      <td>18</td>\n",
       "      <td>5</td>\n",
       "      <td>11</td>\n",
       "      <td>7</td>\n",
       "    </tr>\n",
       "  </tbody>\n",
       "</table>\n",
       "<p>4 rows × 23 columns</p>\n",
       "</div>"
      ],
      "text/plain": [
       "   Unnamed: 0 AIRLINE airport_A airport_B airport_C  turnaround_time_ B  \\\n",
       "0           0      WN       PHX       BNA       LGA            5.133333   \n",
       "1           1      WN       BNA       LGA       STL            0.683333   \n",
       "2           2      WN       LGA       STL       ATL            0.933333   \n",
       "3           3      WN       TPA       MSY       DEN            0.516667   \n",
       "\n",
       "   DEPARTURE_DELAY_AB  ARRIVAL_DELAY_AB  ELAPSED_TIME_AB  DISTANCE_AB  ...  \\\n",
       "0                12.0               3.0            186.0         1449  ...   \n",
       "1                -4.0              -7.0            127.0          764  ...   \n",
       "2                 4.0             -25.0            136.0          888  ...   \n",
       "3               144.0             124.0             75.0          488  ...   \n",
       "\n",
       "   DEPARTURE_day_AB  DEPARTURE_month_AB  ARRIVAL_HOUR_AB  ARRIVAL_weekday_AB  \\\n",
       "0                10                   7                0                   5   \n",
       "1                11                   7                9                   5   \n",
       "2                11                   7               11                   5   \n",
       "3                11                   7               19                   5   \n",
       "\n",
       "   ARRIVAL_day_AB  ARRIVAL_month_AB  SCHEDULED_DEPARTURE_HOUR_BC  \\\n",
       "0              11                 7                            6   \n",
       "1              11                 7                            9   \n",
       "2              11                 7                           12   \n",
       "3              11                 7                           18   \n",
       "\n",
       "   SCHEDULED_DEPARTURE_weekday_BC  SCHEDULED_DEPARTURE_day_BC  \\\n",
       "0                               5                          11   \n",
       "1                               5                          11   \n",
       "2                               5                          11   \n",
       "3                               5                          11   \n",
       "\n",
       "   SCHEDULED_DEPARTURE_month_BC  \n",
       "0                             7  \n",
       "1                             7  \n",
       "2                             7  \n",
       "3                             7  \n",
       "\n",
       "[4 rows x 23 columns]"
      ]
     },
     "execution_count": 3,
     "metadata": {},
     "output_type": "execute_result"
    }
   ],
   "source": [
    "data = pd.read_csv(\"../airlines_data/data_flights_of_WN_airlines_%22.csv\")\n",
    "print('shape of data:', data.shape)\n",
    "data.head(4)"
   ]
  },
  {
   "cell_type": "code",
   "execution_count": 4,
   "metadata": {},
   "outputs": [
    {
     "data": {
      "text/plain": [
       "Index(['Unnamed: 0', 'AIRLINE', 'airport_A', 'airport_B', 'airport_C',\n",
       "       'turnaround_time_ B', 'DEPARTURE_DELAY_AB', 'ARRIVAL_DELAY_AB',\n",
       "       'ELAPSED_TIME_AB', 'DISTANCE_AB', 'DISTANCEBC', 'DEPARTURE_HOUR_AB',\n",
       "       'DEPARTURE_weekday_AB', 'DEPARTURE_day_AB', 'DEPARTURE_month_AB',\n",
       "       'ARRIVAL_HOUR_AB', 'ARRIVAL_weekday_AB', 'ARRIVAL_day_AB',\n",
       "       'ARRIVAL_month_AB', 'SCHEDULED_DEPARTURE_HOUR_BC',\n",
       "       'SCHEDULED_DEPARTURE_weekday_BC', 'SCHEDULED_DEPARTURE_day_BC',\n",
       "       'SCHEDULED_DEPARTURE_month_BC'],\n",
       "      dtype='object')"
      ]
     },
     "execution_count": 4,
     "metadata": {},
     "output_type": "execute_result"
    }
   ],
   "source": [
    "data.columns"
   ]
  },
  {
   "cell_type": "code",
   "execution_count": 5,
   "metadata": {},
   "outputs": [],
   "source": [
    "len_unseen = int(len(data)*.1)\n",
    "len_seen = int(len(data)*.9)"
   ]
  },
  {
   "cell_type": "code",
   "execution_count": 6,
   "metadata": {},
   "outputs": [],
   "source": [
    "data_unseen = data.sample(len_unseen)\n",
    "data_seen = data.drop(len_seen)"
   ]
  },
  {
   "cell_type": "code",
   "execution_count": 7,
   "metadata": {},
   "outputs": [],
   "source": [
    "data_seen.to_csv('data_seen_WN_airlines.csv')\n",
    "data_unseen.to_csv('data_unseen_WN_airlines.csv')"
   ]
  },
  {
   "cell_type": "code",
   "execution_count": null,
   "metadata": {},
   "outputs": [],
   "source": []
  }
 ],
 "metadata": {
  "kernelspec": {
   "display_name": "Python 3",
   "language": "python",
   "name": "python3"
  },
  "language_info": {
   "codemirror_mode": {
    "name": "ipython",
    "version": 3
   },
   "file_extension": ".py",
   "mimetype": "text/x-python",
   "name": "python",
   "nbconvert_exporter": "python",
   "pygments_lexer": "ipython3",
   "version": "3.6.9"
  }
 },
 "nbformat": 4,
 "nbformat_minor": 2
}

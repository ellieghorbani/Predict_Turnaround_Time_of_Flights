{
 "cells": [
  {
   "cell_type": "code",
   "execution_count": 1,
   "metadata": {},
   "outputs": [
    {
     "name": "stderr",
     "output_type": "stream",
     "text": [
      "In /home/elaheh/.local/lib/python3.6/site-packages/matplotlib/mpl-data/stylelib/_classic_test.mplstyle: \n",
      "The text.latex.preview rcparam was deprecated in Matplotlib 3.3 and will be removed two minor releases later.\n",
      "In /home/elaheh/.local/lib/python3.6/site-packages/matplotlib/mpl-data/stylelib/_classic_test.mplstyle: \n",
      "The mathtext.fallback_to_cm rcparam was deprecated in Matplotlib 3.3 and will be removed two minor releases later.\n",
      "In /home/elaheh/.local/lib/python3.6/site-packages/matplotlib/mpl-data/stylelib/_classic_test.mplstyle: Support for setting the 'mathtext.fallback_to_cm' rcParam is deprecated since 3.3 and will be removed two minor releases later; use 'mathtext.fallback : 'cm' instead.\n",
      "In /home/elaheh/.local/lib/python3.6/site-packages/matplotlib/mpl-data/stylelib/_classic_test.mplstyle: \n",
      "The validate_bool_maybe_none function was deprecated in Matplotlib 3.3 and will be removed two minor releases later.\n",
      "In /home/elaheh/.local/lib/python3.6/site-packages/matplotlib/mpl-data/stylelib/_classic_test.mplstyle: \n",
      "The savefig.jpeg_quality rcparam was deprecated in Matplotlib 3.3 and will be removed two minor releases later.\n",
      "In /home/elaheh/.local/lib/python3.6/site-packages/matplotlib/mpl-data/stylelib/_classic_test.mplstyle: \n",
      "The keymap.all_axes rcparam was deprecated in Matplotlib 3.3 and will be removed two minor releases later.\n",
      "In /home/elaheh/.local/lib/python3.6/site-packages/matplotlib/mpl-data/stylelib/_classic_test.mplstyle: \n",
      "The animation.avconv_path rcparam was deprecated in Matplotlib 3.3 and will be removed two minor releases later.\n",
      "In /home/elaheh/.local/lib/python3.6/site-packages/matplotlib/mpl-data/stylelib/_classic_test.mplstyle: \n",
      "The animation.avconv_args rcparam was deprecated in Matplotlib 3.3 and will be removed two minor releases later.\n"
     ]
    }
   ],
   "source": [
    "import numpy as np\n",
    "import pandas as pd\n",
    "import matplotlib.pyplot as plt\n",
    "from datetime import datetime, date, time \n",
    "from scipy import stats\n",
    "from sklearn import linear_model\n",
    "from sklearn.datasets import make_regression\n",
    "from sklearn.model_selection import cross_val_score\n",
    "from sklearn.model_selection import RepeatedKFold\n",
    "from sklearn.ensemble import GradientBoostingRegressor\n",
    "from sklearn.model_selection import train_test_split\n",
    "from sklearn.metrics import confusion_matrix\n",
    "from sklearn.metrics import mean_squared_error, r2_score\n",
    "from sklearn.preprocessing import PolynomialFeatures\n",
    "from sklearn.ensemble import RandomForestRegressor \n",
    "#from tabulate import tabulate"
   ]
  },
  {
   "cell_type": "markdown",
   "metadata": {},
   "source": [
    "# read Data!"
   ]
  },
  {
   "cell_type": "code",
   "execution_count": 2,
   "metadata": {},
   "outputs": [
    {
     "name": "stdout",
     "output_type": "stream",
     "text": [
      "shape of data: (1217134, 24)\n"
     ]
    },
    {
     "data": {
      "text/html": [
       "<div>\n",
       "<style scoped>\n",
       "    .dataframe tbody tr th:only-of-type {\n",
       "        vertical-align: middle;\n",
       "    }\n",
       "\n",
       "    .dataframe tbody tr th {\n",
       "        vertical-align: top;\n",
       "    }\n",
       "\n",
       "    .dataframe thead th {\n",
       "        text-align: right;\n",
       "    }\n",
       "</style>\n",
       "<table border=\"1\" class=\"dataframe\">\n",
       "  <thead>\n",
       "    <tr style=\"text-align: right;\">\n",
       "      <th></th>\n",
       "      <th>Unnamed: 0</th>\n",
       "      <th>Unnamed: 0.1</th>\n",
       "      <th>AIRLINE</th>\n",
       "      <th>airport_A</th>\n",
       "      <th>airport_B</th>\n",
       "      <th>airport_C</th>\n",
       "      <th>turnaround_time_ B</th>\n",
       "      <th>DEPARTURE_DELAY_AB</th>\n",
       "      <th>ARRIVAL_DELAY_AB</th>\n",
       "      <th>ELAPSED_TIME_AB</th>\n",
       "      <th>...</th>\n",
       "      <th>DEPARTURE_day_AB</th>\n",
       "      <th>DEPARTURE_month_AB</th>\n",
       "      <th>ARRIVAL_HOUR_AB</th>\n",
       "      <th>ARRIVAL_weekday_AB</th>\n",
       "      <th>ARRIVAL_day_AB</th>\n",
       "      <th>ARRIVAL_month_AB</th>\n",
       "      <th>SCHEDULED_DEPARTURE_HOUR_BC</th>\n",
       "      <th>SCHEDULED_DEPARTURE_weekday_BC</th>\n",
       "      <th>SCHEDULED_DEPARTURE_day_BC</th>\n",
       "      <th>SCHEDULED_DEPARTURE_month_BC</th>\n",
       "    </tr>\n",
       "  </thead>\n",
       "  <tbody>\n",
       "    <tr>\n",
       "      <th>0</th>\n",
       "      <td>0</td>\n",
       "      <td>0</td>\n",
       "      <td>WN</td>\n",
       "      <td>PHX</td>\n",
       "      <td>BNA</td>\n",
       "      <td>LGA</td>\n",
       "      <td>5.133333</td>\n",
       "      <td>12.0</td>\n",
       "      <td>3.0</td>\n",
       "      <td>186.0</td>\n",
       "      <td>...</td>\n",
       "      <td>10</td>\n",
       "      <td>7</td>\n",
       "      <td>0</td>\n",
       "      <td>5</td>\n",
       "      <td>11</td>\n",
       "      <td>7</td>\n",
       "      <td>6</td>\n",
       "      <td>5</td>\n",
       "      <td>11</td>\n",
       "      <td>7</td>\n",
       "    </tr>\n",
       "    <tr>\n",
       "      <th>1</th>\n",
       "      <td>1</td>\n",
       "      <td>1</td>\n",
       "      <td>WN</td>\n",
       "      <td>BNA</td>\n",
       "      <td>LGA</td>\n",
       "      <td>STL</td>\n",
       "      <td>0.683333</td>\n",
       "      <td>-4.0</td>\n",
       "      <td>-7.0</td>\n",
       "      <td>127.0</td>\n",
       "      <td>...</td>\n",
       "      <td>11</td>\n",
       "      <td>7</td>\n",
       "      <td>9</td>\n",
       "      <td>5</td>\n",
       "      <td>11</td>\n",
       "      <td>7</td>\n",
       "      <td>9</td>\n",
       "      <td>5</td>\n",
       "      <td>11</td>\n",
       "      <td>7</td>\n",
       "    </tr>\n",
       "    <tr>\n",
       "      <th>2</th>\n",
       "      <td>2</td>\n",
       "      <td>2</td>\n",
       "      <td>WN</td>\n",
       "      <td>LGA</td>\n",
       "      <td>STL</td>\n",
       "      <td>ATL</td>\n",
       "      <td>0.933333</td>\n",
       "      <td>4.0</td>\n",
       "      <td>-25.0</td>\n",
       "      <td>136.0</td>\n",
       "      <td>...</td>\n",
       "      <td>11</td>\n",
       "      <td>7</td>\n",
       "      <td>11</td>\n",
       "      <td>5</td>\n",
       "      <td>11</td>\n",
       "      <td>7</td>\n",
       "      <td>12</td>\n",
       "      <td>5</td>\n",
       "      <td>11</td>\n",
       "      <td>7</td>\n",
       "    </tr>\n",
       "    <tr>\n",
       "      <th>3</th>\n",
       "      <td>3</td>\n",
       "      <td>3</td>\n",
       "      <td>WN</td>\n",
       "      <td>TPA</td>\n",
       "      <td>MSY</td>\n",
       "      <td>DEN</td>\n",
       "      <td>0.516667</td>\n",
       "      <td>144.0</td>\n",
       "      <td>124.0</td>\n",
       "      <td>75.0</td>\n",
       "      <td>...</td>\n",
       "      <td>11</td>\n",
       "      <td>7</td>\n",
       "      <td>19</td>\n",
       "      <td>5</td>\n",
       "      <td>11</td>\n",
       "      <td>7</td>\n",
       "      <td>18</td>\n",
       "      <td>5</td>\n",
       "      <td>11</td>\n",
       "      <td>7</td>\n",
       "    </tr>\n",
       "  </tbody>\n",
       "</table>\n",
       "<p>4 rows × 24 columns</p>\n",
       "</div>"
      ],
      "text/plain": [
       "   Unnamed: 0  Unnamed: 0.1 AIRLINE airport_A airport_B airport_C  \\\n",
       "0           0             0      WN       PHX       BNA       LGA   \n",
       "1           1             1      WN       BNA       LGA       STL   \n",
       "2           2             2      WN       LGA       STL       ATL   \n",
       "3           3             3      WN       TPA       MSY       DEN   \n",
       "\n",
       "   turnaround_time_ B  DEPARTURE_DELAY_AB  ARRIVAL_DELAY_AB  ELAPSED_TIME_AB  \\\n",
       "0            5.133333                12.0               3.0            186.0   \n",
       "1            0.683333                -4.0              -7.0            127.0   \n",
       "2            0.933333                 4.0             -25.0            136.0   \n",
       "3            0.516667               144.0             124.0             75.0   \n",
       "\n",
       "   ...  DEPARTURE_day_AB  DEPARTURE_month_AB  ARRIVAL_HOUR_AB  \\\n",
       "0  ...                10                   7                0   \n",
       "1  ...                11                   7                9   \n",
       "2  ...                11                   7               11   \n",
       "3  ...                11                   7               19   \n",
       "\n",
       "   ARRIVAL_weekday_AB  ARRIVAL_day_AB  ARRIVAL_month_AB  \\\n",
       "0                   5              11                 7   \n",
       "1                   5              11                 7   \n",
       "2                   5              11                 7   \n",
       "3                   5              11                 7   \n",
       "\n",
       "   SCHEDULED_DEPARTURE_HOUR_BC  SCHEDULED_DEPARTURE_weekday_BC  \\\n",
       "0                            6                               5   \n",
       "1                            9                               5   \n",
       "2                           12                               5   \n",
       "3                           18                               5   \n",
       "\n",
       "   SCHEDULED_DEPARTURE_day_BC  SCHEDULED_DEPARTURE_month_BC  \n",
       "0                          11                             7  \n",
       "1                          11                             7  \n",
       "2                          11                             7  \n",
       "3                          11                             7  \n",
       "\n",
       "[4 rows x 24 columns]"
      ]
     },
     "execution_count": 2,
     "metadata": {},
     "output_type": "execute_result"
    }
   ],
   "source": [
    "data = pd.read_csv(\"data_seen_WN_airlines.csv\")\n",
    "print('shape of data:', data.shape)\n",
    "data.head(4)"
   ]
  },
  {
   "cell_type": "code",
   "execution_count": 3,
   "metadata": {},
   "outputs": [
    {
     "data": {
      "text/plain": [
       "Index(['Unnamed: 0', 'Unnamed: 0.1', 'AIRLINE', 'airport_A', 'airport_B',\n",
       "       'airport_C', 'turnaround_time_ B', 'DEPARTURE_DELAY_AB',\n",
       "       'ARRIVAL_DELAY_AB', 'ELAPSED_TIME_AB', 'DISTANCE_AB', 'DISTANCEBC',\n",
       "       'DEPARTURE_HOUR_AB', 'DEPARTURE_weekday_AB', 'DEPARTURE_day_AB',\n",
       "       'DEPARTURE_month_AB', 'ARRIVAL_HOUR_AB', 'ARRIVAL_weekday_AB',\n",
       "       'ARRIVAL_day_AB', 'ARRIVAL_month_AB', 'SCHEDULED_DEPARTURE_HOUR_BC',\n",
       "       'SCHEDULED_DEPARTURE_weekday_BC', 'SCHEDULED_DEPARTURE_day_BC',\n",
       "       'SCHEDULED_DEPARTURE_month_BC'],\n",
       "      dtype='object')"
      ]
     },
     "execution_count": 3,
     "metadata": {},
     "output_type": "execute_result"
    }
   ],
   "source": [
    "data.columns"
   ]
  },
  {
   "cell_type": "markdown",
   "metadata": {},
   "source": [
    "# Modeling"
   ]
  },
  {
   "cell_type": "code",
   "execution_count": 4,
   "metadata": {},
   "outputs": [
    {
     "name": "stdout",
     "output_type": "stream",
     "text": [
      "<class 'pandas.core.frame.DataFrame'>\n",
      "RangeIndex: 1217134 entries, 0 to 1217133\n",
      "Data columns (total 24 columns):\n",
      " #   Column                          Non-Null Count    Dtype  \n",
      "---  ------                          --------------    -----  \n",
      " 0   Unnamed: 0                      1217134 non-null  int64  \n",
      " 1   Unnamed: 0.1                    1217134 non-null  int64  \n",
      " 2   AIRLINE                         1217134 non-null  object \n",
      " 3   airport_A                       1217134 non-null  object \n",
      " 4   airport_B                       1217134 non-null  object \n",
      " 5   airport_C                       1217134 non-null  object \n",
      " 6   turnaround_time_ B              1217134 non-null  float64\n",
      " 7   DEPARTURE_DELAY_AB              1217134 non-null  float64\n",
      " 8   ARRIVAL_DELAY_AB                1217134 non-null  float64\n",
      " 9   ELAPSED_TIME_AB                 1217134 non-null  float64\n",
      " 10  DISTANCE_AB                     1217134 non-null  int64  \n",
      " 11  DISTANCEBC                      1217134 non-null  int64  \n",
      " 12  DEPARTURE_HOUR_AB               1217134 non-null  int64  \n",
      " 13  DEPARTURE_weekday_AB            1217134 non-null  int64  \n",
      " 14  DEPARTURE_day_AB                1217134 non-null  int64  \n",
      " 15  DEPARTURE_month_AB              1217134 non-null  int64  \n",
      " 16  ARRIVAL_HOUR_AB                 1217134 non-null  int64  \n",
      " 17  ARRIVAL_weekday_AB              1217134 non-null  int64  \n",
      " 18  ARRIVAL_day_AB                  1217134 non-null  int64  \n",
      " 19  ARRIVAL_month_AB                1217134 non-null  int64  \n",
      " 20  SCHEDULED_DEPARTURE_HOUR_BC     1217134 non-null  int64  \n",
      " 21  SCHEDULED_DEPARTURE_weekday_BC  1217134 non-null  int64  \n",
      " 22  SCHEDULED_DEPARTURE_day_BC      1217134 non-null  int64  \n",
      " 23  SCHEDULED_DEPARTURE_month_BC    1217134 non-null  int64  \n",
      "dtypes: float64(4), int64(16), object(4)\n",
      "memory usage: 222.9+ MB\n"
     ]
    }
   ],
   "source": [
    "data.info()"
   ]
  },
  {
   "cell_type": "code",
   "execution_count": 5,
   "metadata": {},
   "outputs": [
    {
     "data": {
      "text/plain": [
       "array(['WN'], dtype=object)"
      ]
     },
     "execution_count": 5,
     "metadata": {},
     "output_type": "execute_result"
    }
   ],
   "source": [
    "data['AIRLINE'].unique()"
   ]
  },
  {
   "cell_type": "code",
   "execution_count": 6,
   "metadata": {},
   "outputs": [
    {
     "name": "stdout",
     "output_type": "stream",
     "text": [
      "(1217134,)\n"
     ]
    },
    {
     "data": {
      "text/plain": [
       "(1217134, 533)"
      ]
     },
     "execution_count": 6,
     "metadata": {},
     "output_type": "execute_result"
    }
   ],
   "source": [
    "target = data['turnaround_time_ B']\n",
    "features = pd.get_dummies(data[['airport_A', 'airport_B', 'airport_C',\n",
    "       'DEPARTURE_DELAY_AB', 'ARRIVAL_DELAY_AB',\n",
    "       'ELAPSED_TIME_AB', 'DISTANCE_AB', 'DISTANCEBC', 'DEPARTURE_HOUR_AB',\n",
    "       'DEPARTURE_weekday_AB', 'DEPARTURE_day_AB', 'DEPARTURE_month_AB',\n",
    "       'ARRIVAL_HOUR_AB', 'ARRIVAL_weekday_AB', 'ARRIVAL_day_AB',\n",
    "       'ARRIVAL_month_AB', 'SCHEDULED_DEPARTURE_HOUR_BC',\n",
    "       'SCHEDULED_DEPARTURE_weekday_BC', 'SCHEDULED_DEPARTURE_day_BC',\n",
    "       'SCHEDULED_DEPARTURE_month_BC']])\n",
    "print(target.shape)\n",
    "features.shape"
   ]
  },
  {
   "cell_type": "code",
   "execution_count": 7,
   "metadata": {},
   "outputs": [
    {
     "name": "stdout",
     "output_type": "stream",
     "text": [
      "2.2814028830569737\n"
     ]
    },
    {
     "data": {
      "image/png": "[encoded data removed]",
      "text/plain": [
       "<Figure size 432x288 with 1 Axes>"
      ]
     },
     "metadata": {
      "needs_background": "light"
     },
     "output_type": "display_data"
    }
   ],
   "source": [
    "plt.hist(target,bins = 100, alpha = 0.5, label = 'target')\n",
    "print(np.mean(target))"
   ]
  },
  {
   "cell_type": "code",
   "execution_count": 8,
   "metadata": {},
   "outputs": [
    {
     "name": "stdout",
     "output_type": "stream",
     "text": [
      "(995844, 533)\n",
      "(221290, 533)\n"
     ]
    }
   ],
   "source": [
    "target_1, target_2 = target[target<= 4], target[target> 4]\n",
    "index_1 = target_1.index\n",
    "index_2 = target_2.index\n",
    "features_1, features_2 = features[features.index.isin(index_1)], features[features.index.isin(index_2)]\n",
    "print(features_1.shape)\n",
    "print(features_2.shape)\n",
    "del(data)"
   ]
  },
  {
   "cell_type": "code",
   "execution_count": 9,
   "metadata": {},
   "outputs": [],
   "source": [
    "models = {0 : linear_model.LinearRegression(),  \n",
    "          1 : GradientBoostingRegressor(n_estimators = 500, max_depth = 10, min_samples_split = 5, learning_rate = 0.1, loss= 'ls'),\n",
    "          2 : RandomForestRegressor(n_estimators = 500, max_depth = 10, random_state = 0) }\n",
    "model_name = {0 : \"Linear Regression\",\n",
    "              1 : \"Gradient Boosting Regressor\",\n",
    "              2 : \"Random Forest Regressor\"}"
   ]
  },
  {
   "cell_type": "markdown",
   "metadata": {},
   "source": [
    "# Fit_model Function"
   ]
  },
  {
   "cell_type": "code",
   "execution_count": 10,
   "metadata": {},
   "outputs": [],
   "source": [
    "def fit_model(model_type, name_model, features_data, target_data, rand_state,name_target):\n",
    "    X_train, X_test, y_train, y_test = train_test_split(features_data, target_data,\n",
    "                                                    random_state=rand_state, test_size=0.2)\n",
    "    model = model_type\n",
    "    model.fit(X_train, y_train)\n",
    "    y_test_predict = model.predict(X_test)\n",
    "    data_frame = pd.DataFrame([[name_target, name_model, np.sqrt(sum((y_test - y_test_predict)**2)/len(y_test)),\n",
    "                              np.sqrt(sum((y_test - np.mean(y_test))**2)/len(y_test)),\n",
    "                              np.mean(y_train), np.mean(y_test), np.mean(y_test_predict)]], \n",
    "                              columns = ['name_target','model','RMS_test_predict','RMS_test_mean',\n",
    "                                        'mean_train', 'mean_test', 'mean_test_predict'])\n",
    "    \n",
    "    # Plot the feature importance\n",
    "    plt.figure(figsize=(50, 50))\n",
    "    if name_model == \"Linear Regression\":\n",
    "        all_features = model.coef_\n",
    "    else:\n",
    "        all_features = model.feature_importances_\n",
    "    feat_scores_model = pd.DataFrame({'Fraction of Features' : all_features}, index=X_train.columns)\n",
    "    feat_scores_model = feat_scores_model.sort_values(by='Fraction of Features')\n",
    "    feat_scores_model = feat_scores_model[-10:]\n",
    "    plt.figure(figsize=(10, 50))\n",
    "    feat_scores_model.plot(kind='barh')\n",
    "    plt.legend(loc='lower right')\n",
    "    plt.savefig(\"the_most_important_WN_{}_predict_{}.png\".format(name_model, name_target), bbox_inches='tight')\n",
    "    return y_test, y_test_predict, data_frame, feat_scores_model\n",
    "\n",
    "def plot(name_model,y_test, y_test_predict,name_target):\n",
    "    \n",
    "    fig, ax = plt.subplots(figsize = (10,5))\n",
    "    ax.hist(y_test,bins = 100, alpha = 0.5, label = (name_target+'_test'))\n",
    "    ax.hist(y_test_predict, bins = 100,alpha = 0.5, label = name_target+'_test_predict')\n",
    "    ax.legend()\n",
    "    plt.savefig(\"histogram_WN_{}_predict_{}.png\".format(name_model, name_target), bbox_inches='tight')\n",
    "    "
   ]
  },
  {
   "cell_type": "markdown",
   "metadata": {},
   "source": [
    "# Linear Regression"
   ]
  },
  {
   "cell_type": "code",
   "execution_count": null,
   "metadata": {},
   "outputs": [],
   "source": [
    "target_1_test, target_1_test_predict, table_reg_1, feat_scores_reg_1 = fit_model(models[0],model_name[0], features_1,target_1, 347,'target_1')\n",
    "plot(model_name[0],target_1_test, target_1_test_predict, 'target_1')\n",
    "\n",
    "target_2_test, target_2_test_predict, table_reg_2, feat_scores_reg_2 = fit_model(models[0], model_name[0], features_2,target_2, 964,'target_2')\n",
    "plot(model_name[0],target_2_test, target_2_test_predict, 'target_2')\n",
    "pd.concat([table_reg_1, table_reg_2], axis=0)"
   ]
  },
  {
   "cell_type": "markdown",
   "metadata": {},
   "source": [
    "# Gradient Boosting Regressor"
   ]
  },
  {
   "cell_type": "code",
   "execution_count": null,
   "metadata": {
    "scrolled": true
   },
   "outputs": [],
   "source": [
    "target_1_test, target_1_test_predict, table_gbr_1, feat_scores_gbr_1 = fit_model(models[1],model_name[1], features_1,target_1, 347,'target_1')\n",
    "plot(model_name[1],target_1_test, target_1_test_predict,'target_1')\n",
    "\n",
    "print('*')\n",
    "target_2_test, target_2_test_predict, table_gbr_2, feat_scores_gbr_2 = fit_model(models[1],model_name[1], features_2,target_2, 1735,'target_2')\n",
    "plot(model_name[1],target_2_test, target_2_test_predict,'target_2')\n",
    "\n",
    "pd.concat([table_gbr_1, table_gbr_2], axis=0)"
   ]
  },
  {
   "cell_type": "markdown",
   "metadata": {},
   "source": [
    "# Random Forest Regressor "
   ]
  },
  {
   "cell_type": "code",
   "execution_count": null,
   "metadata": {},
   "outputs": [],
   "source": [
    "target_1_test, target_1_test_predict, table_rfr_1, feat_scores_rfr_1 = fit_model(models[2],model_name[2], features_1, target_1, 347,'target_1')\n",
    "plot(model_name[2],target_1_test, target_1_test_predict,'target_1')\n"
   ]
  },
  {
   "cell_type": "code",
   "execution_count": null,
   "metadata": {},
   "outputs": [],
   "source": [
    "print('*')\n",
    "target_2_test, target_2_test_predict, table_rfr_2, feat_scores_rfr_2 = fit_model(models[2],model_name[2], features_2,target_2, 347,'target_2')\n",
    "plot(model_name[2], target_2_test, target_2_test_predict,'target_2')\n",
    "pd.concat([table_rfr_1, table_rfr_2], axis=0)"
   ]
  },
  {
   "cell_type": "code",
   "execution_count": null,
   "metadata": {},
   "outputs": [],
   "source": []
  },
  {
   "cell_type": "code",
   "execution_count": null,
   "metadata": {},
   "outputs": [],
   "source": []
  }
 ],
 "metadata": {
  "kernelspec": {
   "display_name": "Python 3",
   "language": "python",
   "name": "python3"
  },
  "language_info": {
   "codemirror_mode": {
    "name": "ipython",
    "version": 3
   },
   "file_extension": ".py",
   "mimetype": "text/x-python",
   "name": "python",
   "nbconvert_exporter": "python",
   "pygments_lexer": "ipython3",
   "version": "3.6.9"
  }
 },
 "nbformat": 4,
 "nbformat_minor": 2
}

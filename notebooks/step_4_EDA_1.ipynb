{
 "cells": [
  {
   "cell_type": "code",
   "execution_count": null,
   "metadata": {},
   "outputs": [],
   "source": [
    "import numpy as np\n",
    "import pandas as pd\n",
    "import matplotlib.pyplot as plt\n",
    "from datetime import datetime, date, time \n",
    "from scipy import stats"
   ]
  },
  {
   "cell_type": "markdown",
   "metadata": {},
   "source": [
    "# Read Data!"
   ]
  },
  {
   "cell_type": "code",
   "execution_count": null,
   "metadata": {},
   "outputs": [],
   "source": [
    "data1 = pd.read_csv(\"flights_step_3.csv\")\n",
    "data = data1#[0:1000000]\n",
    "print('shape of data:', data.shape)\n",
    "data.head(4)"
   ]
  },
  {
   "cell_type": "code",
   "execution_count": null,
   "metadata": {},
   "outputs": [],
   "source": [
    "#functions#####\n",
    "#Seperate data based on the airlines in new dataFrame\n",
    "def seperate_data_based_on_airline(airline, data):\n",
    "    a = data[data['AIRLINE'] == airline]\n",
    "    print('shape of data_airline {} = {}'.format(airline, a.shape))\n",
    "    return a\n",
    "    #data_airline.to_csv('data_{}.csv'.format(airline))\n",
    "#*******tables******\n",
    "def compare_number_flights_based_on_air_portB(airlines, name_of_airline): \n",
    "    a = np.transpose([len(airlines[name]['airport_B']) for name in name_of_airline])\n",
    "    b = np.transpose([airlines[name]['airport_B'].value_counts().describe().mean() for name in name_of_airline])\n",
    "    c = np.transpose([airlines[name]['airport_B'].value_counts().describe().std() for name in name_of_airline])\n",
    "    d = np.transpose([airlines[name]['airport_B'].value_counts().describe().min() for name in name_of_airline])\n",
    "    e = np.transpose([airlines[name]['airport_B'].value_counts().describe().max() for name in name_of_airline])\n",
    "    df = pd.DataFrame((a, b, c, d, e),\n",
    "             index = ['count_flight','mean', 'std', 'min', 'max'], columns = name_of_airline).round(0)\n",
    "    return df.sort_values(by = ['count_flight'], axis = 1)"
   ]
  },
  {
   "cell_type": "code",
   "execution_count": null,
   "metadata": {},
   "outputs": [],
   "source": [
    "compare = pd.DataFrame([format(np.unique(data['AIRLINE']).shape),\n",
    "                        format(np.unique(data[\"airport_A\"]).shape),\n",
    "                        format(np.unique(data[\"airport_B\"]).shape),\n",
    "                        format(np.unique(data[\"airport_C\"]).shape)],\n",
    "                       columns = ['size'], index = ['AIRLINE',\"airport_A\", \"airport_B\", \"airport_C\"])\n",
    "compare"
   ]
  },
  {
   "cell_type": "code",
   "execution_count": null,
   "metadata": {},
   "outputs": [],
   "source": [
    "#name of airlines\n",
    "name_of_airline = np.unique(data.AIRLINE)\n",
    "# Seperate data based on the airlines in new dataFrame\n",
    "airlines = {}\n",
    "for i in name_of_airline:\n",
    "     airlines[i] = pd.DataFrame(seperate_data_based_on_airline(i, data))"
   ]
  },
  {
   "cell_type": "code",
   "execution_count": null,
   "metadata": {},
   "outputs": [],
   "source": [
    "df = compare_number_flights_based_on_air_portB(airlines, name_of_airline)\n",
    "df"
   ]
  },
  {
   "cell_type": "code",
   "execution_count": null,
   "metadata": {},
   "outputs": [],
   "source": [
    "data.columns"
   ]
  },
  {
   "cell_type": "code",
   "execution_count": null,
   "metadata": {},
   "outputs": [],
   "source": [
    "'turnaround_time_ B'\n",
    "\n",
    "'TAIL_NUMBER', 'AIRLINE',\n",
    "\n",
    "'airport_A', 'airport_B', 'airport_C',\n",
    "\n",
    "''SCHEDULED_DEPARTURE_AB'', 'DEPARTURE_TIME_AB', 'DEPARTURE_DELAY_AB', \n",
    "''SCHEDULED_ARRIVAL_AB''  , 'ARRIVAL_TIME_AB'  , 'ARRIVAL_DELAY_AB'  , \n",
    "''SCHEDULED_DEPARTURE_BC'', 'DEPARTURE_TIME_BC', 'DEPARTURE_DELAY_BC', \n",
    "'ELAPSED_TIME_AB', 'ELAPSED_TIME_BC', \n",
    "'DISTANCE_AB', 'DISTANCEBC'\n",
    "\n",
    "functions:\n",
    "    1- for ariport: data and average data of TAT via airport_B, A, C\n",
    "    2- for date: data and average data of TAT via arrival time, day of week, day of month and month\n",
    "    3- for delay, elapsed, distance: data and average data of TAT via delay, elapsed, distance"
   ]
  },
  {
   "cell_type": "markdown",
   "metadata": {},
   "source": [
    "# EDA"
   ]
  },
  {
   "cell_type": "code",
   "execution_count": null,
   "metadata": {},
   "outputs": [],
   "source": [
    "#data and average data of TAT via airport_B, A, C\n",
    "def plot_TAT_via_airport(data_airline, name_airline, airport):\n",
    "    c = ['blue','lightblue', 'red', 'pink']\n",
    "    cc = 0\n",
    "    length = int(len(name_airline)/2)+int(len(name_airline)%2)\n",
    "    fig, axs = plt.subplots(length, 2, figsize = (15, 35))\n",
    "    l, k, m = 0, 0, 0\n",
    "    for j in name_airline:\n",
    "            k = (m)//(length)\n",
    "            l = m%(length)\n",
    "            a = data_airline[data_airline['AIRLINE'] == j]\n",
    "            list_airport = pd.unique(a[airport])\n",
    "            for i in list_airport:\n",
    "                interval = a[a[airport] == i]\n",
    "                x = [i,i]\n",
    "                y = [min(interval['turnaround_time_ B']), max(interval['turnaround_time_ B'])]\n",
    "                axs[l][k].plot(x, y,color = c[cc+1])\n",
    "                axs[l][k].plot(i,np.mean(interval['turnaround_time_ B']),\n",
    "                              marker = 'o', color = c[cc])\n",
    "                #plt.xticks(rotation=90)\n",
    "                \n",
    "            if cc == 0 or cc == 2:\n",
    "                axs[l][k].scatter(0,0,color ='white',label = j)\n",
    "            \n",
    "            axs[l][k].set_xlabel(airport)\n",
    "            axs[l][k].set_ylabel('turnaround_time_ B', color = 'blue')\n",
    "            \n",
    "            axs[l][k].legend()\n",
    "            m += 1\n",
    "    cc += 1"
   ]
  },
  {
   "cell_type": "code",
   "execution_count": null,
   "metadata": {},
   "outputs": [],
   "source": [
    "plot_TAT_via_airport(data, name_of_airline, \"airport_A\")\n",
    "plot_TAT_via_airport(data, name_of_airline, \"airport_B\")\n",
    "plot_TAT_via_airport(data, name_of_airline, \"airport_C\")"
   ]
  },
  {
   "cell_type": "code",
   "execution_count": null,
   "metadata": {},
   "outputs": [],
   "source": []
  }
 ],
 "metadata": {
  "kernelspec": {
   "display_name": "Python 3",
   "language": "python",
   "name": "python3"
  },
  "language_info": {
   "codemirror_mode": {
    "name": "ipython",
    "version": 3
   },
   "file_extension": ".py",
   "mimetype": "text/x-python",
   "name": "python",
   "nbconvert_exporter": "python",
   "pygments_lexer": "ipython3",
   "version": "3.6.9"
  }
 },
 "nbformat": 4,
 "nbformat_minor": 2
}

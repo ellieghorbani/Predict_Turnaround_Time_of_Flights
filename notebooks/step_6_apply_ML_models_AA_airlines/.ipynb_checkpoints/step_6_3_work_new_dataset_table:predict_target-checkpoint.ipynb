{
 "cells": [
  {
   "cell_type": "code",
   "execution_count": 1,
   "metadata": {},
   "outputs": [
    {
     "name": "stderr",
     "output_type": "stream",
     "text": [
      "In /home/elaheh/.local/lib/python3.6/site-packages/matplotlib/mpl-data/stylelib/_classic_test.mplstyle: \n",
      "The text.latex.preview rcparam was deprecated in Matplotlib 3.3 and will be removed two minor releases later.\n",
      "In /home/elaheh/.local/lib/python3.6/site-packages/matplotlib/mpl-data/stylelib/_classic_test.mplstyle: \n",
      "The mathtext.fallback_to_cm rcparam was deprecated in Matplotlib 3.3 and will be removed two minor releases later.\n",
      "In /home/elaheh/.local/lib/python3.6/site-packages/matplotlib/mpl-data/stylelib/_classic_test.mplstyle: Support for setting the 'mathtext.fallback_to_cm' rcParam is deprecated since 3.3 and will be removed two minor releases later; use 'mathtext.fallback : 'cm' instead.\n",
      "In /home/elaheh/.local/lib/python3.6/site-packages/matplotlib/mpl-data/stylelib/_classic_test.mplstyle: \n",
      "The validate_bool_maybe_none function was deprecated in Matplotlib 3.3 and will be removed two minor releases later.\n",
      "In /home/elaheh/.local/lib/python3.6/site-packages/matplotlib/mpl-data/stylelib/_classic_test.mplstyle: \n",
      "The savefig.jpeg_quality rcparam was deprecated in Matplotlib 3.3 and will be removed two minor releases later.\n",
      "In /home/elaheh/.local/lib/python3.6/site-packages/matplotlib/mpl-data/stylelib/_classic_test.mplstyle: \n",
      "The keymap.all_axes rcparam was deprecated in Matplotlib 3.3 and will be removed two minor releases later.\n",
      "In /home/elaheh/.local/lib/python3.6/site-packages/matplotlib/mpl-data/stylelib/_classic_test.mplstyle: \n",
      "The animation.avconv_path rcparam was deprecated in Matplotlib 3.3 and will be removed two minor releases later.\n",
      "In /home/elaheh/.local/lib/python3.6/site-packages/matplotlib/mpl-data/stylelib/_classic_test.mplstyle: \n",
      "The animation.avconv_args rcparam was deprecated in Matplotlib 3.3 and will be removed two minor releases later.\n"
     ]
    }
   ],
   "source": [
    "import numpy as np\n",
    "import pandas as pd\n",
    "import matplotlib.pyplot as plt\n",
    "from datetime import datetime, date, time \n",
    "from scipy import stats\n",
    "from sklearn import linear_model\n",
    "from sklearn.datasets import make_regression\n",
    "from sklearn.model_selection import cross_val_score\n",
    "from sklearn.model_selection import RepeatedKFold\n",
    "from sklearn.ensemble import GradientBoostingRegressor\n",
    "from sklearn.model_selection import train_test_split\n",
    "from sklearn.metrics import confusion_matrix\n",
    "from sklearn.metrics import mean_squared_error, r2_score\n",
    "from sklearn.preprocessing import PolynomialFeatures\n",
    "from sklearn.ensemble import RandomForestRegressor \n",
    "#from tabulate import tabulate"
   ]
  },
  {
   "cell_type": "markdown",
   "metadata": {},
   "source": [
    "# read Data!"
   ]
  },
  {
   "cell_type": "code",
   "execution_count": 2,
   "metadata": {},
   "outputs": [
    {
     "name": "stdout",
     "output_type": "stream",
     "text": [
      "shape of data: (673631, 23)\n"
     ]
    },
    {
     "data": {
      "text/html": [
       "<div>\n",
       "<style scoped>\n",
       "    .dataframe tbody tr th:only-of-type {\n",
       "        vertical-align: middle;\n",
       "    }\n",
       "\n",
       "    .dataframe tbody tr th {\n",
       "        vertical-align: top;\n",
       "    }\n",
       "\n",
       "    .dataframe thead th {\n",
       "        text-align: right;\n",
       "    }\n",
       "</style>\n",
       "<table border=\"1\" class=\"dataframe\">\n",
       "  <thead>\n",
       "    <tr style=\"text-align: right;\">\n",
       "      <th></th>\n",
       "      <th>Unnamed: 0</th>\n",
       "      <th>AIRLINE</th>\n",
       "      <th>airport_A</th>\n",
       "      <th>airport_B</th>\n",
       "      <th>airport_C</th>\n",
       "      <th>turnaround_time_ B</th>\n",
       "      <th>DEPARTURE_DELAY_AB</th>\n",
       "      <th>ARRIVAL_DELAY_AB</th>\n",
       "      <th>ELAPSED_TIME_AB</th>\n",
       "      <th>DISTANCE_AB</th>\n",
       "      <th>...</th>\n",
       "      <th>DEPARTURE_day_AB</th>\n",
       "      <th>DEPARTURE_month_AB</th>\n",
       "      <th>ARRIVAL_HOUR_AB</th>\n",
       "      <th>ARRIVAL_weekday_AB</th>\n",
       "      <th>ARRIVAL_day_AB</th>\n",
       "      <th>ARRIVAL_month_AB</th>\n",
       "      <th>SCHEDULED_DEPARTURE_HOUR_BC</th>\n",
       "      <th>SCHEDULED_DEPARTURE_weekday_BC</th>\n",
       "      <th>SCHEDULED_DEPARTURE_day_BC</th>\n",
       "      <th>SCHEDULED_DEPARTURE_month_BC</th>\n",
       "    </tr>\n",
       "  </thead>\n",
       "  <tbody>\n",
       "    <tr>\n",
       "      <th>0</th>\n",
       "      <td>772</td>\n",
       "      <td>AA</td>\n",
       "      <td>DFW</td>\n",
       "      <td>MEM</td>\n",
       "      <td>DFW</td>\n",
       "      <td>0.700000</td>\n",
       "      <td>-3.0</td>\n",
       "      <td>-6.0</td>\n",
       "      <td>82.0</td>\n",
       "      <td>432</td>\n",
       "      <td>...</td>\n",
       "      <td>1</td>\n",
       "      <td>1</td>\n",
       "      <td>15</td>\n",
       "      <td>3</td>\n",
       "      <td>1</td>\n",
       "      <td>1</td>\n",
       "      <td>15</td>\n",
       "      <td>3</td>\n",
       "      <td>1</td>\n",
       "      <td>1</td>\n",
       "    </tr>\n",
       "    <tr>\n",
       "      <th>1</th>\n",
       "      <td>773</td>\n",
       "      <td>AA</td>\n",
       "      <td>MEM</td>\n",
       "      <td>DFW</td>\n",
       "      <td>ATL</td>\n",
       "      <td>13.516667</td>\n",
       "      <td>-4.0</td>\n",
       "      <td>-9.0</td>\n",
       "      <td>95.0</td>\n",
       "      <td>432</td>\n",
       "      <td>...</td>\n",
       "      <td>1</td>\n",
       "      <td>1</td>\n",
       "      <td>17</td>\n",
       "      <td>3</td>\n",
       "      <td>1</td>\n",
       "      <td>1</td>\n",
       "      <td>7</td>\n",
       "      <td>4</td>\n",
       "      <td>2</td>\n",
       "      <td>1</td>\n",
       "    </tr>\n",
       "    <tr>\n",
       "      <th>2</th>\n",
       "      <td>774</td>\n",
       "      <td>AA</td>\n",
       "      <td>DFW</td>\n",
       "      <td>ATL</td>\n",
       "      <td>DFW</td>\n",
       "      <td>0.683333</td>\n",
       "      <td>-8.0</td>\n",
       "      <td>-9.0</td>\n",
       "      <td>124.0</td>\n",
       "      <td>731</td>\n",
       "      <td>...</td>\n",
       "      <td>2</td>\n",
       "      <td>1</td>\n",
       "      <td>9</td>\n",
       "      <td>4</td>\n",
       "      <td>2</td>\n",
       "      <td>1</td>\n",
       "      <td>10</td>\n",
       "      <td>4</td>\n",
       "      <td>2</td>\n",
       "      <td>1</td>\n",
       "    </tr>\n",
       "    <tr>\n",
       "      <th>3</th>\n",
       "      <td>775</td>\n",
       "      <td>AA</td>\n",
       "      <td>ATL</td>\n",
       "      <td>DFW</td>\n",
       "      <td>GUC</td>\n",
       "      <td>0.850000</td>\n",
       "      <td>-8.0</td>\n",
       "      <td>2.0</td>\n",
       "      <td>160.0</td>\n",
       "      <td>731</td>\n",
       "      <td>...</td>\n",
       "      <td>2</td>\n",
       "      <td>1</td>\n",
       "      <td>12</td>\n",
       "      <td>4</td>\n",
       "      <td>2</td>\n",
       "      <td>1</td>\n",
       "      <td>13</td>\n",
       "      <td>4</td>\n",
       "      <td>2</td>\n",
       "      <td>1</td>\n",
       "    </tr>\n",
       "  </tbody>\n",
       "</table>\n",
       "<p>4 rows × 23 columns</p>\n",
       "</div>"
      ],
      "text/plain": [
       "   Unnamed: 0 AIRLINE airport_A airport_B airport_C  turnaround_time_ B  \\\n",
       "0         772      AA       DFW       MEM       DFW            0.700000   \n",
       "1         773      AA       MEM       DFW       ATL           13.516667   \n",
       "2         774      AA       DFW       ATL       DFW            0.683333   \n",
       "3         775      AA       ATL       DFW       GUC            0.850000   \n",
       "\n",
       "   DEPARTURE_DELAY_AB  ARRIVAL_DELAY_AB  ELAPSED_TIME_AB  DISTANCE_AB  ...  \\\n",
       "0                -3.0              -6.0             82.0          432  ...   \n",
       "1                -4.0              -9.0             95.0          432  ...   \n",
       "2                -8.0              -9.0            124.0          731  ...   \n",
       "3                -8.0               2.0            160.0          731  ...   \n",
       "\n",
       "   DEPARTURE_day_AB  DEPARTURE_month_AB  ARRIVAL_HOUR_AB  ARRIVAL_weekday_AB  \\\n",
       "0                 1                   1               15                   3   \n",
       "1                 1                   1               17                   3   \n",
       "2                 2                   1                9                   4   \n",
       "3                 2                   1               12                   4   \n",
       "\n",
       "   ARRIVAL_day_AB  ARRIVAL_month_AB  SCHEDULED_DEPARTURE_HOUR_BC  \\\n",
       "0               1                 1                           15   \n",
       "1               1                 1                            7   \n",
       "2               2                 1                           10   \n",
       "3               2                 1                           13   \n",
       "\n",
       "   SCHEDULED_DEPARTURE_weekday_BC  SCHEDULED_DEPARTURE_day_BC  \\\n",
       "0                               3                           1   \n",
       "1                               4                           2   \n",
       "2                               4                           2   \n",
       "3                               4                           2   \n",
       "\n",
       "   SCHEDULED_DEPARTURE_month_BC  \n",
       "0                             1  \n",
       "1                             1  \n",
       "2                             1  \n",
       "3                             1  \n",
       "\n",
       "[4 rows x 23 columns]"
      ]
     },
     "execution_count": 2,
     "metadata": {},
     "output_type": "execute_result"
    }
   ],
   "source": [
    "data = pd.read_csv(\"data_flights_of_AA_%12.csv\")\n",
    "print('shape of data:', data.shape)\n",
    "data.head(4)"
   ]
  },
  {
   "cell_type": "code",
   "execution_count": 3,
   "metadata": {},
   "outputs": [
    {
     "data": {
      "text/plain": [
       "Index(['Unnamed: 0', 'AIRLINE', 'airport_A', 'airport_B', 'airport_C',\n",
       "       'turnaround_time_ B', 'DEPARTURE_DELAY_AB', 'ARRIVAL_DELAY_AB',\n",
       "       'ELAPSED_TIME_AB', 'DISTANCE_AB', 'DISTANCEBC', 'DEPARTURE_HOUR_AB',\n",
       "       'DEPARTURE_weekday_AB', 'DEPARTURE_day_AB', 'DEPARTURE_month_AB',\n",
       "       'ARRIVAL_HOUR_AB', 'ARRIVAL_weekday_AB', 'ARRIVAL_day_AB',\n",
       "       'ARRIVAL_month_AB', 'SCHEDULED_DEPARTURE_HOUR_BC',\n",
       "       'SCHEDULED_DEPARTURE_weekday_BC', 'SCHEDULED_DEPARTURE_day_BC',\n",
       "       'SCHEDULED_DEPARTURE_month_BC'],\n",
       "      dtype='object')"
      ]
     },
     "execution_count": 3,
     "metadata": {},
     "output_type": "execute_result"
    }
   ],
   "source": [
    "data.columns"
   ]
  },
  {
   "cell_type": "markdown",
   "metadata": {},
   "source": [
    "# Modeling"
   ]
  },
  {
   "cell_type": "code",
   "execution_count": 4,
   "metadata": {},
   "outputs": [
    {
     "name": "stdout",
     "output_type": "stream",
     "text": [
      "<class 'pandas.core.frame.DataFrame'>\n",
      "RangeIndex: 673631 entries, 0 to 673630\n",
      "Data columns (total 23 columns):\n",
      " #   Column                          Non-Null Count   Dtype  \n",
      "---  ------                          --------------   -----  \n",
      " 0   Unnamed: 0                      673631 non-null  int64  \n",
      " 1   AIRLINE                         673631 non-null  object \n",
      " 2   airport_A                       673631 non-null  object \n",
      " 3   airport_B                       673631 non-null  object \n",
      " 4   airport_C                       673631 non-null  object \n",
      " 5   turnaround_time_ B              673631 non-null  float64\n",
      " 6   DEPARTURE_DELAY_AB              673631 non-null  float64\n",
      " 7   ARRIVAL_DELAY_AB                673631 non-null  float64\n",
      " 8   ELAPSED_TIME_AB                 673631 non-null  float64\n",
      " 9   DISTANCE_AB                     673631 non-null  int64  \n",
      " 10  DISTANCEBC                      673631 non-null  int64  \n",
      " 11  DEPARTURE_HOUR_AB               673631 non-null  int64  \n",
      " 12  DEPARTURE_weekday_AB            673631 non-null  int64  \n",
      " 13  DEPARTURE_day_AB                673631 non-null  int64  \n",
      " 14  DEPARTURE_month_AB              673631 non-null  int64  \n",
      " 15  ARRIVAL_HOUR_AB                 673631 non-null  int64  \n",
      " 16  ARRIVAL_weekday_AB              673631 non-null  int64  \n",
      " 17  ARRIVAL_day_AB                  673631 non-null  int64  \n",
      " 18  ARRIVAL_month_AB                673631 non-null  int64  \n",
      " 19  SCHEDULED_DEPARTURE_HOUR_BC     673631 non-null  int64  \n",
      " 20  SCHEDULED_DEPARTURE_weekday_BC  673631 non-null  int64  \n",
      " 21  SCHEDULED_DEPARTURE_day_BC      673631 non-null  int64  \n",
      " 22  SCHEDULED_DEPARTURE_month_BC    673631 non-null  int64  \n",
      "dtypes: float64(4), int64(15), object(4)\n",
      "memory usage: 118.2+ MB\n"
     ]
    }
   ],
   "source": [
    "data.info()"
   ]
  },
  {
   "cell_type": "code",
   "execution_count": 5,
   "metadata": {},
   "outputs": [
    {
     "data": {
      "text/plain": [
       "array(['AA'], dtype=object)"
      ]
     },
     "execution_count": 5,
     "metadata": {},
     "output_type": "execute_result"
    }
   ],
   "source": [
    "data['AIRLINE'].unique()"
   ]
  },
  {
   "cell_type": "code",
   "execution_count": 6,
   "metadata": {},
   "outputs": [
    {
     "name": "stdout",
     "output_type": "stream",
     "text": [
      "(673631,)\n"
     ]
    },
    {
     "data": {
      "text/plain": [
       "(673631, 578)"
      ]
     },
     "execution_count": 6,
     "metadata": {},
     "output_type": "execute_result"
    }
   ],
   "source": [
    "target = data['turnaround_time_ B']\n",
    "features = pd.get_dummies(data[['airport_A', 'airport_B', 'airport_C',\n",
    "       'DEPARTURE_DELAY_AB', 'ARRIVAL_DELAY_AB',\n",
    "       'ELAPSED_TIME_AB', 'DISTANCE_AB', 'DISTANCEBC', 'DEPARTURE_HOUR_AB',\n",
    "       'DEPARTURE_weekday_AB', 'DEPARTURE_day_AB', 'DEPARTURE_month_AB',\n",
    "       'ARRIVAL_HOUR_AB', 'ARRIVAL_weekday_AB', 'ARRIVAL_day_AB',\n",
    "       'ARRIVAL_month_AB', 'SCHEDULED_DEPARTURE_HOUR_BC',\n",
    "       'SCHEDULED_DEPARTURE_weekday_BC', 'SCHEDULED_DEPARTURE_day_BC',\n",
    "       'SCHEDULED_DEPARTURE_month_BC']])\n",
    "print(target.shape)\n",
    "features.shape"
   ]
  },
  {
   "cell_type": "code",
   "execution_count": 7,
   "metadata": {},
   "outputs": [
    {
     "name": "stdout",
     "output_type": "stream",
     "text": [
      "3.758684254930864\n"
     ]
    },
    {
     "data": {
      "image/png": "[encoded data removed]",
      "text/plain": [
       "<Figure size 432x288 with 1 Axes>"
      ]
     },
     "metadata": {
      "needs_background": "light"
     },
     "output_type": "display_data"
    }
   ],
   "source": [
    "plt.hist(target,bins = 100, alpha = 0.5, label = 'target')\n",
    "print(np.mean(target))"
   ]
  },
  {
   "cell_type": "code",
   "execution_count": 8,
   "metadata": {},
   "outputs": [
    {
     "name": "stdout",
     "output_type": "stream",
     "text": [
      "(487926, 578)\n",
      "(185705, 578)\n"
     ]
    }
   ],
   "source": [
    "target_1, target_2 = target[target<= 4], target[target> 4]\n",
    "index_1 = target_1.index\n",
    "index_2 = target_2.index\n",
    "features_1, features_2 = features[features.index.isin(index_1)], features[features.index.isin(index_2)]\n",
    "print(features_1.shape)\n",
    "print(features_2.shape)\n",
    "del(data)"
   ]
  },
  {
   "cell_type": "markdown",
   "metadata": {},
   "source": [
    "# Linear Regression"
   ]
  },
  {
   "cell_type": "code",
   "execution_count": 10,
   "metadata": {},
   "outputs": [],
   "source": [
    "def reg_model(features_data, target_data, num_sample, rand_state,name_target):\n",
    "    features_data_sub = features_data.sample(num_sample)\n",
    "    target_data_sub = target_data[features_data_sub.index]\n",
    "    X_train, X_test, y_train, y_test = train_test_split(features_data_sub, target_data_sub,\n",
    "                                                    random_state=rand_state, test_size=0.2)\n",
    "    reg = linear_model.LinearRegression()\n",
    "    reg.fit(X_train, y_train)\n",
    "    y_test_predict = reg.predict(X_test)\n",
    "    y_predict = reg.predict(features_data)\n",
    "    data_frame = pd.DataFrame([[name_target, 'Linear Regression', np.sqrt(sum((y_test - y_test_predict)**2)/len(y_test)),\n",
    "                              np.sqrt(sum((y_test - np.mean(y_test))**2)/len(y_test)),\n",
    "                              np.mean(target_data),np.mean(target_data_sub), np.mean(y_train), \n",
    "                              np.mean(y_test), np.mean(y_test_predict), np.mean(y_predict)]], \n",
    "                              columns = ['name_target','model','RMS_test_predict','RMS_test_mean',\n",
    "                                        'mean_target','mean_sample', 'mean_train', \n",
    "                                        'mean_test', 'mean_test_predict', 'meant_target_predict'])\n",
    "    \n",
    "    # Plot the feature importance\n",
    "    all_features = reg.coef_\n",
    "    feat_scores_reg = pd.DataFrame({'Fraction of Samples Affected' : all_features}, index=X_train.columns)\n",
    "    feat_scores_reg = feat_scores_reg.sort_values(by='Fraction of Samples Affected')\n",
    "    feat_scores_reg = feat_scores_reg[-15:]\n",
    "    plt.figure(figsize=(10, 50))\n",
    "    feat_scores_reg.plot(kind='barh')\n",
    "    plt.legend(loc='upper left')\n",
    "    \n",
    "    return y_test, y_test_predict,y_predict, data_frame, feat_scores_reg\n",
    "\n",
    "def reg_plot(features_data,y_test, y_test_predict,y_predict,name_target):\n",
    "    \n",
    "    fig, axs = plt.subplots(1,2,figsize = (15,5))\n",
    "    axs[0].hist(y_test,bins = 100, alpha = 0.5, label = (name_target+'_test'))\n",
    "    axs[0].hist(y_test_predict, bins = 100,alpha = 0.5, label = name_target+'_test_predict')\n",
    "    axs[0].legend()\n",
    "    axs[1].hist(features_data,bins = 100, alpha = 0.5, label = name_target)\n",
    "    axs[1].hist(y_predict, bins = 100,alpha = 0.5, label = name_target+'_predict')\n",
    "    axs[1].legend()"
   ]
  },
  {
   "cell_type": "code",
   "execution_count": 12,
   "metadata": {},
   "outputs": [
    {
     "data": {
      "text/html": [
       "<div>\n",
       "<style scoped>\n",
       "    .dataframe tbody tr th:only-of-type {\n",
       "        vertical-align: middle;\n",
       "    }\n",
       "\n",
       "    .dataframe tbody tr th {\n",
       "        vertical-align: top;\n",
       "    }\n",
       "\n",
       "    .dataframe thead th {\n",
       "        text-align: right;\n",
       "    }\n",
       "</style>\n",
       "<table border=\"1\" class=\"dataframe\">\n",
       "  <thead>\n",
       "    <tr style=\"text-align: right;\">\n",
       "      <th></th>\n",
       "      <th>name_target</th>\n",
       "      <th>model</th>\n",
       "      <th>RMS_test_predict</th>\n",
       "      <th>RMS_test_mean</th>\n",
       "      <th>mean_target</th>\n",
       "      <th>mean_sample</th>\n",
       "      <th>mean_train</th>\n",
       "      <th>mean_test</th>\n",
       "      <th>mean_test_predict</th>\n",
       "      <th>meant_target_predict</th>\n",
       "    </tr>\n",
       "  </thead>\n",
       "  <tbody>\n",
       "    <tr>\n",
       "      <th>0</th>\n",
       "      <td>target_1</td>\n",
       "      <td>Linear Regression</td>\n",
       "      <td>2.427473e+04</td>\n",
       "      <td>0.525373</td>\n",
       "      <td>1.203914</td>\n",
       "      <td>1.202853</td>\n",
       "      <td>1.203626</td>\n",
       "      <td>1.199760</td>\n",
       "      <td>42.486653</td>\n",
       "      <td>91.220570</td>\n",
       "    </tr>\n",
       "    <tr>\n",
       "      <th>0</th>\n",
       "      <td>target_2</td>\n",
       "      <td>Linear Regression</td>\n",
       "      <td>2.663429e+06</td>\n",
       "      <td>3.969707</td>\n",
       "      <td>10.471152</td>\n",
       "      <td>10.463719</td>\n",
       "      <td>10.461191</td>\n",
       "      <td>10.473829</td>\n",
       "      <td>-18617.587197</td>\n",
       "      <td>-7311.914125</td>\n",
       "    </tr>\n",
       "  </tbody>\n",
       "</table>\n",
       "</div>"
      ],
      "text/plain": [
       "  name_target              model  RMS_test_predict  RMS_test_mean  \\\n",
       "0    target_1  Linear Regression      2.427473e+04       0.525373   \n",
       "0    target_2  Linear Regression      2.663429e+06       3.969707   \n",
       "\n",
       "   mean_target  mean_sample  mean_train  mean_test  mean_test_predict  \\\n",
       "0     1.203914     1.202853    1.203626   1.199760          42.486653   \n",
       "0    10.471152    10.463719   10.461191  10.473829      -18617.587197   \n",
       "\n",
       "   meant_target_predict  \n",
       "0             91.220570  \n",
       "0          -7311.914125  "
      ]
     },
     "execution_count": 12,
     "metadata": {},
     "output_type": "execute_result"
    },
    {
     "data": {
      "text/plain": [
       "<Figure size 720x3600 with 0 Axes>"
      ]
     },
     "metadata": {},
     "output_type": "display_data"
    },
    {
     "data": {
      "image/png": "[encoded data removed]",
      "text/plain": [
       "<Figure size 432x288 with 1 Axes>"
      ]
     },
     "metadata": {
      "needs_background": "light"
     },
     "output_type": "display_data"
    },
    {
     "data": {
      "image/png": "[encoded data removed]",
      "text/plain": [
       "<Figure size 1080x360 with 2 Axes>"
      ]
     },
     "metadata": {
      "needs_background": "light"
     },
     "output_type": "display_data"
    },
    {
     "data": {
      "text/plain": [
       "<Figure size 720x3600 with 0 Axes>"
      ]
     },
     "metadata": {},
     "output_type": "display_data"
    },
    {
     "data": {
      "image/png": "[encoded data removed]",
      "text/plain": [
       "<Figure size 432x288 with 1 Axes>"
      ]
     },
     "metadata": {
      "needs_background": "light"
     },
     "output_type": "display_data"
    },
    {
     "data": {
      "image/png": "[encoded data removed]",
      "text/plain": [
       "<Figure size 1080x360 with 2 Axes>"
      ]
     },
     "metadata": {
      "needs_background": "light"
     },
     "output_type": "display_data"
    }
   ],
   "source": [
    "target_1_test, target_1_test_predict, target_1_predict,table_reg_1, feat_scores_reg_1 = reg_model(features_1,target_1, 100000, 347,'target_1')\n",
    "reg_plot(target_1,target_1_test, target_1_test_predict, target_1_predict,'target_1')\n",
    "\n",
    "target_2_test, target_2_test_predict, target_2_predict,table_reg_2, feat_scores_reg_2 = reg_model(features_2,target_2, 100000, 964,'target_2')\n",
    "reg_plot(target_2,target_2_test, target_2_test_predict, target_2_predict,'target_2')\n",
    "pd.concat([table_reg_1, table_reg_2], axis=0)"
   ]
  },
  {
   "cell_type": "markdown",
   "metadata": {},
   "source": [
    "# Polynomial Regression"
   ]
  },
  {
   "cell_type": "code",
   "execution_count": null,
   "metadata": {},
   "outputs": [],
   "source": [
    "def pre_model(features_data, target_data, num_sample, rand_state):\n",
    "    features_data_sub = features_data.sample(num_sample)\n",
    "    target_data_sub = target_data[features_data_sub.index]\n",
    "    X_train, X_test, y_train, y_test = train_test_split(features_data_sub, target_data_sub,\n",
    "                                                    random_state=rand_state, test_size=0.2)\n",
    "    \n",
    "    poly_reg = PolynomialFeatures(degree=2)\n",
    "    X_poly = poly_reg.fit_transform(X_train)\n",
    "    reg =linear_model.LinearRegression()\n",
    "    reg.fit(X_poly, y_train)\n",
    "    \n",
    "    X_test_poly = poly_reg.fit_transform(X_test)\n",
    "    y_test_predict = reg.predict(X_test_poly)\n",
    "    features_poly = poly_reg.fit_transform(features_data)\n",
    "    y_predict = reg.predict(features_ploy)\n",
    "    print('RMS_test_predict = %f'%(np.sqrt(sum((y_test - y_test_predict)**2)/len(y_test))))\n",
    "    print('RMS_test_mean = %f'%(np.sqrt(sum((y_test - np.mean(y_test))**2)/len(y_test))))\n",
    "    print('mean_target = %f'%(np.mean(target_data)))\n",
    "    print('mean_target_sub = %f'%(np.mean(target_data_sub)))\n",
    "    print('mean_target_train = %f'%(np.mean(y_train)))\n",
    "    print('mean_target_test = %f'%(np.mean(y_test)))\n",
    "    print('mean_target_predict = %f'%(np.mean(y_predict)))\n",
    "    return y_test, y_test_predict,y_predict\n"
   ]
  },
  {
   "cell_type": "markdown",
   "metadata": {},
   "source": [
    "# Gradient Boosting Regressor"
   ]
  },
  {
   "cell_type": "code",
   "execution_count": 13,
   "metadata": {},
   "outputs": [],
   "source": [
    "def gbr_model(features_data, target_data, num_sample, rand_state, name_target):\n",
    "    features_data_sub = features_data.sample(num_sample)\n",
    "    target_data_sub = target_data[features_data_sub.index]\n",
    "    X_train, X_test, y_train, y_test = train_test_split(features_data_sub, target_data_sub,\n",
    "                                                    random_state=rand_state, test_size=0.2)\n",
    "    gbr = GradientBoostingRegressor(n_estimators = 500, max_depth = 10, min_samples_split = 5,\n",
    "          learning_rate = 0.1, loss= 'ls')\n",
    "    gbr.fit(X_train, y_train)\n",
    "    y_test_predict = gbr.predict(X_test)\n",
    "    y_predict = gbr.predict(features_data)\n",
    "    data_frame = pd.DataFrame([[name_target, 'Gradient Boosting Regressor', np.sqrt(sum((y_test - y_test_predict)**2)/len(y_test)),\n",
    "                              np.sqrt(sum((y_test - np.mean(y_test))**2)/len(y_test)),\n",
    "                              np.mean(target_data),np.mean(target_data_sub), np.mean(y_train), \n",
    "                              np.mean(y_test), np.mean(y_test_predict), np.mean(y_predict)]], \n",
    "                              columns = ['name_target','model','RMS_test_predict','RMS_test_mean',\n",
    "                                        'mean_target','mean_sample', 'mean_train', \n",
    "                                        'mean_test', 'mean_test_predict', 'meant_target_predict'])\n",
    "    # Plot the feature importance\n",
    "    all_features = gbr.feature_importances_\n",
    "    feat_scores_gbr = pd.DataFrame({'Fraction of Samples Affected {} {}'.format('Gradient Boosting', name_target) : all_features}, index=X_train.columns)\n",
    "    feat_scores_gbr = feat_scores_gbr.sort_values(by='Fraction of Samples Affected {} {}'.format('Gradient Boosting', name_target) )\n",
    "    feat_scores_gbr = feat_scores_gbr[-15:]\n",
    "    plt.figure(figsize=(10, 50))\n",
    "    feat_scores_gbr.plot(kind='barh')\n",
    "    plt.legend(loc='lower right')\n",
    "    return y_test, y_test_predict,y_predict, data_frame, feat_scores_gbr"
   ]
  },
  {
   "cell_type": "code",
   "execution_count": 14,
   "metadata": {},
   "outputs": [
    {
     "name": "stdout",
     "output_type": "stream",
     "text": [
      "*\n"
     ]
    },
    {
     "data": {
      "text/html": [
       "<div>\n",
       "<style scoped>\n",
       "    .dataframe tbody tr th:only-of-type {\n",
       "        vertical-align: middle;\n",
       "    }\n",
       "\n",
       "    .dataframe tbody tr th {\n",
       "        vertical-align: top;\n",
       "    }\n",
       "\n",
       "    .dataframe thead th {\n",
       "        text-align: right;\n",
       "    }\n",
       "</style>\n",
       "<table border=\"1\" class=\"dataframe\">\n",
       "  <thead>\n",
       "    <tr style=\"text-align: right;\">\n",
       "      <th></th>\n",
       "      <th>name_target</th>\n",
       "      <th>model</th>\n",
       "      <th>RMS_test_predict</th>\n",
       "      <th>RMS_test_mean</th>\n",
       "      <th>mean_target</th>\n",
       "      <th>mean_sample</th>\n",
       "      <th>mean_train</th>\n",
       "      <th>mean_test</th>\n",
       "      <th>mean_test_predict</th>\n",
       "      <th>meant_target_predict</th>\n",
       "    </tr>\n",
       "  </thead>\n",
       "  <tbody>\n",
       "    <tr>\n",
       "      <th>0</th>\n",
       "      <td>target_1</td>\n",
       "      <td>Gradient Boosting Regressor</td>\n",
       "      <td>0.316888</td>\n",
       "      <td>0.529537</td>\n",
       "      <td>1.203914</td>\n",
       "      <td>1.203564</td>\n",
       "      <td>1.203384</td>\n",
       "      <td>1.204283</td>\n",
       "      <td>1.205866</td>\n",
       "      <td>1.205117</td>\n",
       "    </tr>\n",
       "    <tr>\n",
       "      <th>0</th>\n",
       "      <td>target_2</td>\n",
       "      <td>Gradient Boosting Regressor</td>\n",
       "      <td>0.900278</td>\n",
       "      <td>3.964582</td>\n",
       "      <td>10.471152</td>\n",
       "      <td>10.486779</td>\n",
       "      <td>10.490439</td>\n",
       "      <td>10.472138</td>\n",
       "      <td>10.472787</td>\n",
       "      <td>10.472034</td>\n",
       "    </tr>\n",
       "  </tbody>\n",
       "</table>\n",
       "</div>"
      ],
      "text/plain": [
       "  name_target                        model  RMS_test_predict  RMS_test_mean  \\\n",
       "0    target_1  Gradient Boosting Regressor          0.316888       0.529537   \n",
       "0    target_2  Gradient Boosting Regressor          0.900278       3.964582   \n",
       "\n",
       "   mean_target  mean_sample  mean_train  mean_test  mean_test_predict  \\\n",
       "0     1.203914     1.203564    1.203384   1.204283           1.205866   \n",
       "0    10.471152    10.486779   10.490439  10.472138          10.472787   \n",
       "\n",
       "   meant_target_predict  \n",
       "0              1.205117  \n",
       "0             10.472034  "
      ]
     },
     "execution_count": 14,
     "metadata": {},
     "output_type": "execute_result"
    },
    {
     "data": {
      "text/plain": [
       "<Figure size 720x3600 with 0 Axes>"
      ]
     },
     "metadata": {},
     "output_type": "display_data"
    },
    {
     "data": {
      "image/png": "[encoded data removed]",
      "text/plain": [
       "<Figure size 432x288 with 1 Axes>"
      ]
     },
     "metadata": {
      "needs_background": "light"
     },
     "output_type": "display_data"
    },
    {
     "data": {
      "image/png": "[encoded data removed]",
      "text/plain": [
       "<Figure size 1080x360 with 2 Axes>"
      ]
     },
     "metadata": {
      "needs_background": "light"
     },
     "output_type": "display_data"
    },
    {
     "data": {
      "text/plain": [
       "<Figure size 720x3600 with 0 Axes>"
      ]
     },
     "metadata": {},
     "output_type": "display_data"
    },
    {
     "data": {
      "image/png": "[encoded data removed]",
      "text/plain": [
       "<Figure size 432x288 with 1 Axes>"
      ]
     },
     "metadata": {
      "needs_background": "light"
     },
     "output_type": "display_data"
    },
    {
     "data": {
      "image/png": "[encoded data removed]",
      "text/plain": [
       "<Figure size 1080x360 with 2 Axes>"
      ]
     },
     "metadata": {
      "needs_background": "light"
     },
     "output_type": "display_data"
    }
   ],
   "source": [
    "target_1_test, target_1_test_predict, target_1_predict, table_gbr_1, feat_scores_gbr_1 = gbr_model(features_1,target_1, 100000, 640, 'target_1')\n",
    "reg_plot(target_1,target_1_test, target_1_test_predict, target_1_predict,'target_1')\n",
    "\n",
    "print('*')\n",
    "target_2_test, target_2_test_predict, target_2_predict, table_gbr_2, feat_scores_gbr_2 = gbr_model(features_2,target_2, 100000, 640, 'target_2')\n",
    "reg_plot(target_2,target_2_test, target_2_test_predict, target_2_predict,'target_2')\n",
    "\n",
    "pd.concat([table_gbr_1, table_gbr_2], axis=0)"
   ]
  },
  {
   "cell_type": "code",
   "execution_count": 15,
   "metadata": {},
   "outputs": [
    {
     "data": {
      "text/html": [
       "<div>\n",
       "<style scoped>\n",
       "    .dataframe tbody tr th:only-of-type {\n",
       "        vertical-align: middle;\n",
       "    }\n",
       "\n",
       "    .dataframe tbody tr th {\n",
       "        vertical-align: top;\n",
       "    }\n",
       "\n",
       "    .dataframe thead th {\n",
       "        text-align: right;\n",
       "    }\n",
       "</style>\n",
       "<table border=\"1\" class=\"dataframe\">\n",
       "  <thead>\n",
       "    <tr style=\"text-align: right;\">\n",
       "      <th></th>\n",
       "      <th>Fraction of Samples Affected Gradient Boosting target_1</th>\n",
       "    </tr>\n",
       "  </thead>\n",
       "  <tbody>\n",
       "    <tr>\n",
       "      <th>airport_B_MIA</th>\n",
       "      <td>0.007367</td>\n",
       "    </tr>\n",
       "    <tr>\n",
       "      <th>SCHEDULED_DEPARTURE_day_BC</th>\n",
       "      <td>0.007458</td>\n",
       "    </tr>\n",
       "    <tr>\n",
       "      <th>DEPARTURE_month_AB</th>\n",
       "      <td>0.007606</td>\n",
       "    </tr>\n",
       "    <tr>\n",
       "      <th>DEPARTURE_day_AB</th>\n",
       "      <td>0.007944</td>\n",
       "    </tr>\n",
       "    <tr>\n",
       "      <th>airport_B_DFW</th>\n",
       "      <td>0.008834</td>\n",
       "    </tr>\n",
       "    <tr>\n",
       "      <th>airport_A_DFW</th>\n",
       "      <td>0.011341</td>\n",
       "    </tr>\n",
       "    <tr>\n",
       "      <th>airport_C_DFW</th>\n",
       "      <td>0.013157</td>\n",
       "    </tr>\n",
       "    <tr>\n",
       "      <th>DEPARTURE_DELAY_AB</th>\n",
       "      <td>0.022834</td>\n",
       "    </tr>\n",
       "    <tr>\n",
       "      <th>DEPARTURE_HOUR_AB</th>\n",
       "      <td>0.039545</td>\n",
       "    </tr>\n",
       "    <tr>\n",
       "      <th>ELAPSED_TIME_AB</th>\n",
       "      <td>0.041778</td>\n",
       "    </tr>\n",
       "    <tr>\n",
       "      <th>DISTANCE_AB</th>\n",
       "      <td>0.065673</td>\n",
       "    </tr>\n",
       "    <tr>\n",
       "      <th>DISTANCEBC</th>\n",
       "      <td>0.072183</td>\n",
       "    </tr>\n",
       "    <tr>\n",
       "      <th>ARRIVAL_DELAY_AB</th>\n",
       "      <td>0.134134</td>\n",
       "    </tr>\n",
       "    <tr>\n",
       "      <th>SCHEDULED_DEPARTURE_HOUR_BC</th>\n",
       "      <td>0.170527</td>\n",
       "    </tr>\n",
       "    <tr>\n",
       "      <th>ARRIVAL_HOUR_AB</th>\n",
       "      <td>0.208310</td>\n",
       "    </tr>\n",
       "  </tbody>\n",
       "</table>\n",
       "</div>"
      ],
      "text/plain": [
       "                             Fraction of Samples Affected Gradient Boosting target_1\n",
       "airport_B_MIA                                                         0.007367      \n",
       "SCHEDULED_DEPARTURE_day_BC                                            0.007458      \n",
       "DEPARTURE_month_AB                                                    0.007606      \n",
       "DEPARTURE_day_AB                                                      0.007944      \n",
       "airport_B_DFW                                                         0.008834      \n",
       "airport_A_DFW                                                         0.011341      \n",
       "airport_C_DFW                                                         0.013157      \n",
       "DEPARTURE_DELAY_AB                                                    0.022834      \n",
       "DEPARTURE_HOUR_AB                                                     0.039545      \n",
       "ELAPSED_TIME_AB                                                       0.041778      \n",
       "DISTANCE_AB                                                           0.065673      \n",
       "DISTANCEBC                                                            0.072183      \n",
       "ARRIVAL_DELAY_AB                                                      0.134134      \n",
       "SCHEDULED_DEPARTURE_HOUR_BC                                           0.170527      \n",
       "ARRIVAL_HOUR_AB                                                       0.208310      "
      ]
     },
     "execution_count": 15,
     "metadata": {},
     "output_type": "execute_result"
    }
   ],
   "source": [
    "feat_scores_gbr_1"
   ]
  },
  {
   "cell_type": "code",
   "execution_count": 16,
   "metadata": {},
   "outputs": [
    {
     "data": {
      "text/html": [
       "<div>\n",
       "<style scoped>\n",
       "    .dataframe tbody tr th:only-of-type {\n",
       "        vertical-align: middle;\n",
       "    }\n",
       "\n",
       "    .dataframe tbody tr th {\n",
       "        vertical-align: top;\n",
       "    }\n",
       "\n",
       "    .dataframe thead th {\n",
       "        text-align: right;\n",
       "    }\n",
       "</style>\n",
       "<table border=\"1\" class=\"dataframe\">\n",
       "  <thead>\n",
       "    <tr style=\"text-align: right;\">\n",
       "      <th></th>\n",
       "      <th>Fraction of Samples Affected Gradient Boosting target_2</th>\n",
       "    </tr>\n",
       "  </thead>\n",
       "  <tbody>\n",
       "    <tr>\n",
       "      <th>ARRIVAL_month_AB</th>\n",
       "      <td>0.000585</td>\n",
       "    </tr>\n",
       "    <tr>\n",
       "      <th>DEPARTURE_month_AB</th>\n",
       "      <td>0.000623</td>\n",
       "    </tr>\n",
       "    <tr>\n",
       "      <th>SCHEDULED_DEPARTURE_month_BC</th>\n",
       "      <td>0.000698</td>\n",
       "    </tr>\n",
       "    <tr>\n",
       "      <th>SCHEDULED_DEPARTURE_weekday_BC</th>\n",
       "      <td>0.000732</td>\n",
       "    </tr>\n",
       "    <tr>\n",
       "      <th>DEPARTURE_day_AB</th>\n",
       "      <td>0.000774</td>\n",
       "    </tr>\n",
       "    <tr>\n",
       "      <th>ARRIVAL_day_AB</th>\n",
       "      <td>0.000812</td>\n",
       "    </tr>\n",
       "    <tr>\n",
       "      <th>SCHEDULED_DEPARTURE_day_BC</th>\n",
       "      <td>0.001369</td>\n",
       "    </tr>\n",
       "    <tr>\n",
       "      <th>DEPARTURE_DELAY_AB</th>\n",
       "      <td>0.002751</td>\n",
       "    </tr>\n",
       "    <tr>\n",
       "      <th>DISTANCE_AB</th>\n",
       "      <td>0.002953</td>\n",
       "    </tr>\n",
       "    <tr>\n",
       "      <th>DISTANCEBC</th>\n",
       "      <td>0.003259</td>\n",
       "    </tr>\n",
       "    <tr>\n",
       "      <th>ELAPSED_TIME_AB</th>\n",
       "      <td>0.003388</td>\n",
       "    </tr>\n",
       "    <tr>\n",
       "      <th>ARRIVAL_DELAY_AB</th>\n",
       "      <td>0.005407</td>\n",
       "    </tr>\n",
       "    <tr>\n",
       "      <th>DEPARTURE_HOUR_AB</th>\n",
       "      <td>0.143322</td>\n",
       "    </tr>\n",
       "    <tr>\n",
       "      <th>ARRIVAL_HOUR_AB</th>\n",
       "      <td>0.400028</td>\n",
       "    </tr>\n",
       "    <tr>\n",
       "      <th>SCHEDULED_DEPARTURE_HOUR_BC</th>\n",
       "      <td>0.410384</td>\n",
       "    </tr>\n",
       "  </tbody>\n",
       "</table>\n",
       "</div>"
      ],
      "text/plain": [
       "                                Fraction of Samples Affected Gradient Boosting target_2\n",
       "ARRIVAL_month_AB                                                         0.000585      \n",
       "DEPARTURE_month_AB                                                       0.000623      \n",
       "SCHEDULED_DEPARTURE_month_BC                                             0.000698      \n",
       "SCHEDULED_DEPARTURE_weekday_BC                                           0.000732      \n",
       "DEPARTURE_day_AB                                                         0.000774      \n",
       "ARRIVAL_day_AB                                                           0.000812      \n",
       "SCHEDULED_DEPARTURE_day_BC                                               0.001369      \n",
       "DEPARTURE_DELAY_AB                                                       0.002751      \n",
       "DISTANCE_AB                                                              0.002953      \n",
       "DISTANCEBC                                                               0.003259      \n",
       "ELAPSED_TIME_AB                                                          0.003388      \n",
       "ARRIVAL_DELAY_AB                                                         0.005407      \n",
       "DEPARTURE_HOUR_AB                                                        0.143322      \n",
       "ARRIVAL_HOUR_AB                                                          0.400028      \n",
       "SCHEDULED_DEPARTURE_HOUR_BC                                              0.410384      "
      ]
     },
     "execution_count": 16,
     "metadata": {},
     "output_type": "execute_result"
    }
   ],
   "source": [
    "feat_scores_gbr_2"
   ]
  },
  {
   "cell_type": "markdown",
   "metadata": {},
   "source": [
    "# Random Forest Regressor "
   ]
  },
  {
   "cell_type": "code",
   "execution_count": 17,
   "metadata": {},
   "outputs": [],
   "source": [
    "def rfr_model(features_data, target_data, num_sample, rand_state, name_target):\n",
    "    features_data_sub = features_data.sample(num_sample)\n",
    "    target_data_sub = target_data[features_data_sub.index]\n",
    "    X_train, X_test, y_train, y_test = train_test_split(features_data_sub, target_data_sub,\n",
    "                                                    random_state=rand_state, test_size=0.2)\n",
    "    rfr = RandomForestRegressor(n_estimators = 500, random_state = 0) \n",
    "    rfr.fit(X_train, y_train)\n",
    "    y_test_predict = rfr.predict(X_test)\n",
    "    y_predict = rfr.predict(features_data)\n",
    "    data_frame = pd.DataFrame([[name_target, 'Random Forest Regressor', np.sqrt(sum((y_test - y_test_predict)**2)/len(y_test)),\n",
    "                              np.sqrt(sum((y_test - np.mean(y_test))**2)/len(y_test)),\n",
    "                              np.mean(target_data),np.mean(target_data_sub), np.mean(y_train), \n",
    "                              np.mean(y_test), np.mean(y_test_predict), np.mean(y_predict)]], \n",
    "                              columns = ['name_target','model','RMS_test_predict','RMS_test_mean',\n",
    "                                        'mean_target','mean_sample', 'mean_train', \n",
    "                                        'mean_test', 'mean_test_predict', 'meant_target_predict'])\n",
    "    # Plot the feature importance\n",
    "    all_features = rfr.feature_importances_\n",
    "    feat_scores_rfr = pd.DataFrame({'Fraction of Samples Affected {} {}'.format('Random Forest', name_target) : all_features}, index=X_train.columns)\n",
    "    feat_scores_rfr = feat_scores_rfr.sort_values(by='Fraction of Samples Affected {} {}'.format('Random Forest', name_target))\n",
    "    feat_scores_rfr = feat_scores_rfr[-15:]\n",
    "    plt.figure(figsize=(10, 50))\n",
    "    feat_scores_rfr.plot(kind='barh')\n",
    "    plt.legend(loc='lower right')\n",
    "    return y_test, y_test_predict,y_predict, data_frame, feat_scores_rfr"
   ]
  },
  {
   "cell_type": "code",
   "execution_count": 18,
   "metadata": {},
   "outputs": [
    {
     "name": "stdout",
     "output_type": "stream",
     "text": [
      "*\n"
     ]
    },
    {
     "data": {
      "text/plain": [
       "<Figure size 720x3600 with 0 Axes>"
      ]
     },
     "metadata": {},
     "output_type": "display_data"
    },
    {
     "data": {
      "image/png": "[encoded data removed]",
      "text/plain": [
       "<Figure size 432x288 with 1 Axes>"
      ]
     },
     "metadata": {
      "needs_background": "light"
     },
     "output_type": "display_data"
    },
    {
     "data": {
      "image/png": "[encoded data removed]",
      "text/plain": [
       "<Figure size 1080x360 with 2 Axes>"
      ]
     },
     "metadata": {
      "needs_background": "light"
     },
     "output_type": "display_data"
    },
    {
     "data": {
      "text/plain": [
       "<Figure size 720x3600 with 0 Axes>"
      ]
     },
     "metadata": {},
     "output_type": "display_data"
    },
    {
     "data": {
      "image/png": "[encoded data removed]",
      "text/plain": [
       "<Figure size 432x288 with 1 Axes>"
      ]
     },
     "metadata": {
      "needs_background": "light"
     },
     "output_type": "display_data"
    },
    {
     "data": {
      "image/png": "[encoded data removed]",
      "text/plain": [
       "<Figure size 1080x360 with 2 Axes>"
      ]
     },
     "metadata": {
      "needs_background": "light"
     },
     "output_type": "display_data"
    }
   ],
   "source": [
    "target_1_test, target_1_test_predict, target_1_predict, table_rfr_1, feat_scores_rfr_1 = rfr_model(features_1,target_1, 100000, 640, 'target_1')\n",
    "reg_plot(target_1,target_1_test, target_1_test_predict, target_1_predict,'target_1')\n",
    "\n",
    "print('*')\n",
    "target_2_test, target_2_test_predict, target_2_predict, table_rfr_2, feat_scores_rfr_2 = rfr_model(features_2,target_2, 100000, 640, 'target_2')\n",
    "reg_plot(target_2,target_2_test, target_2_test_predict, target_2_predict,'target_2')"
   ]
  },
  {
   "cell_type": "code",
   "execution_count": 19,
   "metadata": {},
   "outputs": [
    {
     "data": {
      "text/html": [
       "<div>\n",
       "<style scoped>\n",
       "    .dataframe tbody tr th:only-of-type {\n",
       "        vertical-align: middle;\n",
       "    }\n",
       "\n",
       "    .dataframe tbody tr th {\n",
       "        vertical-align: top;\n",
       "    }\n",
       "\n",
       "    .dataframe thead th {\n",
       "        text-align: right;\n",
       "    }\n",
       "</style>\n",
       "<table border=\"1\" class=\"dataframe\">\n",
       "  <thead>\n",
       "    <tr style=\"text-align: right;\">\n",
       "      <th></th>\n",
       "      <th>Fraction of Samples Affected Random Forest target_1</th>\n",
       "    </tr>\n",
       "  </thead>\n",
       "  <tbody>\n",
       "    <tr>\n",
       "      <th>DEPARTURE_month_AB</th>\n",
       "      <td>0.013093</td>\n",
       "    </tr>\n",
       "    <tr>\n",
       "      <th>SCHEDULED_DEPARTURE_month_BC</th>\n",
       "      <td>0.013151</td>\n",
       "    </tr>\n",
       "    <tr>\n",
       "      <th>ARRIVAL_month_AB</th>\n",
       "      <td>0.013168</td>\n",
       "    </tr>\n",
       "    <tr>\n",
       "      <th>airport_C_DFW</th>\n",
       "      <td>0.016180</td>\n",
       "    </tr>\n",
       "    <tr>\n",
       "      <th>SCHEDULED_DEPARTURE_day_BC</th>\n",
       "      <td>0.016370</td>\n",
       "    </tr>\n",
       "    <tr>\n",
       "      <th>ARRIVAL_day_AB</th>\n",
       "      <td>0.016409</td>\n",
       "    </tr>\n",
       "    <tr>\n",
       "      <th>DEPARTURE_day_AB</th>\n",
       "      <td>0.016676</td>\n",
       "    </tr>\n",
       "    <tr>\n",
       "      <th>DEPARTURE_HOUR_AB</th>\n",
       "      <td>0.040279</td>\n",
       "    </tr>\n",
       "    <tr>\n",
       "      <th>DEPARTURE_DELAY_AB</th>\n",
       "      <td>0.042007</td>\n",
       "    </tr>\n",
       "    <tr>\n",
       "      <th>ELAPSED_TIME_AB</th>\n",
       "      <td>0.055922</td>\n",
       "    </tr>\n",
       "    <tr>\n",
       "      <th>DISTANCEBC</th>\n",
       "      <td>0.067993</td>\n",
       "    </tr>\n",
       "    <tr>\n",
       "      <th>DISTANCE_AB</th>\n",
       "      <td>0.076132</td>\n",
       "    </tr>\n",
       "    <tr>\n",
       "      <th>ARRIVAL_HOUR_AB</th>\n",
       "      <td>0.115410</td>\n",
       "    </tr>\n",
       "    <tr>\n",
       "      <th>SCHEDULED_DEPARTURE_HOUR_BC</th>\n",
       "      <td>0.119642</td>\n",
       "    </tr>\n",
       "    <tr>\n",
       "      <th>ARRIVAL_DELAY_AB</th>\n",
       "      <td>0.125258</td>\n",
       "    </tr>\n",
       "  </tbody>\n",
       "</table>\n",
       "</div>"
      ],
      "text/plain": [
       "                              Fraction of Samples Affected Random Forest target_1\n",
       "DEPARTURE_month_AB                                                     0.013093  \n",
       "SCHEDULED_DEPARTURE_month_BC                                           0.013151  \n",
       "ARRIVAL_month_AB                                                       0.013168  \n",
       "airport_C_DFW                                                          0.016180  \n",
       "SCHEDULED_DEPARTURE_day_BC                                             0.016370  \n",
       "ARRIVAL_day_AB                                                         0.016409  \n",
       "DEPARTURE_day_AB                                                       0.016676  \n",
       "DEPARTURE_HOUR_AB                                                      0.040279  \n",
       "DEPARTURE_DELAY_AB                                                     0.042007  \n",
       "ELAPSED_TIME_AB                                                        0.055922  \n",
       "DISTANCEBC                                                             0.067993  \n",
       "DISTANCE_AB                                                            0.076132  \n",
       "ARRIVAL_HOUR_AB                                                        0.115410  \n",
       "SCHEDULED_DEPARTURE_HOUR_BC                                            0.119642  \n",
       "ARRIVAL_DELAY_AB                                                       0.125258  "
      ]
     },
     "execution_count": 19,
     "metadata": {},
     "output_type": "execute_result"
    }
   ],
   "source": [
    "feat_scores_rfr_1"
   ]
  },
  {
   "cell_type": "code",
   "execution_count": 20,
   "metadata": {},
   "outputs": [
    {
     "data": {
      "text/html": [
       "<div>\n",
       "<style scoped>\n",
       "    .dataframe tbody tr th:only-of-type {\n",
       "        vertical-align: middle;\n",
       "    }\n",
       "\n",
       "    .dataframe tbody tr th {\n",
       "        vertical-align: top;\n",
       "    }\n",
       "\n",
       "    .dataframe thead th {\n",
       "        text-align: right;\n",
       "    }\n",
       "</style>\n",
       "<table border=\"1\" class=\"dataframe\">\n",
       "  <thead>\n",
       "    <tr style=\"text-align: right;\">\n",
       "      <th></th>\n",
       "      <th>name_target</th>\n",
       "      <th>model</th>\n",
       "      <th>RMS_test_predict</th>\n",
       "      <th>RMS_test_mean</th>\n",
       "      <th>mean_target</th>\n",
       "      <th>mean_sample</th>\n",
       "      <th>mean_train</th>\n",
       "      <th>mean_test</th>\n",
       "      <th>mean_test_predict</th>\n",
       "      <th>meant_target_predict</th>\n",
       "    </tr>\n",
       "  </thead>\n",
       "  <tbody>\n",
       "    <tr>\n",
       "      <th>0</th>\n",
       "      <td>target_1</td>\n",
       "      <td>Random Forest Regressor</td>\n",
       "      <td>0.365356</td>\n",
       "      <td>0.526089</td>\n",
       "      <td>1.203914</td>\n",
       "      <td>1.201915</td>\n",
       "      <td>1.202415</td>\n",
       "      <td>1.199916</td>\n",
       "      <td>1.204841</td>\n",
       "      <td>1.206795</td>\n",
       "    </tr>\n",
       "    <tr>\n",
       "      <th>0</th>\n",
       "      <td>target_2</td>\n",
       "      <td>Random Forest Regressor</td>\n",
       "      <td>0.950464</td>\n",
       "      <td>3.973859</td>\n",
       "      <td>10.471152</td>\n",
       "      <td>10.454494</td>\n",
       "      <td>10.449049</td>\n",
       "      <td>10.476274</td>\n",
       "      <td>10.485324</td>\n",
       "      <td>10.476270</td>\n",
       "    </tr>\n",
       "  </tbody>\n",
       "</table>\n",
       "</div>"
      ],
      "text/plain": [
       "  name_target                    model  RMS_test_predict  RMS_test_mean  \\\n",
       "0    target_1  Random Forest Regressor          0.365356       0.526089   \n",
       "0    target_2  Random Forest Regressor          0.950464       3.973859   \n",
       "\n",
       "   mean_target  mean_sample  mean_train  mean_test  mean_test_predict  \\\n",
       "0     1.203914     1.201915    1.202415   1.199916           1.204841   \n",
       "0    10.471152    10.454494   10.449049  10.476274          10.485324   \n",
       "\n",
       "   meant_target_predict  \n",
       "0              1.206795  \n",
       "0             10.476270  "
      ]
     },
     "execution_count": 20,
     "metadata": {},
     "output_type": "execute_result"
    }
   ],
   "source": [
    "pd.concat([table_rfr_1, table_rfr_2], axis=0)\n"
   ]
  },
  {
   "cell_type": "code",
   "execution_count": 21,
   "metadata": {},
   "outputs": [
    {
     "data": {
      "text/html": [
       "<div>\n",
       "<style scoped>\n",
       "    .dataframe tbody tr th:only-of-type {\n",
       "        vertical-align: middle;\n",
       "    }\n",
       "\n",
       "    .dataframe tbody tr th {\n",
       "        vertical-align: top;\n",
       "    }\n",
       "\n",
       "    .dataframe thead th {\n",
       "        text-align: right;\n",
       "    }\n",
       "</style>\n",
       "<table border=\"1\" class=\"dataframe\">\n",
       "  <thead>\n",
       "    <tr style=\"text-align: right;\">\n",
       "      <th></th>\n",
       "      <th>name_target</th>\n",
       "      <th>model</th>\n",
       "      <th>RMS_test_predict</th>\n",
       "      <th>RMS_test_mean</th>\n",
       "      <th>mean_target</th>\n",
       "      <th>mean_sample</th>\n",
       "      <th>mean_train</th>\n",
       "      <th>mean_test</th>\n",
       "      <th>mean_test_predict</th>\n",
       "      <th>meant_target_predict</th>\n",
       "    </tr>\n",
       "  </thead>\n",
       "  <tbody>\n",
       "    <tr>\n",
       "      <th>0</th>\n",
       "      <td>target_1</td>\n",
       "      <td>Linear Regression</td>\n",
       "      <td>2.427473e+04</td>\n",
       "      <td>0.525373</td>\n",
       "      <td>1.203914</td>\n",
       "      <td>1.202853</td>\n",
       "      <td>1.203626</td>\n",
       "      <td>1.199760</td>\n",
       "      <td>42.486653</td>\n",
       "      <td>91.220570</td>\n",
       "    </tr>\n",
       "    <tr>\n",
       "      <th>0</th>\n",
       "      <td>target_1</td>\n",
       "      <td>Gradient Boosting Regressor</td>\n",
       "      <td>3.168880e-01</td>\n",
       "      <td>0.529537</td>\n",
       "      <td>1.203914</td>\n",
       "      <td>1.203564</td>\n",
       "      <td>1.203384</td>\n",
       "      <td>1.204283</td>\n",
       "      <td>1.205866</td>\n",
       "      <td>1.205117</td>\n",
       "    </tr>\n",
       "    <tr>\n",
       "      <th>0</th>\n",
       "      <td>target_1</td>\n",
       "      <td>Random Forest Regressor</td>\n",
       "      <td>3.653563e-01</td>\n",
       "      <td>0.526089</td>\n",
       "      <td>1.203914</td>\n",
       "      <td>1.201915</td>\n",
       "      <td>1.202415</td>\n",
       "      <td>1.199916</td>\n",
       "      <td>1.204841</td>\n",
       "      <td>1.206795</td>\n",
       "    </tr>\n",
       "    <tr>\n",
       "      <th>0</th>\n",
       "      <td>target_2</td>\n",
       "      <td>Linear Regression</td>\n",
       "      <td>2.663429e+06</td>\n",
       "      <td>3.969707</td>\n",
       "      <td>10.471152</td>\n",
       "      <td>10.463719</td>\n",
       "      <td>10.461191</td>\n",
       "      <td>10.473829</td>\n",
       "      <td>-18617.587197</td>\n",
       "      <td>-7311.914125</td>\n",
       "    </tr>\n",
       "    <tr>\n",
       "      <th>0</th>\n",
       "      <td>target_2</td>\n",
       "      <td>Gradient Boosting Regressor</td>\n",
       "      <td>9.002782e-01</td>\n",
       "      <td>3.964582</td>\n",
       "      <td>10.471152</td>\n",
       "      <td>10.486779</td>\n",
       "      <td>10.490439</td>\n",
       "      <td>10.472138</td>\n",
       "      <td>10.472787</td>\n",
       "      <td>10.472034</td>\n",
       "    </tr>\n",
       "    <tr>\n",
       "      <th>0</th>\n",
       "      <td>target_2</td>\n",
       "      <td>Random Forest Regressor</td>\n",
       "      <td>9.504640e-01</td>\n",
       "      <td>3.973859</td>\n",
       "      <td>10.471152</td>\n",
       "      <td>10.454494</td>\n",
       "      <td>10.449049</td>\n",
       "      <td>10.476274</td>\n",
       "      <td>10.485324</td>\n",
       "      <td>10.476270</td>\n",
       "    </tr>\n",
       "  </tbody>\n",
       "</table>\n",
       "</div>"
      ],
      "text/plain": [
       "  name_target                        model  RMS_test_predict  RMS_test_mean  \\\n",
       "0    target_1            Linear Regression      2.427473e+04       0.525373   \n",
       "0    target_1  Gradient Boosting Regressor      3.168880e-01       0.529537   \n",
       "0    target_1      Random Forest Regressor      3.653563e-01       0.526089   \n",
       "0    target_2            Linear Regression      2.663429e+06       3.969707   \n",
       "0    target_2  Gradient Boosting Regressor      9.002782e-01       3.964582   \n",
       "0    target_2      Random Forest Regressor      9.504640e-01       3.973859   \n",
       "\n",
       "   mean_target  mean_sample  mean_train  mean_test  mean_test_predict  \\\n",
       "0     1.203914     1.202853    1.203626   1.199760          42.486653   \n",
       "0     1.203914     1.203564    1.203384   1.204283           1.205866   \n",
       "0     1.203914     1.201915    1.202415   1.199916           1.204841   \n",
       "0    10.471152    10.463719   10.461191  10.473829      -18617.587197   \n",
       "0    10.471152    10.486779   10.490439  10.472138          10.472787   \n",
       "0    10.471152    10.454494   10.449049  10.476274          10.485324   \n",
       "\n",
       "   meant_target_predict  \n",
       "0             91.220570  \n",
       "0              1.205117  \n",
       "0              1.206795  \n",
       "0          -7311.914125  \n",
       "0             10.472034  \n",
       "0             10.476270  "
      ]
     },
     "execution_count": 21,
     "metadata": {},
     "output_type": "execute_result"
    }
   ],
   "source": [
    "final_table = pd.concat([table_reg_1, table_gbr_1, table_rfr_1, table_reg_2, table_gbr_2, table_rfr_2], axis=0)\n",
    "final_table"
   ]
  },
  {
   "cell_type": "code",
   "execution_count": 22,
   "metadata": {},
   "outputs": [],
   "source": [
    "final_table.to_csv('ML_model_American_Airlines_AA_airline.csv')"
   ]
  },
  {
   "cell_type": "code",
   "execution_count": 23,
   "metadata": {},
   "outputs": [
    {
     "data": {
      "text/html": [
       "<div>\n",
       "<style scoped>\n",
       "    .dataframe tbody tr th:only-of-type {\n",
       "        vertical-align: middle;\n",
       "    }\n",
       "\n",
       "    .dataframe tbody tr th {\n",
       "        vertical-align: top;\n",
       "    }\n",
       "\n",
       "    .dataframe thead th {\n",
       "        text-align: right;\n",
       "    }\n",
       "</style>\n",
       "<table border=\"1\" class=\"dataframe\">\n",
       "  <thead>\n",
       "    <tr style=\"text-align: right;\">\n",
       "      <th></th>\n",
       "      <th>Fraction of Samples Affected Gradient Boosting target_1</th>\n",
       "      <th>Fraction of Samples Affected Random Forest target_1</th>\n",
       "      <th>Fraction of Samples Affected Gradient Boosting target_2</th>\n",
       "      <th>Fraction of Samples Affected Random Forest target_2</th>\n",
       "    </tr>\n",
       "  </thead>\n",
       "  <tbody>\n",
       "    <tr>\n",
       "      <th>airport_B_MIA</th>\n",
       "      <td>0.007367</td>\n",
       "      <td>NaN</td>\n",
       "      <td>NaN</td>\n",
       "      <td>NaN</td>\n",
       "    </tr>\n",
       "    <tr>\n",
       "      <th>SCHEDULED_DEPARTURE_day_BC</th>\n",
       "      <td>0.007458</td>\n",
       "      <td>0.016370</td>\n",
       "      <td>0.001369</td>\n",
       "      <td>0.001720</td>\n",
       "    </tr>\n",
       "    <tr>\n",
       "      <th>DEPARTURE_month_AB</th>\n",
       "      <td>0.007606</td>\n",
       "      <td>0.013093</td>\n",
       "      <td>0.000623</td>\n",
       "      <td>NaN</td>\n",
       "    </tr>\n",
       "    <tr>\n",
       "      <th>DEPARTURE_day_AB</th>\n",
       "      <td>0.007944</td>\n",
       "      <td>0.016676</td>\n",
       "      <td>0.000774</td>\n",
       "      <td>0.001423</td>\n",
       "    </tr>\n",
       "    <tr>\n",
       "      <th>airport_B_DFW</th>\n",
       "      <td>0.008834</td>\n",
       "      <td>NaN</td>\n",
       "      <td>NaN</td>\n",
       "      <td>NaN</td>\n",
       "    </tr>\n",
       "    <tr>\n",
       "      <th>airport_A_DFW</th>\n",
       "      <td>0.011341</td>\n",
       "      <td>NaN</td>\n",
       "      <td>NaN</td>\n",
       "      <td>0.001226</td>\n",
       "    </tr>\n",
       "    <tr>\n",
       "      <th>airport_C_DFW</th>\n",
       "      <td>0.013157</td>\n",
       "      <td>0.016180</td>\n",
       "      <td>NaN</td>\n",
       "      <td>0.001208</td>\n",
       "    </tr>\n",
       "    <tr>\n",
       "      <th>DEPARTURE_DELAY_AB</th>\n",
       "      <td>0.022834</td>\n",
       "      <td>0.042007</td>\n",
       "      <td>0.002751</td>\n",
       "      <td>0.003676</td>\n",
       "    </tr>\n",
       "    <tr>\n",
       "      <th>DEPARTURE_HOUR_AB</th>\n",
       "      <td>0.039545</td>\n",
       "      <td>0.040279</td>\n",
       "      <td>0.143322</td>\n",
       "      <td>0.132807</td>\n",
       "    </tr>\n",
       "    <tr>\n",
       "      <th>ELAPSED_TIME_AB</th>\n",
       "      <td>0.041778</td>\n",
       "      <td>0.055922</td>\n",
       "      <td>0.003388</td>\n",
       "      <td>0.004563</td>\n",
       "    </tr>\n",
       "    <tr>\n",
       "      <th>DISTANCE_AB</th>\n",
       "      <td>0.065673</td>\n",
       "      <td>0.076132</td>\n",
       "      <td>0.002953</td>\n",
       "      <td>0.005299</td>\n",
       "    </tr>\n",
       "    <tr>\n",
       "      <th>DISTANCEBC</th>\n",
       "      <td>0.072183</td>\n",
       "      <td>0.067993</td>\n",
       "      <td>0.003259</td>\n",
       "      <td>0.003477</td>\n",
       "    </tr>\n",
       "    <tr>\n",
       "      <th>ARRIVAL_DELAY_AB</th>\n",
       "      <td>0.134134</td>\n",
       "      <td>0.125258</td>\n",
       "      <td>0.005407</td>\n",
       "      <td>0.005988</td>\n",
       "    </tr>\n",
       "    <tr>\n",
       "      <th>SCHEDULED_DEPARTURE_HOUR_BC</th>\n",
       "      <td>0.170527</td>\n",
       "      <td>0.119642</td>\n",
       "      <td>0.410384</td>\n",
       "      <td>0.412845</td>\n",
       "    </tr>\n",
       "    <tr>\n",
       "      <th>ARRIVAL_HOUR_AB</th>\n",
       "      <td>0.208310</td>\n",
       "      <td>0.115410</td>\n",
       "      <td>0.400028</td>\n",
       "      <td>0.390440</td>\n",
       "    </tr>\n",
       "    <tr>\n",
       "      <th>SCHEDULED_DEPARTURE_month_BC</th>\n",
       "      <td>NaN</td>\n",
       "      <td>0.013151</td>\n",
       "      <td>0.000698</td>\n",
       "      <td>0.001134</td>\n",
       "    </tr>\n",
       "    <tr>\n",
       "      <th>ARRIVAL_month_AB</th>\n",
       "      <td>NaN</td>\n",
       "      <td>0.013168</td>\n",
       "      <td>0.000585</td>\n",
       "      <td>NaN</td>\n",
       "    </tr>\n",
       "    <tr>\n",
       "      <th>ARRIVAL_day_AB</th>\n",
       "      <td>NaN</td>\n",
       "      <td>0.016409</td>\n",
       "      <td>0.000812</td>\n",
       "      <td>0.001443</td>\n",
       "    </tr>\n",
       "    <tr>\n",
       "      <th>SCHEDULED_DEPARTURE_weekday_BC</th>\n",
       "      <td>NaN</td>\n",
       "      <td>NaN</td>\n",
       "      <td>0.000732</td>\n",
       "      <td>0.001411</td>\n",
       "    </tr>\n",
       "  </tbody>\n",
       "</table>\n",
       "</div>"
      ],
      "text/plain": [
       "                                Fraction of Samples Affected Gradient Boosting target_1  \\\n",
       "airport_B_MIA                                                            0.007367         \n",
       "SCHEDULED_DEPARTURE_day_BC                                               0.007458         \n",
       "DEPARTURE_month_AB                                                       0.007606         \n",
       "DEPARTURE_day_AB                                                         0.007944         \n",
       "airport_B_DFW                                                            0.008834         \n",
       "airport_A_DFW                                                            0.011341         \n",
       "airport_C_DFW                                                            0.013157         \n",
       "DEPARTURE_DELAY_AB                                                       0.022834         \n",
       "DEPARTURE_HOUR_AB                                                        0.039545         \n",
       "ELAPSED_TIME_AB                                                          0.041778         \n",
       "DISTANCE_AB                                                              0.065673         \n",
       "DISTANCEBC                                                               0.072183         \n",
       "ARRIVAL_DELAY_AB                                                         0.134134         \n",
       "SCHEDULED_DEPARTURE_HOUR_BC                                              0.170527         \n",
       "ARRIVAL_HOUR_AB                                                          0.208310         \n",
       "SCHEDULED_DEPARTURE_month_BC                                                  NaN         \n",
       "ARRIVAL_month_AB                                                              NaN         \n",
       "ARRIVAL_day_AB                                                                NaN         \n",
       "SCHEDULED_DEPARTURE_weekday_BC                                                NaN         \n",
       "\n",
       "                                Fraction of Samples Affected Random Forest target_1  \\\n",
       "airport_B_MIA                                                                 NaN     \n",
       "SCHEDULED_DEPARTURE_day_BC                                               0.016370     \n",
       "DEPARTURE_month_AB                                                       0.013093     \n",
       "DEPARTURE_day_AB                                                         0.016676     \n",
       "airport_B_DFW                                                                 NaN     \n",
       "airport_A_DFW                                                                 NaN     \n",
       "airport_C_DFW                                                            0.016180     \n",
       "DEPARTURE_DELAY_AB                                                       0.042007     \n",
       "DEPARTURE_HOUR_AB                                                        0.040279     \n",
       "ELAPSED_TIME_AB                                                          0.055922     \n",
       "DISTANCE_AB                                                              0.076132     \n",
       "DISTANCEBC                                                               0.067993     \n",
       "ARRIVAL_DELAY_AB                                                         0.125258     \n",
       "SCHEDULED_DEPARTURE_HOUR_BC                                              0.119642     \n",
       "ARRIVAL_HOUR_AB                                                          0.115410     \n",
       "SCHEDULED_DEPARTURE_month_BC                                             0.013151     \n",
       "ARRIVAL_month_AB                                                         0.013168     \n",
       "ARRIVAL_day_AB                                                           0.016409     \n",
       "SCHEDULED_DEPARTURE_weekday_BC                                                NaN     \n",
       "\n",
       "                                Fraction of Samples Affected Gradient Boosting target_2  \\\n",
       "airport_B_MIA                                                                 NaN         \n",
       "SCHEDULED_DEPARTURE_day_BC                                               0.001369         \n",
       "DEPARTURE_month_AB                                                       0.000623         \n",
       "DEPARTURE_day_AB                                                         0.000774         \n",
       "airport_B_DFW                                                                 NaN         \n",
       "airport_A_DFW                                                                 NaN         \n",
       "airport_C_DFW                                                                 NaN         \n",
       "DEPARTURE_DELAY_AB                                                       0.002751         \n",
       "DEPARTURE_HOUR_AB                                                        0.143322         \n",
       "ELAPSED_TIME_AB                                                          0.003388         \n",
       "DISTANCE_AB                                                              0.002953         \n",
       "DISTANCEBC                                                               0.003259         \n",
       "ARRIVAL_DELAY_AB                                                         0.005407         \n",
       "SCHEDULED_DEPARTURE_HOUR_BC                                              0.410384         \n",
       "ARRIVAL_HOUR_AB                                                          0.400028         \n",
       "SCHEDULED_DEPARTURE_month_BC                                             0.000698         \n",
       "ARRIVAL_month_AB                                                         0.000585         \n",
       "ARRIVAL_day_AB                                                           0.000812         \n",
       "SCHEDULED_DEPARTURE_weekday_BC                                           0.000732         \n",
       "\n",
       "                                Fraction of Samples Affected Random Forest target_2  \n",
       "airport_B_MIA                                                                 NaN    \n",
       "SCHEDULED_DEPARTURE_day_BC                                               0.001720    \n",
       "DEPARTURE_month_AB                                                            NaN    \n",
       "DEPARTURE_day_AB                                                         0.001423    \n",
       "airport_B_DFW                                                                 NaN    \n",
       "airport_A_DFW                                                            0.001226    \n",
       "airport_C_DFW                                                            0.001208    \n",
       "DEPARTURE_DELAY_AB                                                       0.003676    \n",
       "DEPARTURE_HOUR_AB                                                        0.132807    \n",
       "ELAPSED_TIME_AB                                                          0.004563    \n",
       "DISTANCE_AB                                                              0.005299    \n",
       "DISTANCEBC                                                               0.003477    \n",
       "ARRIVAL_DELAY_AB                                                         0.005988    \n",
       "SCHEDULED_DEPARTURE_HOUR_BC                                              0.412845    \n",
       "ARRIVAL_HOUR_AB                                                          0.390440    \n",
       "SCHEDULED_DEPARTURE_month_BC                                             0.001134    \n",
       "ARRIVAL_month_AB                                                              NaN    \n",
       "ARRIVAL_day_AB                                                           0.001443    \n",
       "SCHEDULED_DEPARTURE_weekday_BC                                           0.001411    "
      ]
     },
     "execution_count": 23,
     "metadata": {},
     "output_type": "execute_result"
    }
   ],
   "source": [
    "most_important_features = pd.concat([feat_scores_gbr_1,feat_scores_rfr_1,  feat_scores_gbr_2, feat_scores_rfr_2], axis=1)\n",
    "most_important_features"
   ]
  },
  {
   "cell_type": "code",
   "execution_count": 24,
   "metadata": {},
   "outputs": [],
   "source": [
    "most_important_features.to_csv('most_important_features_American_Airlines_AA_airline.csv')"
   ]
  },
  {
   "cell_type": "code",
   "execution_count": null,
   "metadata": {},
   "outputs": [],
   "source": [
    "'airport_A', 'airport_B', 'airport_C',\n",
    "\n",
    "'DEPARTURE_DELAY_AB', \n",
    "'ARRIVAL_DELAY_AB',\n",
    "       \n",
    "'ELAPSED_TIME_AB', \n",
    "\n",
    "'DISTANCE_AB', \n",
    "'DISTANCE_BC', \n",
    "\n",
    "           'DEPARTURE_HOUR_AB',\n",
    "            'ARRIVAL_HOUR_AB',\n",
    "'SCHEDULED_DEPARTURE_HOUR_BC',\n",
    "    \n",
    "          'DEPARTURE_weekday_AB', \n",
    "            'ARRIVAL_weekday_AB',\n",
    "'SCHEDULED_DEPARTURE_weekday_BC',\n",
    "\n",
    "          'DEPARTURE_day_AB', \n",
    "            'ARRIVAL_day_AB',\n",
    "'SCHEDULED_DEPARTURE_day_BC',\n",
    "\n",
    "          'DEPARTURE_month_AB',\n",
    "            'ARRIVAL_month_AB',       \n",
    "'SCHEDULED_DEPARTURE_month_BC'    \n",
    " \n",
    "\n",
    "        \n",
    "       "
   ]
  },
  {
   "cell_type": "code",
   "execution_count": 3,
   "metadata": {},
   "outputs": [
    {
     "data": {
      "text/plain": [
       "5"
      ]
     },
     "execution_count": 3,
     "metadata": {},
     "output_type": "execute_result"
    }
   ],
   "source": [
    "s = '(((())'\n",
    "s.rfind(')')"
   ]
  },
  {
   "cell_type": "code",
   "execution_count": null,
   "metadata": {},
   "outputs": [],
   "source": []
  }
 ],
 "metadata": {
  "kernelspec": {
   "display_name": "Python 3",
   "language": "python",
   "name": "python3"
  },
  "language_info": {
   "codemirror_mode": {
    "name": "ipython",
    "version": 3
   },
   "file_extension": ".py",
   "mimetype": "text/x-python",
   "name": "python",
   "nbconvert_exporter": "python",
   "pygments_lexer": "ipython3",
   "version": "3.6.9"
  }
 },
 "nbformat": 4,
 "nbformat_minor": 2
}

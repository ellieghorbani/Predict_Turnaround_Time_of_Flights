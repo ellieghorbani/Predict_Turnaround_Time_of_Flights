{
 "cells": [
  {
   "cell_type": "code",
   "execution_count": 1,
   "metadata": {},
   "outputs": [
    {
     "name": "stderr",
     "output_type": "stream",
     "text": [
      "In /home/elaheh/.local/lib/python3.6/site-packages/matplotlib/mpl-data/stylelib/_classic_test.mplstyle: \n",
      "The text.latex.preview rcparam was deprecated in Matplotlib 3.3 and will be removed two minor releases later.\n",
      "In /home/elaheh/.local/lib/python3.6/site-packages/matplotlib/mpl-data/stylelib/_classic_test.mplstyle: \n",
      "The mathtext.fallback_to_cm rcparam was deprecated in Matplotlib 3.3 and will be removed two minor releases later.\n",
      "In /home/elaheh/.local/lib/python3.6/site-packages/matplotlib/mpl-data/stylelib/_classic_test.mplstyle: Support for setting the 'mathtext.fallback_to_cm' rcParam is deprecated since 3.3 and will be removed two minor releases later; use 'mathtext.fallback : 'cm' instead.\n",
      "In /home/elaheh/.local/lib/python3.6/site-packages/matplotlib/mpl-data/stylelib/_classic_test.mplstyle: \n",
      "The validate_bool_maybe_none function was deprecated in Matplotlib 3.3 and will be removed two minor releases later.\n",
      "In /home/elaheh/.local/lib/python3.6/site-packages/matplotlib/mpl-data/stylelib/_classic_test.mplstyle: \n",
      "The savefig.jpeg_quality rcparam was deprecated in Matplotlib 3.3 and will be removed two minor releases later.\n",
      "In /home/elaheh/.local/lib/python3.6/site-packages/matplotlib/mpl-data/stylelib/_classic_test.mplstyle: \n",
      "The keymap.all_axes rcparam was deprecated in Matplotlib 3.3 and will be removed two minor releases later.\n",
      "In /home/elaheh/.local/lib/python3.6/site-packages/matplotlib/mpl-data/stylelib/_classic_test.mplstyle: \n",
      "The animation.avconv_path rcparam was deprecated in Matplotlib 3.3 and will be removed two minor releases later.\n",
      "In /home/elaheh/.local/lib/python3.6/site-packages/matplotlib/mpl-data/stylelib/_classic_test.mplstyle: \n",
      "The animation.avconv_args rcparam was deprecated in Matplotlib 3.3 and will be removed two minor releases later.\n"
     ]
    }
   ],
   "source": [
    "import numpy as np\n",
    "import pandas as pd\n",
    "import matplotlib.pyplot as plt\n",
    "from datetime import datetime, date, time \n",
    "from scipy import stats\n",
    "from sklearn.model_selection import train_test_split"
   ]
  },
  {
   "cell_type": "markdown",
   "metadata": {},
   "source": [
    "# Random Forest Classifier model"
   ]
  },
  {
   "cell_type": "code",
   "execution_count": 2,
   "metadata": {},
   "outputs": [],
   "source": [
    "from sklearn.ensemble import RandomForestClassifier\n",
    "from sklearn.metrics import confusion_matrix\n",
    "\n",
    "def RandomForestClassifier_model(features_data, target_data, rand_state):\n",
    "    \n",
    "    X_train, X_test, y_train, y_test = train_test_split(features_data, target_data, \n",
    "                                                        random_state=rand_state, test_size=0.2)\n",
    "\n",
    "    model = RandomForestClassifier(n_estimators= 200, max_depth = 30, random_state=100)\n",
    "    model.fit(X_train, y_train)\n",
    "    y_test_predict = model.predict(X_test)\n",
    "    #-------------------------------------------------------\n",
    "    cm1 = confusion_matrix(y_test, y_test_predict)\n",
    "    fig, ax = plt.subplots(figsize=(4, 4))\n",
    "    \n",
    "    ax.imshow(cm1)\n",
    "    ax.grid(False)\n",
    "    ax.xaxis.set(ticks=(0, 1), ticklabels=('Predicted 0s', 'Predicted 1s'))\n",
    "    ax.set_ylim(1.5, -0.5)\n",
    "    ax.yaxis.set(ticks=(0, 1), ticklabels=('Actual 0s', 'Actual 1s'))\n",
    "    plt.sca(ax)\n",
    "    #plt.title('Predict Test Data')\n",
    "        \n",
    "    print(cm1.sum(axis=0)[0])\n",
    "    for i in range(2):\n",
    "        for j in range(2):\n",
    "            ax.text(j, i, ('% {}').format(int(cm1[i, j]/cm1.sum(axis= 1)[i]*100)), ha='center', va='center', color='red')\n",
    "    plt.show()\n",
    "    plt.savefig('confusion_matrix_AA_RandomForestClassifier.png')\n",
    "    print(\"Precision_0 ={:.2f}\".format((cm1[0,0]/(cm1[0,0] + cm1[1,0]))))\n",
    "    print(\"Recall_0 =%f\" %(cm1[0,0]/(cm1[0,0]+cm1[0,1])))\n",
    "    print(\"Precision_1 ={:.2f}\".format((cm1[1,1]/(cm1[1,1] + cm1[0,1]))))\n",
    "    print(\"Recall_1 =%f\" %(cm1[1,1]/(cm1[1,1]+cm1[1,0])))\n",
    "    \n",
    "    return model"
   ]
  },
  {
   "cell_type": "markdown",
   "metadata": {},
   "source": [
    "# Gradient Boosting Regressor"
   ]
  },
  {
   "cell_type": "code",
   "execution_count": 3,
   "metadata": {},
   "outputs": [],
   "source": [
    "from sklearn.ensemble import GradientBoostingRegressor\n",
    "from sklearn.model_selection import train_test_split\n",
    "from sklearn.metrics import confusion_matrix\n",
    "from sklearn.metrics import mean_squared_error, r2_score\n",
    "\n",
    "def gbr_model(features_data, target_data, num_sample, rand_state, name_target):\n",
    "    \n",
    "    X_train, X_test, y_train, y_test = train_test_split(features_data, target_data,\n",
    "                                                    random_state=rand_state, test_size=0.2)\n",
    "    gbr = GradientBoostingRegressor(n_estimators = 500, max_depth = 10, min_samples_split = 5,\n",
    "          learning_rate = 0.1, loss= 'ls')\n",
    "    gbr.fit(X_train, y_train)\n",
    "    y_test_predict = gbr.predict(X_test)\n",
    "    \n",
    "    data_frame = pd.DataFrame([[name_target, 'Gradient Boosting Regressor', np.sqrt(sum((y_test - y_test_predict)**2)/len(y_test)),\n",
    "                              np.sqrt(sum((y_test - np.mean(y_test))**2)/len(y_test)),\n",
    "                              np.mean(target_data),np.mean(target_data), np.mean(y_train), \n",
    "                              np.mean(y_test), np.mean(y_test_predict)]], \n",
    "                              columns = ['name_target','model','RMS_test_predict','RMS_test_mean',\n",
    "                                        'mean_target','mean_sample', 'mean_train', \n",
    "                                        'mean_test', 'mean_test_predict'])\n",
    "    # Plot the feature importance\n",
    "    \n",
    "    all_features = gbr.feature_importances_\n",
    "    feat_scores_gbr = pd.DataFrame({'Fraction of Samples Affected {} {}'.format('Gradient Boosting', name_target) : all_features}, index=X_train.columns)\n",
    "    feat_scores_gbr = feat_scores_gbr.sort_values(by='Fraction of Samples Affected {} {}'.format('Gradient Boosting', name_target) )\n",
    "    feat_scores_gbr = feat_scores_gbr[-15:]\n",
    "    plt.figure(figsize=(10, 50))\n",
    "    feat_scores_gbr.plot(kind='barh')\n",
    "    plt.legend(loc='lower right')\n",
    "    \n",
    "    return y_test, y_test_predict, data_frame, feat_scores_gbr, gbr"
   ]
  },
  {
   "cell_type": "markdown",
   "metadata": {},
   "source": [
    "# Read Data!"
   ]
  },
  {
   "cell_type": "code",
   "execution_count": 4,
   "metadata": {},
   "outputs": [
    {
     "name": "stdout",
     "output_type": "stream",
     "text": [
      "shape of data_seen: (673630, 24)\n",
      "shape of data_unseen: (67363, 24)\n"
     ]
    },
    {
     "data": {
      "text/html": [
       "<div>\n",
       "<style scoped>\n",
       "    .dataframe tbody tr th:only-of-type {\n",
       "        vertical-align: middle;\n",
       "    }\n",
       "\n",
       "    .dataframe tbody tr th {\n",
       "        vertical-align: top;\n",
       "    }\n",
       "\n",
       "    .dataframe thead th {\n",
       "        text-align: right;\n",
       "    }\n",
       "</style>\n",
       "<table border=\"1\" class=\"dataframe\">\n",
       "  <thead>\n",
       "    <tr style=\"text-align: right;\">\n",
       "      <th></th>\n",
       "      <th>Unnamed: 0</th>\n",
       "      <th>Unnamed: 0.1</th>\n",
       "      <th>AIRLINE</th>\n",
       "      <th>airport_A</th>\n",
       "      <th>airport_B</th>\n",
       "      <th>airport_C</th>\n",
       "      <th>turnaround_time_ B</th>\n",
       "      <th>DEPARTURE_DELAY_AB</th>\n",
       "      <th>ARRIVAL_DELAY_AB</th>\n",
       "      <th>ELAPSED_TIME_AB</th>\n",
       "      <th>...</th>\n",
       "      <th>DEPARTURE_day_AB</th>\n",
       "      <th>DEPARTURE_month_AB</th>\n",
       "      <th>ARRIVAL_HOUR_AB</th>\n",
       "      <th>ARRIVAL_weekday_AB</th>\n",
       "      <th>ARRIVAL_day_AB</th>\n",
       "      <th>ARRIVAL_month_AB</th>\n",
       "      <th>SCHEDULED_DEPARTURE_HOUR_BC</th>\n",
       "      <th>SCHEDULED_DEPARTURE_weekday_BC</th>\n",
       "      <th>SCHEDULED_DEPARTURE_day_BC</th>\n",
       "      <th>SCHEDULED_DEPARTURE_month_BC</th>\n",
       "    </tr>\n",
       "  </thead>\n",
       "  <tbody>\n",
       "    <tr>\n",
       "      <th>0</th>\n",
       "      <td>6873</td>\n",
       "      <td>7645</td>\n",
       "      <td>AA</td>\n",
       "      <td>DFW</td>\n",
       "      <td>MSY</td>\n",
       "      <td>MIA</td>\n",
       "      <td>0.916667</td>\n",
       "      <td>2.0</td>\n",
       "      <td>-9.0</td>\n",
       "      <td>84.0</td>\n",
       "      <td>...</td>\n",
       "      <td>20</td>\n",
       "      <td>6</td>\n",
       "      <td>12</td>\n",
       "      <td>5</td>\n",
       "      <td>20</td>\n",
       "      <td>6</td>\n",
       "      <td>12</td>\n",
       "      <td>5</td>\n",
       "      <td>20</td>\n",
       "      <td>6</td>\n",
       "    </tr>\n",
       "    <tr>\n",
       "      <th>1</th>\n",
       "      <td>518252</td>\n",
       "      <td>2916296</td>\n",
       "      <td>AA</td>\n",
       "      <td>JFK</td>\n",
       "      <td>SJU</td>\n",
       "      <td>JFK</td>\n",
       "      <td>0.950000</td>\n",
       "      <td>1.0</td>\n",
       "      <td>-1.0</td>\n",
       "      <td>238.0</td>\n",
       "      <td>...</td>\n",
       "      <td>20</td>\n",
       "      <td>2</td>\n",
       "      <td>13</td>\n",
       "      <td>4</td>\n",
       "      <td>20</td>\n",
       "      <td>2</td>\n",
       "      <td>14</td>\n",
       "      <td>4</td>\n",
       "      <td>20</td>\n",
       "      <td>2</td>\n",
       "    </tr>\n",
       "    <tr>\n",
       "      <th>2</th>\n",
       "      <td>387616</td>\n",
       "      <td>2099276</td>\n",
       "      <td>AA</td>\n",
       "      <td>DFW</td>\n",
       "      <td>CMH</td>\n",
       "      <td>DFW</td>\n",
       "      <td>0.766667</td>\n",
       "      <td>6.0</td>\n",
       "      <td>-6.0</td>\n",
       "      <td>125.0</td>\n",
       "      <td>...</td>\n",
       "      <td>22</td>\n",
       "      <td>1</td>\n",
       "      <td>11</td>\n",
       "      <td>3</td>\n",
       "      <td>22</td>\n",
       "      <td>1</td>\n",
       "      <td>12</td>\n",
       "      <td>3</td>\n",
       "      <td>22</td>\n",
       "      <td>1</td>\n",
       "    </tr>\n",
       "    <tr>\n",
       "      <th>3</th>\n",
       "      <td>130403</td>\n",
       "      <td>1374143</td>\n",
       "      <td>AA</td>\n",
       "      <td>DFW</td>\n",
       "      <td>BOS</td>\n",
       "      <td>ORD</td>\n",
       "      <td>0.966667</td>\n",
       "      <td>28.0</td>\n",
       "      <td>29.0</td>\n",
       "      <td>222.0</td>\n",
       "      <td>...</td>\n",
       "      <td>28</td>\n",
       "      <td>5</td>\n",
       "      <td>15</td>\n",
       "      <td>3</td>\n",
       "      <td>28</td>\n",
       "      <td>5</td>\n",
       "      <td>15</td>\n",
       "      <td>3</td>\n",
       "      <td>28</td>\n",
       "      <td>5</td>\n",
       "    </tr>\n",
       "  </tbody>\n",
       "</table>\n",
       "<p>4 rows × 24 columns</p>\n",
       "</div>"
      ],
      "text/plain": [
       "   Unnamed: 0  Unnamed: 0.1 AIRLINE airport_A airport_B airport_C  \\\n",
       "0        6873          7645      AA       DFW       MSY       MIA   \n",
       "1      518252       2916296      AA       JFK       SJU       JFK   \n",
       "2      387616       2099276      AA       DFW       CMH       DFW   \n",
       "3      130403       1374143      AA       DFW       BOS       ORD   \n",
       "\n",
       "   turnaround_time_ B  DEPARTURE_DELAY_AB  ARRIVAL_DELAY_AB  ELAPSED_TIME_AB  \\\n",
       "0            0.916667                 2.0              -9.0             84.0   \n",
       "1            0.950000                 1.0              -1.0            238.0   \n",
       "2            0.766667                 6.0              -6.0            125.0   \n",
       "3            0.966667                28.0              29.0            222.0   \n",
       "\n",
       "   ...  DEPARTURE_day_AB  DEPARTURE_month_AB  ARRIVAL_HOUR_AB  \\\n",
       "0  ...                20                   6               12   \n",
       "1  ...                20                   2               13   \n",
       "2  ...                22                   1               11   \n",
       "3  ...                28                   5               15   \n",
       "\n",
       "   ARRIVAL_weekday_AB  ARRIVAL_day_AB  ARRIVAL_month_AB  \\\n",
       "0                   5              20                 6   \n",
       "1                   4              20                 2   \n",
       "2                   3              22                 1   \n",
       "3                   3              28                 5   \n",
       "\n",
       "   SCHEDULED_DEPARTURE_HOUR_BC  SCHEDULED_DEPARTURE_weekday_BC  \\\n",
       "0                           12                               5   \n",
       "1                           14                               4   \n",
       "2                           12                               3   \n",
       "3                           15                               3   \n",
       "\n",
       "   SCHEDULED_DEPARTURE_day_BC  SCHEDULED_DEPARTURE_month_BC  \n",
       "0                          20                             6  \n",
       "1                          20                             2  \n",
       "2                          22                             1  \n",
       "3                          28                             5  \n",
       "\n",
       "[4 rows x 24 columns]"
      ]
     },
     "execution_count": 4,
     "metadata": {},
     "output_type": "execute_result"
    }
   ],
   "source": [
    "data_seen = pd.read_csv(\"data_seen_AA_airlines.csv\")\n",
    "print('shape of data_seen:', data_seen.shape)\n",
    "data_unseen = pd.read_csv(\"data_unseen_AA_airlines.csv\")\n",
    "print('shape of data_unseen:', data_unseen.shape)\n",
    "data_unseen.head(4)"
   ]
  },
  {
   "cell_type": "code",
   "execution_count": 5,
   "metadata": {},
   "outputs": [
    {
     "data": {
      "text/plain": [
       "(673630, 578)"
      ]
     },
     "execution_count": 5,
     "metadata": {},
     "output_type": "execute_result"
    }
   ],
   "source": [
    "target_seen = data_seen['turnaround_time_ B']\n",
    "features_seen = pd.get_dummies(data_seen[['airport_A', 'airport_B', 'airport_C',\n",
    "       'DEPARTURE_DELAY_AB', 'ARRIVAL_DELAY_AB',\n",
    "       'ELAPSED_TIME_AB', 'DISTANCE_AB', 'DISTANCEBC', 'DEPARTURE_HOUR_AB',\n",
    "       'DEPARTURE_weekday_AB', 'DEPARTURE_day_AB', 'DEPARTURE_month_AB',\n",
    "       'ARRIVAL_HOUR_AB', 'ARRIVAL_weekday_AB', 'ARRIVAL_day_AB',\n",
    "       'ARRIVAL_month_AB', 'SCHEDULED_DEPARTURE_HOUR_BC',\n",
    "       'SCHEDULED_DEPARTURE_weekday_BC', 'SCHEDULED_DEPARTURE_day_BC',\n",
    "       'SCHEDULED_DEPARTURE_month_BC']])\n",
    "\n",
    "features_seen.shape"
   ]
  },
  {
   "cell_type": "code",
   "execution_count": 6,
   "metadata": {},
   "outputs": [
    {
     "data": {
      "text/plain": [
       "(67363, 572)"
      ]
     },
     "execution_count": 6,
     "metadata": {},
     "output_type": "execute_result"
    }
   ],
   "source": [
    "target_unseen = data_unseen['turnaround_time_ B']\n",
    "features_unseen = pd.get_dummies(data_unseen[['airport_A', 'airport_B', 'airport_C',\n",
    "       'DEPARTURE_DELAY_AB', 'ARRIVAL_DELAY_AB',\n",
    "       'ELAPSED_TIME_AB', 'DISTANCE_AB', 'DISTANCEBC', 'DEPARTURE_HOUR_AB',\n",
    "       'DEPARTURE_weekday_AB', 'DEPARTURE_day_AB', 'DEPARTURE_month_AB',\n",
    "       'ARRIVAL_HOUR_AB', 'ARRIVAL_weekday_AB', 'ARRIVAL_day_AB',\n",
    "       'ARRIVAL_month_AB', 'SCHEDULED_DEPARTURE_HOUR_BC',\n",
    "       'SCHEDULED_DEPARTURE_weekday_BC', 'SCHEDULED_DEPARTURE_day_BC',\n",
    "       'SCHEDULED_DEPARTURE_month_BC']])\n",
    "\n",
    "features_unseen.shape"
   ]
  },
  {
   "cell_type": "code",
   "execution_count": 7,
   "metadata": {},
   "outputs": [
    {
     "name": "stdout",
     "output_type": "stream",
     "text": [
      "airport_A_13230\n",
      "airport_A_LIT\n",
      "airport_B_12896\n",
      "airport_B_LIT\n",
      "airport_C_11503\n",
      "airport_C_LIT\n"
     ]
    }
   ],
   "source": [
    "for i in features_seen:\n",
    "    if i not in features_unseen:\n",
    "        print(i)"
   ]
  },
  {
   "cell_type": "code",
   "execution_count": 8,
   "metadata": {},
   "outputs": [],
   "source": [
    "features_unseen['airport_A_13230']= 0\n",
    "features_unseen['airport_A_LIT']= 0\n",
    "features_unseen['airport_B_12896']= 0\n",
    "features_unseen['airport_B_LIT']= 0\n",
    "features_unseen['airport_C_11503']= 0\n",
    "features_unseen['airport_C_LIT']= 0"
   ]
  },
  {
   "cell_type": "code",
   "execution_count": 9,
   "metadata": {},
   "outputs": [
    {
     "data": {
      "text/plain": [
       "1.0    487926\n",
       "2.0    185704\n",
       "Name: turnaround_time_ B, dtype: int64"
      ]
     },
     "execution_count": 9,
     "metadata": {},
     "output_type": "execute_result"
    }
   ],
   "source": [
    "target_seen_bio = target_seen.copy()\n",
    "target_seen_bio[target_seen <= 4]= 1\n",
    "target_seen_bio[target_seen  > 4]= 2\n",
    "target_seen_bio.value_counts()"
   ]
  },
  {
   "cell_type": "code",
   "execution_count": 10,
   "metadata": {},
   "outputs": [
    {
     "name": "stdout",
     "output_type": "stream",
     "text": [
      "102163\n"
     ]
    },
    {
     "data": {
      "image/png": "[encoded data removed]",
      "text/plain": [
       "<Figure size 288x288 with 1 Axes>"
      ]
     },
     "metadata": {
      "needs_background": "light"
     },
     "output_type": "display_data"
    },
    {
     "name": "stdout",
     "output_type": "stream",
     "text": [
      "Precision_0 =0.95\n",
      "Recall_0 =0.996329\n",
      "Precision_1 =0.99\n",
      "Recall_1 =0.865307\n"
     ]
    },
    {
     "data": {
      "text/plain": [
       "<Figure size 432x288 with 0 Axes>"
      ]
     },
     "metadata": {},
     "output_type": "display_data"
    }
   ],
   "source": [
    "model_RandomForestClassifier = RandomForestClassifier_model(features_seen, target_seen_bio, 1040)"
   ]
  },
  {
   "cell_type": "code",
   "execution_count": 11,
   "metadata": {},
   "outputs": [
    {
     "name": "stdout",
     "output_type": "stream",
     "text": [
      "51559\n"
     ]
    },
    {
     "data": {
      "image/png": "[encoded data removed]",
      "text/plain": [
       "<Figure size 216x216 with 1 Axes>"
      ]
     },
     "metadata": {
      "needs_background": "light"
     },
     "output_type": "display_data"
    }
   ],
   "source": [
    "target_unseen_predict_forest = model_RandomForestClassifier.predict(features_unseen)\n",
    "target_unseen_p = target_unseen.copy()\n",
    "target_unseen_p[target_unseen <= 4] = 1\n",
    "target_unseen_p[target_unseen > 4] = 2\n",
    "### plot category of distrbutions based on Random Forest \n",
    "cm = confusion_matrix(target_unseen_p, target_unseen_predict_forest)\n",
    "fig, ax = plt.subplots(figsize=(3, 3))\n",
    "ax.imshow(cm)\n",
    "ax.grid(False)\n",
    "ax.xaxis.set(ticks=(0, 1), ticklabels=('Predicted 0s', 'Predicted 1s'))\n",
    "ax.set_ylim(1.5, -0.5)\n",
    "ax.yaxis.set(ticks=(0, 1), ticklabels=('Actual 0s', 'Actual 1s'))\n",
    "plt.sca(ax)\n",
    "plt.title('Predict Unseen Data')\n",
    "    \n",
    "print(cm.sum(axis=0)[0])\n",
    "for i in range(2):\n",
    "        for j in range(2):\n",
    "            ax.text(j, i, ('% {}').format(int(cm[i, j]/cm.sum(axis= 1)[i]*100)), ha='center', va='center', color='red')\n",
    "plt.show()"
   ]
  },
  {
   "cell_type": "code",
   "execution_count": 12,
   "metadata": {},
   "outputs": [
    {
     "name": "stdout",
     "output_type": "stream",
     "text": [
      "True\n",
      "mean(target_unseen_1) 1.2045586491679954 mean(target_unseen_2) 10.489555435077257\n",
      "mean(target_unseen_predict_forest_1) 1.9052493260148569 mean(target_unseen_predict_forest_2) 9.75523285244242\n"
     ]
    }
   ],
   "source": [
    "# seprate unseen data two distributions without random forest model\n",
    "index1 = target_unseen_p[target_unseen_p == 1].index\n",
    "index2 = target_unseen_p[target_unseen_p == 2].index\n",
    "print( set(index1).issubset(features_unseen.index))\n",
    "features_unseen_1 = features_unseen.loc[index1]\n",
    "features_unseen_2 = features_unseen.loc[index2]\n",
    "target_unseen_1 = target_unseen[index1]\n",
    "target_unseen_2 = target_unseen[index2]\n",
    "print('mean(target_unseen_1)', np.mean(target_unseen_1), 'mean(target_unseen_2)', np.mean(target_unseen_2))\n",
    "#----------------------------------------------------------------\n",
    "#predict distribution of data by useing random forest model\n",
    "index1 = target_unseen_p[target_unseen_predict_forest == 1].index\n",
    "index2 = target_unseen_p[target_unseen_predict_forest == 2].index\n",
    "features_unseen_predict_forest_1 = features_unseen.loc[index1]\n",
    "features_unseen_predict_forest_2 = features_unseen.loc[index2]\n",
    "target_unseen_predict_forest_1 = target_unseen[index1]\n",
    "target_unseen_predict_forest_2 = target_unseen[index2]\n",
    "print('mean(target_unseen_predict_forest_1)', np.mean(target_unseen_predict_forest_1), 'mean(target_unseen_predict_forest_2)', np.mean(target_unseen_predict_forest_2))"
   ]
  },
  {
   "cell_type": "code",
   "execution_count": 13,
   "metadata": {},
   "outputs": [
    {
     "data": {
      "text/plain": [
       "13       16.850000\n",
       "19        5.666667\n",
       "23       12.683333\n",
       "25       12.266667\n",
       "31        3.550000\n",
       "           ...    \n",
       "67333     9.383333\n",
       "67344     4.383333\n",
       "67346     9.033333\n",
       "67350     8.316667\n",
       "67361    12.266667\n",
       "Name: turnaround_time_ B, Length: 15804, dtype: float64"
      ]
     },
     "execution_count": 13,
     "metadata": {},
     "output_type": "execute_result"
    }
   ],
   "source": [
    "target_unseen_predict_forest_2"
   ]
  },
  {
   "cell_type": "markdown",
   "metadata": {},
   "source": [
    "# make model to predict TAT"
   ]
  },
  {
   "cell_type": "code",
   "execution_count": 14,
   "metadata": {},
   "outputs": [
    {
     "name": "stdout",
     "output_type": "stream",
     "text": [
      "(487926, 578)\n",
      "(185704, 578)\n"
     ]
    }
   ],
   "source": [
    "target_1, target_2 = target_seen[target_seen<= 4], target_seen[target_seen> 4]\n",
    "index_1 = target_1.index\n",
    "index_2 = target_2.index\n",
    "features_1, features_2 = features_seen.loc[index_1], features_seen.loc[index_2]\n",
    "print(features_1.shape)\n",
    "print(features_2.shape)"
   ]
  },
  {
   "cell_type": "code",
   "execution_count": 16,
   "metadata": {},
   "outputs": [
    {
     "name": "stdout",
     "output_type": "stream",
     "text": [
      "*\n"
     ]
    },
    {
     "data": {
      "text/html": [
       "<div>\n",
       "<style scoped>\n",
       "    .dataframe tbody tr th:only-of-type {\n",
       "        vertical-align: middle;\n",
       "    }\n",
       "\n",
       "    .dataframe tbody tr th {\n",
       "        vertical-align: top;\n",
       "    }\n",
       "\n",
       "    .dataframe thead th {\n",
       "        text-align: right;\n",
       "    }\n",
       "</style>\n",
       "<table border=\"1\" class=\"dataframe\">\n",
       "  <thead>\n",
       "    <tr style=\"text-align: right;\">\n",
       "      <th></th>\n",
       "      <th>name_target</th>\n",
       "      <th>model</th>\n",
       "      <th>RMS_test_predict</th>\n",
       "      <th>RMS_test_mean</th>\n",
       "      <th>mean_target</th>\n",
       "      <th>mean_sample</th>\n",
       "      <th>mean_train</th>\n",
       "      <th>mean_test</th>\n",
       "      <th>mean_test_predict</th>\n",
       "    </tr>\n",
       "  </thead>\n",
       "  <tbody>\n",
       "    <tr>\n",
       "      <th>0</th>\n",
       "      <td>target_1</td>\n",
       "      <td>Gradient Boosting Regressor</td>\n",
       "      <td>0.299859</td>\n",
       "      <td>0.529663</td>\n",
       "      <td>1.203914</td>\n",
       "      <td>1.203914</td>\n",
       "      <td>1.203918</td>\n",
       "      <td>1.203897</td>\n",
       "      <td>1.206008</td>\n",
       "    </tr>\n",
       "    <tr>\n",
       "      <th>0</th>\n",
       "      <td>target_2</td>\n",
       "      <td>Gradient Boosting Regressor</td>\n",
       "      <td>0.884708</td>\n",
       "      <td>3.945144</td>\n",
       "      <td>10.471140</td>\n",
       "      <td>10.471140</td>\n",
       "      <td>10.475262</td>\n",
       "      <td>10.454654</td>\n",
       "      <td>10.460290</td>\n",
       "    </tr>\n",
       "  </tbody>\n",
       "</table>\n",
       "</div>"
      ],
      "text/plain": [
       "  name_target                        model  RMS_test_predict  RMS_test_mean  \\\n",
       "0    target_1  Gradient Boosting Regressor          0.299859       0.529663   \n",
       "0    target_2  Gradient Boosting Regressor          0.884708       3.945144   \n",
       "\n",
       "   mean_target  mean_sample  mean_train  mean_test  mean_test_predict  \n",
       "0     1.203914     1.203914    1.203918   1.203897           1.206008  \n",
       "0    10.471140    10.471140   10.475262  10.454654          10.460290  "
      ]
     },
     "execution_count": 16,
     "metadata": {},
     "output_type": "execute_result"
    },
    {
     "data": {
      "text/plain": [
       "<Figure size 720x3600 with 0 Axes>"
      ]
     },
     "metadata": {},
     "output_type": "display_data"
    },
    {
     "data": {
      "image/png": "[encoded data removed]",
      "text/plain": [
       "<Figure size 432x288 with 1 Axes>"
      ]
     },
     "metadata": {
      "needs_background": "light"
     },
     "output_type": "display_data"
    },
    {
     "data": {
      "text/plain": [
       "<Figure size 720x3600 with 0 Axes>"
      ]
     },
     "metadata": {},
     "output_type": "display_data"
    },
    {
     "data": {
      "image/png": "[encoded data removed]",
      "text/plain": [
       "<Figure size 432x288 with 1 Axes>"
      ]
     },
     "metadata": {
      "needs_background": "light"
     },
     "output_type": "display_data"
    }
   ],
   "source": [
    "target_1_test, target_1_test_predict,table_gbr_1, feat_scores_gbr_1, model_1 = gbr_model(features_1,target_1, 100000, 1112, 'target_1')\n",
    "#reg_plot(target_1,target_1_test, target_1_test_predict, target_1_predict,'target_1')\n",
    "\n",
    "print('*')\n",
    "target_2_test, target_2_test_predict, table_gbr_2, feat_scores_gbr_2, model_2 = gbr_model(features_2,target_2, 100000, 1112, 'target_2')\n",
    "#reg_plot(target_2,target_2_test, target_2_test_predict, target_2_predict,'target_2')\n",
    "\n",
    "pd.concat([table_gbr_1, table_gbr_2], axis=0)"
   ]
  },
  {
   "cell_type": "code",
   "execution_count": 17,
   "metadata": {},
   "outputs": [],
   "source": [
    "def check_models_with_unseen_data(model, name_target, y, x):\n",
    "    \n",
    "    y_predict = model.predict(x)\n",
    "    data_frame = pd.DataFrame([[name_target, 'Gradient Boosting Regressor', np.sqrt(sum((y - y_predict)**2)/len(y)),\n",
    "                              np.sqrt(sum((y - np.mean(y))**2)/len(y)),\n",
    "                              np.mean(y), np.mean(y_predict)]], \n",
    "                              columns = ['name_target','model','RMS_predict','RMS_target_mean',\n",
    "                                        'mean_target','mean_target_predict'])\n",
    "    return data_frame"
   ]
  },
  {
   "cell_type": "code",
   "execution_count": 18,
   "metadata": {},
   "outputs": [
    {
     "data": {
      "text/html": [
       "<div>\n",
       "<style scoped>\n",
       "    .dataframe tbody tr th:only-of-type {\n",
       "        vertical-align: middle;\n",
       "    }\n",
       "\n",
       "    .dataframe tbody tr th {\n",
       "        vertical-align: top;\n",
       "    }\n",
       "\n",
       "    .dataframe thead th {\n",
       "        text-align: right;\n",
       "    }\n",
       "</style>\n",
       "<table border=\"1\" class=\"dataframe\">\n",
       "  <thead>\n",
       "    <tr style=\"text-align: right;\">\n",
       "      <th></th>\n",
       "      <th>name_target</th>\n",
       "      <th>model</th>\n",
       "      <th>RMS_predict</th>\n",
       "      <th>RMS_target_mean</th>\n",
       "      <th>mean_target</th>\n",
       "      <th>mean_target_predict</th>\n",
       "    </tr>\n",
       "  </thead>\n",
       "  <tbody>\n",
       "    <tr>\n",
       "      <th>0</th>\n",
       "      <td>unseen_1</td>\n",
       "      <td>Gradient Boosting Regressor</td>\n",
       "      <td>0.370296</td>\n",
       "      <td>0.528226</td>\n",
       "      <td>1.204559</td>\n",
       "      <td>1.210802</td>\n",
       "    </tr>\n",
       "    <tr>\n",
       "      <th>0</th>\n",
       "      <td>unseen_forest_predicted_1</td>\n",
       "      <td>Gradient Boosting Regressor</td>\n",
       "      <td>3.017667</td>\n",
       "      <td>3.178240</td>\n",
       "      <td>1.905249</td>\n",
       "      <td>1.319398</td>\n",
       "    </tr>\n",
       "    <tr>\n",
       "      <th>0</th>\n",
       "      <td>unseen_2</td>\n",
       "      <td>Gradient Boosting Regressor</td>\n",
       "      <td>1.342306</td>\n",
       "      <td>3.974310</td>\n",
       "      <td>10.489555</td>\n",
       "      <td>10.625008</td>\n",
       "    </tr>\n",
       "    <tr>\n",
       "      <th>0</th>\n",
       "      <td>unseen_forest_predicted_2</td>\n",
       "      <td>Gradient Boosting Regressor</td>\n",
       "      <td>1.409976</td>\n",
       "      <td>3.499460</td>\n",
       "      <td>9.755233</td>\n",
       "      <td>10.070576</td>\n",
       "    </tr>\n",
       "  </tbody>\n",
       "</table>\n",
       "</div>"
      ],
      "text/plain": [
       "                 name_target                        model  RMS_predict  \\\n",
       "0                   unseen_1  Gradient Boosting Regressor     0.370296   \n",
       "0  unseen_forest_predicted_1  Gradient Boosting Regressor     3.017667   \n",
       "0                   unseen_2  Gradient Boosting Regressor     1.342306   \n",
       "0  unseen_forest_predicted_2  Gradient Boosting Regressor     1.409976   \n",
       "\n",
       "   RMS_target_mean  mean_target  mean_target_predict  \n",
       "0         0.528226     1.204559             1.210802  \n",
       "0         3.178240     1.905249             1.319398  \n",
       "0         3.974310    10.489555            10.625008  \n",
       "0         3.499460     9.755233            10.070576  "
      ]
     },
     "execution_count": 18,
     "metadata": {},
     "output_type": "execute_result"
    }
   ],
   "source": [
    "table_1 = check_models_with_unseen_data(model_1, \"unseen_1\", target_unseen_1, features_unseen_1)\n",
    "table_1_p = check_models_with_unseen_data(model_1, \"unseen_forest_predicted_1\", target_unseen_predict_forest_1, features_unseen_predict_forest_1)\n",
    "table_2 = check_models_with_unseen_data(model_2, \"unseen_2\", target_unseen_2, features_unseen_2)\n",
    "table_2_p = check_models_with_unseen_data(model_2, \"unseen_forest_predicted_2\", target_unseen_predict_forest_2, features_unseen_predict_forest_2)\n",
    "\n",
    "pd.concat([table_1, table_1_p, table_2, table_2_p], axis=0)"
   ]
  },
  {
   "cell_type": "code",
   "execution_count": null,
   "metadata": {},
   "outputs": [],
   "source": []
  }
 ],
 "metadata": {
  "kernelspec": {
   "display_name": "Python 3",
   "language": "python",
   "name": "python3"
  },
  "language_info": {
   "codemirror_mode": {
    "name": "ipython",
    "version": 3
   },
   "file_extension": ".py",
   "mimetype": "text/x-python",
   "name": "python",
   "nbconvert_exporter": "python",
   "pygments_lexer": "ipython3",
   "version": "3.6.9"
  }
 },
 "nbformat": 4,
 "nbformat_minor": 2
}

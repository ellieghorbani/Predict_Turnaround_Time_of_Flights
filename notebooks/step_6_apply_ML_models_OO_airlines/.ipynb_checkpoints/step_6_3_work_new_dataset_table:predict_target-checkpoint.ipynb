{
 "cells": [
  {
   "cell_type": "code",
   "execution_count": 1,
   "metadata": {},
   "outputs": [
    {
     "name": "stderr",
     "output_type": "stream",
     "text": [
      "In /home/elaheh/.local/lib/python3.6/site-packages/matplotlib/mpl-data/stylelib/_classic_test.mplstyle: \n",
      "The text.latex.preview rcparam was deprecated in Matplotlib 3.3 and will be removed two minor releases later.\n",
      "In /home/elaheh/.local/lib/python3.6/site-packages/matplotlib/mpl-data/stylelib/_classic_test.mplstyle: \n",
      "The mathtext.fallback_to_cm rcparam was deprecated in Matplotlib 3.3 and will be removed two minor releases later.\n",
      "In /home/elaheh/.local/lib/python3.6/site-packages/matplotlib/mpl-data/stylelib/_classic_test.mplstyle: Support for setting the 'mathtext.fallback_to_cm' rcParam is deprecated since 3.3 and will be removed two minor releases later; use 'mathtext.fallback : 'cm' instead.\n",
      "In /home/elaheh/.local/lib/python3.6/site-packages/matplotlib/mpl-data/stylelib/_classic_test.mplstyle: \n",
      "The validate_bool_maybe_none function was deprecated in Matplotlib 3.3 and will be removed two minor releases later.\n",
      "In /home/elaheh/.local/lib/python3.6/site-packages/matplotlib/mpl-data/stylelib/_classic_test.mplstyle: \n",
      "The savefig.jpeg_quality rcparam was deprecated in Matplotlib 3.3 and will be removed two minor releases later.\n",
      "In /home/elaheh/.local/lib/python3.6/site-packages/matplotlib/mpl-data/stylelib/_classic_test.mplstyle: \n",
      "The keymap.all_axes rcparam was deprecated in Matplotlib 3.3 and will be removed two minor releases later.\n",
      "In /home/elaheh/.local/lib/python3.6/site-packages/matplotlib/mpl-data/stylelib/_classic_test.mplstyle: \n",
      "The animation.avconv_path rcparam was deprecated in Matplotlib 3.3 and will be removed two minor releases later.\n",
      "In /home/elaheh/.local/lib/python3.6/site-packages/matplotlib/mpl-data/stylelib/_classic_test.mplstyle: \n",
      "The animation.avconv_args rcparam was deprecated in Matplotlib 3.3 and will be removed two minor releases later.\n"
     ]
    }
   ],
   "source": [
    "import numpy as np\n",
    "import pandas as pd\n",
    "import matplotlib.pyplot as plt\n",
    "from datetime import datetime, date, time \n",
    "from scipy import stats\n",
    "from sklearn import linear_model\n",
    "from sklearn.datasets import make_regression\n",
    "from sklearn.model_selection import cross_val_score\n",
    "from sklearn.model_selection import RepeatedKFold\n",
    "from sklearn.ensemble import GradientBoostingRegressor\n",
    "from sklearn.model_selection import train_test_split\n",
    "from sklearn.metrics import confusion_matrix\n",
    "from sklearn.metrics import mean_squared_error, r2_score\n",
    "from sklearn.preprocessing import PolynomialFeatures\n",
    "from sklearn.ensemble import RandomForestRegressor \n",
    "#from tabulate import tabulate"
   ]
  },
  {
   "cell_type": "markdown",
   "metadata": {},
   "source": [
    "# read Data!"
   ]
  },
  {
   "cell_type": "code",
   "execution_count": null,
   "metadata": {},
   "outputs": [],
   "source": [
    "data = pd.read_csv(\"data_seen_OO_airlines.csv\")\n",
    "print('shape of data:', data.shape)\n",
    "data.head(4)"
   ]
  },
  {
   "cell_type": "code",
   "execution_count": null,
   "metadata": {},
   "outputs": [],
   "source": [
    "data.columns"
   ]
  },
  {
   "cell_type": "markdown",
   "metadata": {},
   "source": [
    "# Modeling"
   ]
  },
  {
   "cell_type": "code",
   "execution_count": null,
   "metadata": {},
   "outputs": [],
   "source": [
    "data.info()"
   ]
  },
  {
   "cell_type": "code",
   "execution_count": null,
   "metadata": {},
   "outputs": [],
   "source": [
    "data['AIRLINE'].unique()"
   ]
  },
  {
   "cell_type": "code",
   "execution_count": null,
   "metadata": {},
   "outputs": [],
   "source": [
    "target = data['turnaround_time_ B']\n",
    "features = pd.get_dummies(data[['airport_A', 'airport_B', 'airport_C',\n",
    "       'DEPARTURE_DELAY_AB', 'ARRIVAL_DELAY_AB',\n",
    "       'ELAPSED_TIME_AB', 'DISTANCE_AB', 'DISTANCEBC', 'DEPARTURE_HOUR_AB',\n",
    "       'DEPARTURE_weekday_AB', 'DEPARTURE_day_AB', 'DEPARTURE_month_AB',\n",
    "       'ARRIVAL_HOUR_AB', 'ARRIVAL_weekday_AB', 'ARRIVAL_day_AB',\n",
    "       'ARRIVAL_month_AB', 'SCHEDULED_DEPARTURE_HOUR_BC',\n",
    "       'SCHEDULED_DEPARTURE_weekday_BC', 'SCHEDULED_DEPARTURE_day_BC',\n",
    "       'SCHEDULED_DEPARTURE_month_BC']])\n",
    "print(target.shape)\n",
    "features.shape"
   ]
  },
  {
   "cell_type": "code",
   "execution_count": null,
   "metadata": {},
   "outputs": [],
   "source": [
    "plt.hist(target,bins = 100, alpha = 0.5, label = 'target')\n",
    "print(np.mean(target))"
   ]
  },
  {
   "cell_type": "code",
   "execution_count": null,
   "metadata": {},
   "outputs": [],
   "source": [
    "target_1, target_2 = target[target<= 4], target[target> 4]\n",
    "index_1 = target_1.index\n",
    "index_2 = target_2.index\n",
    "features_1, features_2 = features[features.index.isin(index_1)], features[features.index.isin(index_2)]\n",
    "print(features_1.shape)\n",
    "print(features_2.shape)\n",
    "del(data)"
   ]
  },
  {
   "cell_type": "code",
   "execution_count": null,
   "metadata": {},
   "outputs": [],
   "source": [
    "models = {0 : linear_model.LinearRegression(),  \n",
    "          1 : GradientBoostingRegressor(n_estimators = 500, max_depth = 10, min_samples_split = 5, learning_rate = 0.1, loss= 'ls'),\n",
    "          2 : RandomForestRegressor(n_estimators = 500, max_depth = 10, random_state = 0) }\n",
    "model_name = {0 : \"Linear Regression\",\n",
    "              1 : \"Gradient Boosting Regressor\",\n",
    "              2 : \"Random Forest Regressor\"}"
   ]
  },
  {
   "cell_type": "markdown",
   "metadata": {},
   "source": [
    "# Fit_model Function"
   ]
  },
  {
   "cell_type": "code",
   "execution_count": null,
   "metadata": {},
   "outputs": [],
   "source": [
    "def fit_model(model_type, name_model, features_data, target_data, rand_state,name_target):\n",
    "    X_train, X_test, y_train, y_test = train_test_split(features_data, target_data,\n",
    "                                                    random_state=rand_state, test_size=0.2)\n",
    "    model = model_type\n",
    "    model.fit(X_train, y_train)\n",
    "    y_test_predict = model.predict(X_test)\n",
    "    data_frame = pd.DataFrame([[name_target, name_model, np.sqrt(sum((y_test - y_test_predict)**2)/len(y_test)),\n",
    "                              np.sqrt(sum((y_test - np.mean(y_test))**2)/len(y_test)),\n",
    "                              np.mean(y_train), np.mean(y_test), np.mean(y_test_predict)]], \n",
    "                              columns = ['name_target','model','RMS_test_predict','RMS_test_mean',\n",
    "                                        'mean_train', 'mean_test', 'mean_test_predict'])\n",
    "    \n",
    "    # Plot the feature importance\n",
    "    plt.figure(figsize=(50, 50))\n",
    "    if name_model == \"Linear Regression\":\n",
    "        all_features = model.coef_\n",
    "    else:\n",
    "        all_features = model.feature_importances_\n",
    "    feat_scores_model = pd.DataFrame({'Fraction of Features' : all_features}, index=X_train.columns)\n",
    "    feat_scores_model = feat_scores_model.sort_values(by='Fraction of Features')\n",
    "    feat_scores_model = feat_scores_model[-10:]\n",
    "    plt.figure(figsize=(10, 50))\n",
    "    feat_scores_model.plot(kind='barh')\n",
    "    plt.legend(loc='lower right')\n",
    "    plt.savefig(\"the_most_important_OO_{}_predict_{}.png\".format(name_model, name_target), bbox_inches='tight')\n",
    "    return y_test, y_test_predict, data_frame, feat_scores_model\n",
    "\n",
    "def plot(name_model,y_test, y_test_predict,name_target):\n",
    "    \n",
    "    fig, ax = plt.subplots(figsize = (10,5))\n",
    "    ax.hist(y_test,bins = 100, alpha = 0.5, label = (name_target+'_test'))\n",
    "    ax.hist(y_test_predict, bins = 100,alpha = 0.5, label = name_target+'_test_predict')\n",
    "    ax.legend()\n",
    "    plt.savefig(\"histogram_OO_{}_predict_{}.png\".format(name_model, name_target), bbox_inches='tight')\n",
    "    "
   ]
  },
  {
   "cell_type": "markdown",
   "metadata": {},
   "source": [
    "# Linear Regression"
   ]
  },
  {
   "cell_type": "code",
   "execution_count": null,
   "metadata": {},
   "outputs": [],
   "source": [
    "target_1_test, target_1_test_predict, table_reg_1, feat_scores_reg_1 = fit_model(models[0],model_name[0], features_1,target_1, 347,'target_1')\n",
    "plot(model_name[0],target_1_test, target_1_test_predict, 'target_1')\n",
    "\n",
    "target_2_test, target_2_test_predict, table_reg_2, feat_scores_reg_2 = fit_model(models[0], model_name[0], features_2,target_2, 964,'target_2')\n",
    "plot(model_name[0],target_2_test, target_2_test_predict, 'target_2')\n",
    "pd.concat([table_reg_1, table_reg_2], axis=0)"
   ]
  },
  {
   "cell_type": "markdown",
   "metadata": {},
   "source": [
    "# Gradient Boosting Regressor"
   ]
  },
  {
   "cell_type": "code",
   "execution_count": null,
   "metadata": {
    "scrolled": true
   },
   "outputs": [],
   "source": [
    "target_1_test, target_1_test_predict, table_gbr_1, feat_scores_gbr_1 = fit_model(models[1],model_name[1], features_1,target_1, 347,'target_1')\n",
    "plot(model_name[1],target_1_test, target_1_test_predict,'target_1')\n",
    "\n",
    "print('*')\n",
    "target_2_test, target_2_test_predict, table_gbr_2, feat_scores_gbr_2 = fit_model(models[1],model_name[1], features_2,target_2, 1735,'target_2')\n",
    "plot(model_name[1],target_2_test, target_2_test_predict,'target_2')\n",
    "\n",
    "pd.concat([table_gbr_1, table_gbr_2], axis=0)"
   ]
  },
  {
   "cell_type": "markdown",
   "metadata": {},
   "source": [
    "# Random Forest Regressor "
   ]
  },
  {
   "cell_type": "code",
   "execution_count": null,
   "metadata": {},
   "outputs": [],
   "source": [
    "target_1_test, target_1_test_predict, table_rfr_1, feat_scores_rfr_1 = fit_model(models[2],model_name[2], features_1, target_1, 347,'target_1')\n",
    "plot(model_name[2],target_1_test, target_1_test_predict,'target_1')\n"
   ]
  },
  {
   "cell_type": "code",
   "execution_count": null,
   "metadata": {},
   "outputs": [],
   "source": [
    "print('*')\n",
    "target_2_test, target_2_test_predict, table_rfr_2, feat_scores_rfr_2 = fit_model(models[2],model_name[2], features_2,target_2, 347,'target_2')\n",
    "plot(model_name[2], target_2_test, target_2_test_predict,'target_2')\n",
    "pd.concat([table_rfr_1, table_rfr_2], axis=0)"
   ]
  },
  {
   "cell_type": "code",
   "execution_count": null,
   "metadata": {},
   "outputs": [],
   "source": []
  },
  {
   "cell_type": "code",
   "execution_count": null,
   "metadata": {},
   "outputs": [],
   "source": []
  }
 ],
 "metadata": {
  "kernelspec": {
   "display_name": "Python 3",
   "language": "python",
   "name": "python3"
  },
  "language_info": {
   "codemirror_mode": {
    "name": "ipython",
    "version": 3
   },
   "file_extension": ".py",
   "mimetype": "text/x-python",
   "name": "python",
   "nbconvert_exporter": "python",
   "pygments_lexer": "ipython3",
   "version": "3.6.9"
  }
 },
 "nbformat": 4,
 "nbformat_minor": 2
}

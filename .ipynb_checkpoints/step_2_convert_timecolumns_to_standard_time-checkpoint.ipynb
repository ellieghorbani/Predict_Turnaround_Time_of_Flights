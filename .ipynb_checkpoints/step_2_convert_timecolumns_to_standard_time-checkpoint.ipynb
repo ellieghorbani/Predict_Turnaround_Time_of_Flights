{
 "cells": [
  {
   "cell_type": "code",
   "execution_count": null,
   "metadata": {},
   "outputs": [],
   "source": [
    "%matplotlib notebook\n",
    "import datetime, warnings, scipy \n",
    "import numpy as np\n",
    "import pandas as pd\n",
    "from sklearn.model_selection import train_test_split\n",
    "import seaborn as sns\n",
    "from collections import Counter\n",
    "from datetime import datetime, date, time\n",
    "\n",
    "import seaborn as sns\n",
    "from pandas.plotting import scatter_matrix\n",
    "from matplotlib import cm\n",
    "\n",
    "import matplotlib\n",
    "import matplotlib.pyplot as plt\n",
    "%matplotlib inline\n",
    "\n",
    "\n",
    "font = {'size'   : 16}\n",
    "matplotlib.rc('font', **font)"
   ]
  },
  {
   "cell_type": "markdown",
   "metadata": {},
   "source": [
    "# Read data from flights_step_1.csv!"
   ]
  },
  {
   "cell_type": "code",
   "execution_count": null,
   "metadata": {
    "scrolled": true
   },
   "outputs": [],
   "source": [
    "flights_step_2 = pd.read_csv('flights_step_1.csv')\n",
    "flights_step_2.shape"
   ]
  },
  {
   "cell_type": "markdown",
   "metadata": {},
   "source": [
    "# Check flights dataFrame!"
   ]
  },
  {
   "cell_type": "code",
   "execution_count": null,
   "metadata": {},
   "outputs": [],
   "source": [
    "print(flights_step_2.shape)\n",
    "flights_step_2.loc[:13555, ['SCHEDULED_DEPARTURE', 'SCHEDULED_ARRIVAL', 'DEPARTURE_TIME',\n",
    "             'ARRIVAL_TIME', 'DEPARTURE_DELAY', 'ARRIVAL_DELAY']]"
   ]
  },
  {
   "cell_type": "markdown",
   "metadata": {},
   "source": [
    "# #1 Check to two samples in the dataFrame!"
   ]
  },
  {
   "cell_type": "code",
   "execution_count": null,
   "metadata": {},
   "outputs": [],
   "source": [
    "print('SCHEDULED_DEPARTURE:%f | %f' %(flights_step_2.SCHEDULED_DEPARTURE[0], flights_step_2.SCHEDULED_DEPARTURE[30000]))\n",
    "print('     DEPARTURE_TIME:%f | %f' %(flights_step_2.DEPARTURE_TIME[0], flights_step_2.DEPARTURE_TIME[30000]))\n",
    "print('  SCHEDULED_ARRIVAL:%f | %f' %(flights_step_2.SCHEDULED_ARRIVAL[0], flights_step_2.SCHEDULED_ARRIVAL[30000]))\n",
    "print('       ARRIVAL_TIME:%f | %f' %(flights_step_2.ARRIVAL_TIME[0], flights_step_2.ARRIVAL_TIME[30000]))\n"
   ]
  },
  {
   "cell_type": "markdown",
   "metadata": {},
   "source": [
    "# Convert time data to seconds!"
   ]
  },
  {
   "cell_type": "code",
   "execution_count": null,
   "metadata": {},
   "outputs": [],
   "source": [
    "def convert_to_sec(a):\n",
    "    return (a - a%100)*36 + a%100*60\n",
    "#-----------------------------------------------------------------------------\n",
    "\n",
    "flights_step_2['SCHEDULED_DEPARTURE_DATE'] = pd.to_datetime(flights_step_2[['YEAR','MONTH', 'DAY']])\n",
    "flights_step_2['FSD'] = convert_to_sec(flights_step_2.SCHEDULED_DEPARTURE)\n",
    "flights_step_2['FSA'] = convert_to_sec(flights_step_2.SCHEDULED_ARRIVAL)\n",
    "flights_step_2['FD'] = convert_to_sec(flights_step_2.DEPARTURE_TIME)\n",
    "flights_step_2['FA'] = convert_to_sec(flights_step_2.ARRIVAL_TIME)\n",
    " "
   ]
  },
  {
   "cell_type": "markdown",
   "metadata": {},
   "source": [
    "# Convert times to standard datetimes : SCHEDULED_DEPARTURE, DEPARTURE_TIME, SCHEDULED_ARRIVAL, ARRIVAL_TIME!"
   ]
  },
  {
   "cell_type": "code",
   "execution_count": null,
   "metadata": {},
   "outputs": [],
   "source": [
    "def determinante_day(tsd,td,delay_time, date):\n",
    "    y = td + ((-(td - tsd) + delay_time*60)//(24*3600))* 24*3600\n",
    "    return pd.to_datetime(date) + y.astype('timedelta64[s]')\n",
    "#------------------------------------------------------------------------------\n",
    "\n",
    "flights_step_2['SCHEDULED_DEPARTURE'] =  pd.to_datetime(flights_step_2.SCHEDULED_DEPARTURE_DATE) + flights_step_2.FSD.astype('timedelta64[s]')\n",
    "flights_step_2['DEPARTURE_TIME'] = determinante_day(flights_step_2['FSD'],flights_step_2['FD'],flights_step_2['DEPARTURE_DELAY'],flights_step_2.SCHEDULED_DEPARTURE_DATE)\n",
    "flights_step_2['SCHEDULED_ARRIVAL'] = determinante_day(flights_step_2['FSD'],flights_step_2['FSA'],24*60,flights_step_2['SCHEDULED_DEPARTURE_DATE'])\n",
    "flights_step_2['ARRIVAL_TIME'] = determinante_day(flights_step_2['FSD'],flights_step_2['FA'],24*60,flights_step_2['SCHEDULED_DEPARTURE_DATE'])\n",
    "\n",
    "flights_step_2.loc[:13900, ['SCHEDULED_DEPARTURE', 'SCHEDULED_ARRIVAL', 'DEPARTURE_TIME',\n",
    "             'ARRIVAL_TIME', 'DEPARTURE_DELAY', 'ARRIVAL_DELAY']]"
   ]
  },
  {
   "cell_type": "markdown",
   "metadata": {},
   "source": [
    "# Conver #1 to a standard timedate! "
   ]
  },
  {
   "cell_type": "code",
   "execution_count": null,
   "metadata": {},
   "outputs": [],
   "source": [
    "print('SCHEDULED_DEPARTURE:', flights_step_2.SCHEDULED_DEPARTURE[0], flights_step_2.SCHEDULED_DEPARTURE[30000])\n",
    "print('     DEPARTURE_TIME:', flights_step_2.DEPARTURE_TIME[0], flights_step_2.DEPARTURE_TIME[30000])\n",
    "print('  SCHEDULED_ARRIVAL:', flights_step_2.SCHEDULED_ARRIVAL[0], flights_step_2.SCHEDULED_ARRIVAL[30000])\n",
    "print('       ARRIVAL_TIME:', flights_step_2.ARRIVAL_TIME[0], flights_step_2.ARRIVAL_TIME[30000])\n",
    "flights_step_2.columns"
   ]
  },
  {
   "cell_type": "code",
   "execution_count": null,
   "metadata": {},
   "outputs": [],
   "source": [
    "flights_step_2 = flights_step_2[['AIRLINE', 'FLIGHT_NUMBER', 'TAIL_NUMBER',\n",
    "       'ORIGIN_AIRPORT', 'DESTINATION_AIRPORT', 'SCHEDULED_DEPARTURE',\n",
    "       'DEPARTURE_TIME', 'DEPARTURE_DELAY', 'SCHEDULED_TIME', 'ELAPSED_TIME',\n",
    "       'DISTANCE', 'SCHEDULED_ARRIVAL', 'ARRIVAL_TIME', 'ARRIVAL_DELAY']]"
   ]
  },
  {
   "cell_type": "code",
   "execution_count": null,
   "metadata": {},
   "outputs": [],
   "source": [
    "flights_step_2.shape\n"
   ]
  },
  {
   "cell_type": "markdown",
   "metadata": {},
   "source": [
    "# Save Data!"
   ]
  },
  {
   "cell_type": "code",
   "execution_count": null,
   "metadata": {},
   "outputs": [],
   "source": [
    "flights_step_2.to_csv('flights_step_2.csv')\n",
    "flights_step_2.shape"
   ]
  },
  {
   "cell_type": "code",
   "execution_count": null,
   "metadata": {},
   "outputs": [],
   "source": []
  }
 ],
 "metadata": {
  "kernelspec": {
   "display_name": "Python 3",
   "language": "python",
   "name": "python3"
  },
  "language_info": {
   "codemirror_mode": {
    "name": "ipython",
    "version": 3
   },
   "file_extension": ".py",
   "mimetype": "text/x-python",
   "name": "python",
   "nbconvert_exporter": "python",
   "pygments_lexer": "ipython3",
   "version": "3.6.9"
  }
 },
 "nbformat": 4,
 "nbformat_minor": 2
}
